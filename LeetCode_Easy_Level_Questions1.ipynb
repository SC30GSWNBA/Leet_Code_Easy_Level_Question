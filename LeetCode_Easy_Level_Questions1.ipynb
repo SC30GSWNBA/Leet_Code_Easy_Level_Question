{
  "nbformat": 4,
  "nbformat_minor": 0,
  "metadata": {
    "colab": {
      "provenance": [],
      "collapsed_sections": []
    },
    "kernelspec": {
      "name": "python3",
      "display_name": "Python 3"
    },
    "language_info": {
      "name": "python"
    }
  },
  "cells": [
    {
      "cell_type": "markdown",
      "source": [
        "**1. Two Sum**\n",
        "\n",
        "Given an array of integers nums and an integer target, return indices of the two numbers such that they add up to target.\n",
        "\n",
        "You may assume that each input would have exactly one solution, and you may not use the same element twice.\n",
        "\n",
        "You can return the answer in any order.\n",
        "\n",
        " \n",
        "\n",
        "**Example 1:**\n",
        "\n",
        "Input: \n",
        "\n",
        "    nums = [2,7,11,15], target = 9\n",
        "Output: \n",
        "\n",
        "    [0,1]\n",
        "\n",
        "Explanation:\n",
        "\n",
        "    Because nums[0] + nums[1] == 9, we return [0, 1].\n",
        "**Example 2:**\n",
        "\n",
        "Input: \n",
        "\n",
        "    nums = [3,2,4], target = 6\n",
        "\n",
        "Output: \n",
        "\n",
        "    [1,2]\n",
        "**Example 3:**\n",
        "\n",
        "Input: \n",
        "\n",
        "    nums = [3,3], target = 6\n",
        "Output: \n",
        "\n",
        "    [0,1]\n",
        " \n",
        "\n",
        "**Constraints:**\n",
        "\n",
        "    2 <= nums.length <= 104\n",
        "    -109 <= nums[i] <= 109\n",
        "    -109 <= target <= 109\n",
        "Only one valid answer exists.\n",
        " \n",
        "\n",
        "**Follow-up:** Can you come up with an algorithm that is less than O(n^2) time complexity?"
      ],
      "metadata": {
        "id": "mNbIXIzECkWX"
      }
    },
    {
      "cell_type": "code",
      "source": [
        "from typing import List\n",
        "\n",
        "class Solution:\n",
        "    def twoSum(self, nums: List[int], target: int) -> List[int]:\n",
        "        \n",
        "        idx_val = {}\n",
        "        \n",
        "        for idx, val in enumerate(nums):\n",
        "            \n",
        "            if target - val in idx_val:\n",
        "                \n",
        "                return [idx_val[target - val], idx]\n",
        "            \n",
        "            else:\n",
        "                \n",
        "                idx_val[val] = idx"
      ],
      "metadata": {
        "id": "9a-hG-ebDWre"
      },
      "execution_count": 6,
      "outputs": []
    },
    {
      "cell_type": "code",
      "source": [
        "if __name__ == '__main__':\n",
        "  X = Solution()\n",
        "  print(X.twoSum([2,7,11,15], 9))\n",
        "  print(X.twoSum([3,2,4], 6))\n",
        "  print(X.twoSum([3,3],6))"
      ],
      "metadata": {
        "colab": {
          "base_uri": "https://localhost:8080/"
        },
        "id": "AXmK0UW7ctIf",
        "outputId": "29a0f2e1-cc42-4de6-dd41-6349a28fcc36"
      },
      "execution_count": 7,
      "outputs": [
        {
          "output_type": "stream",
          "name": "stdout",
          "text": [
            "[0, 1]\n",
            "[1, 2]\n",
            "[0, 1]\n"
          ]
        }
      ]
    },
    {
      "cell_type": "markdown",
      "source": [
        "**9. Palindrome Number**\n",
        "\n",
        "Given an integer x, return true if x is palindrome integer.\n",
        "\n",
        "An integer is a palindrome when it reads the same backward as forward.\n",
        "\n",
        "For example, 121 is a palindrome while 123 is not.\n",
        " \n",
        "\n",
        "**Example 1:**\n",
        "\n",
        "Input: \n",
        "\n",
        "    x = 121\n",
        "Output: \n",
        "\n",
        "    true\n",
        "Explanation:\n",
        "\n",
        "    121 reads as 121 from left to right and from right to left.\n",
        "**Example 2:**\n",
        "\n",
        "Input: \n",
        "\n",
        "    x = -121\n",
        "Output: \n",
        "\n",
        "    false\n",
        "Explanation:\n",
        "\n",
        "    From left to right, it reads -121. From right to left, it becomes 121-. Therefore it is not a palindrome.\n",
        "**Example 3:**\n",
        "\n",
        "Input: \n",
        "\n",
        "    x = 10\n",
        "Output: \n",
        "\n",
        "    false\n",
        "Explanation:\n",
        "\n",
        "    Reads 01 from right to left. Therefore it is not a palindrome.\n",
        " \n",
        "\n",
        "**Constraints:**\n",
        "\n",
        "    -231 <= x <= 231 - 1\n",
        " \n",
        "\n",
        "**Follow up:** Could you solve it without converting the integer to a string?"
      ],
      "metadata": {
        "id": "OucTQ00IDerg"
      }
    },
    {
      "cell_type": "code",
      "source": [
        "class Solution:\n",
        "    def isPalindrome(self, x: int) -> bool:\n",
        "        \n",
        "        x = str(x)\n",
        "        \n",
        "        var = True\n",
        "        \n",
        "        i = 0\n",
        "        j = len(x)-1\n",
        "        \n",
        "        while i < j:\n",
        "            \n",
        "            if x[i] != x[j]:\n",
        "                \n",
        "                var = False\n",
        "                break\n",
        "                \n",
        "            i += 1\n",
        "            j -= 1\n",
        "            \n",
        "        return var"
      ],
      "metadata": {
        "id": "aQh3M4UaEHkc"
      },
      "execution_count": 8,
      "outputs": []
    },
    {
      "cell_type": "code",
      "source": [
        "if __name__ == '__main__':\n",
        "  X = Solution()\n",
        "  print(X.isPalindrome(121))\n",
        "  print(X.isPalindrome(-121))\n",
        "  print(X.isPalindrome(10))"
      ],
      "metadata": {
        "colab": {
          "base_uri": "https://localhost:8080/"
        },
        "id": "V-JHyrkage2O",
        "outputId": "52a50996-747a-409f-f784-8cddcd651a2c"
      },
      "execution_count": 9,
      "outputs": [
        {
          "output_type": "stream",
          "name": "stdout",
          "text": [
            "True\n",
            "False\n",
            "False\n"
          ]
        }
      ]
    },
    {
      "cell_type": "markdown",
      "source": [
        "**125. Valid Palindrome**\n",
        "\n",
        "A phrase is a palindrome if, after converting all uppercase letters into lowercase letters and removing all non-alphanumeric characters, it reads the same forward and backward. Alphanumeric characters include letters and numbers.\n",
        "\n",
        "Given a string s, return true if it is a palindrome, or false otherwise.\n",
        "\n",
        "\n",
        "**Example 1:**\n",
        "\n",
        "Input: \n",
        "\n",
        "    s = \"A man, a plan, a canal: Panama\"\n",
        "Output: \n",
        "\n",
        "    true\n",
        "Explanation: \n",
        "\n",
        "    \"amanaplanacanalpanama\" is a palindrome.\n",
        "**Example 2:**\n",
        "\n",
        "Input: \n",
        "\n",
        "    s = \"race a car\"\n",
        "Output: \n",
        "\n",
        "    false\n",
        "Explanation: \n",
        "\n",
        "    \"raceacar\" is not a palindrome.\n",
        "**Example 3:**\n",
        "\n",
        "Input: \n",
        "\n",
        "    s = \" \"\n",
        "Output: \n",
        "\n",
        "    true\n",
        "Explanation:\n",
        "\n",
        "    s is an empty string \"\" after removing non-alphanumeric characters.\n",
        "Since an empty string reads the same forward and backward, it is a palindrome.\n",
        " \n",
        "\n",
        "**Constraints:**\n",
        "\n",
        "    1 <= s.length <= 2 * 105\n",
        "    s consists only of printable ASCII characters."
      ],
      "metadata": {
        "id": "eECLsUHiEUdm"
      }
    },
    {
      "cell_type": "code",
      "source": [
        "# Solution-1\n",
        "\n",
        "class Solution:\n",
        "    def isPalindrome(self, s: str) -> bool:\n",
        "\n",
        "        s = s.lower()\n",
        "    \n",
        "        i = 0\n",
        "        j = len(s)-1\n",
        "        \n",
        "        while i < j:\n",
        "        \n",
        "            if not s[i].isalnum():\n",
        "\n",
        "                i += 1\n",
        "\n",
        "            elif not s[j].isalnum():\n",
        "\n",
        "                j -= 1\n",
        "\n",
        "            else:\n",
        "\n",
        "                if s[i] != s[j]:\n",
        "\n",
        "                    return False\n",
        "\n",
        "                else:\n",
        "\n",
        "                    i += 1\n",
        "                    j -= 1\n",
        "                \n",
        "        return True"
      ],
      "metadata": {
        "id": "BNo_fb0ZErr3"
      },
      "execution_count": 10,
      "outputs": []
    },
    {
      "cell_type": "code",
      "source": [
        "if __name__ == '__main__':\n",
        "  X = Solution()\n",
        "  print(X.isPalindrome(\"A man, a plan, a canal: Panama\"))\n",
        "  print(X.isPalindrome(\"race a car\"))\n",
        "  print(X.isPalindrome(\" \"))"
      ],
      "metadata": {
        "colab": {
          "base_uri": "https://localhost:8080/"
        },
        "id": "ZozGZ8UWg0RT",
        "outputId": "faecff32-a33e-4845-e165-3d52e889ed40"
      },
      "execution_count": 11,
      "outputs": [
        {
          "output_type": "stream",
          "name": "stdout",
          "text": [
            "True\n",
            "False\n",
            "True\n"
          ]
        }
      ]
    },
    {
      "cell_type": "code",
      "source": [
        "# Solution-2\n",
        "\n",
        "class Solution:\n",
        "    def isPalindrome(self, s: str) -> bool:\n",
        "        \n",
        "        s = s.lower()\n",
        "        \n",
        "        x = ''\n",
        "        \n",
        "        for i in range(len(s)):\n",
        "            \n",
        "            if (ord(s[i]) >= 97 and ord(s[i]) <= 122) or (ord(s[i]) >= 48 and ord(s[i]) <= 57):\n",
        "                \n",
        "                x += s[i]\n",
        "                \n",
        "        #var = True\n",
        "        \n",
        "        i = 0\n",
        "        j = len(x)-1\n",
        "        \n",
        "        while i < j:\n",
        "            \n",
        "            if x[i] != x[j]:\n",
        "                \n",
        "                return False\n",
        "                \n",
        "                break\n",
        "                \n",
        "            i += 1\n",
        "            j -= 1\n",
        "            \n",
        "        return True"
      ],
      "metadata": {
        "id": "NerddEijEw5M"
      },
      "execution_count": 12,
      "outputs": []
    },
    {
      "cell_type": "code",
      "source": [
        "if __name__ == '__main__':\n",
        "  X = Solution()\n",
        "  print(X.isPalindrome(\"A man, a plan, a canal: Panama\"))\n",
        "  print(X.isPalindrome(\"race a car\"))\n",
        "  print(X.isPalindrome(\" \"))"
      ],
      "metadata": {
        "colab": {
          "base_uri": "https://localhost:8080/"
        },
        "id": "1LQbt8bwg8N_",
        "outputId": "8a1ebacb-c74e-4cd0-c8e2-cd86371240e5"
      },
      "execution_count": 13,
      "outputs": [
        {
          "output_type": "stream",
          "name": "stdout",
          "text": [
            "True\n",
            "False\n",
            "True\n"
          ]
        }
      ]
    },
    {
      "cell_type": "markdown",
      "source": [
        "**344. Reverse String**\n",
        "\n",
        "Write a function that reverses a string. The input string is given as an array of characters s.\n",
        "\n",
        "You must do this by modifying the input array in-place with O(1) extra memory.\n",
        "\n",
        "\n",
        "**Example 1:**\n",
        "\n",
        "Input: \n",
        "\n",
        "    s = [\"h\",\"e\",\"l\",\"l\",\"o\"]\n",
        "Output: \n",
        "\n",
        "    [\"o\",\"l\",\"l\",\"e\",\"h\"]\n",
        "**Example 2:**\n",
        "\n",
        "Input: \n",
        "\n",
        "    s = [\"H\",\"a\",\"n\",\"n\",\"a\",\"h\"]\n",
        "Output: \n",
        "\n",
        "    [\"h\",\"a\",\"n\",\"n\",\"a\",\"H\"]\n",
        " \n",
        "\n",
        "**Constraints:**\n",
        "\n",
        "    1 <= s.length <= 105\n",
        "    s[i] is a printable ascii character."
      ],
      "metadata": {
        "id": "XXyjgTlIE93c"
      }
    },
    {
      "cell_type": "code",
      "source": [
        "from typing import List\n",
        "\n",
        "class Solution:\n",
        "    def reverseString(self, s: List[str]) -> None:\n",
        "        \"\"\"\n",
        "        Do not return anything, modify s in-place instead.\n",
        "        \"\"\"\n",
        "        \n",
        "        \n",
        "        i = 0\n",
        "        \n",
        "        j = len(s)-1\n",
        "        \n",
        "        while i < j:\n",
        "            \n",
        "            s[i],s[j] = s[j],s[i]\n",
        "            \n",
        "            i += 1\n",
        "            j -= 1\n",
        "\n",
        "        return s"
      ],
      "metadata": {
        "id": "pnu1A86TFW4p"
      },
      "execution_count": 14,
      "outputs": []
    },
    {
      "cell_type": "code",
      "source": [
        "if __name__ == '__main__':\n",
        "  X = Solution()\n",
        "  print(X.reverseString([\"h\",\"e\",\"l\",\"l\",\"o\"]))\n",
        "  print(X.reverseString([\"H\",\"a\",\"n\",\"n\",\"a\",\"h\"]))"
      ],
      "metadata": {
        "colab": {
          "base_uri": "https://localhost:8080/"
        },
        "id": "7Yb9f2E2hK1w",
        "outputId": "433f0e0b-8a8a-4cb4-b2cd-6b47a72ec1a2"
      },
      "execution_count": 15,
      "outputs": [
        {
          "output_type": "stream",
          "name": "stdout",
          "text": [
            "['o', 'l', 'l', 'e', 'h']\n",
            "['h', 'a', 'n', 'n', 'a', 'H']\n"
          ]
        }
      ]
    },
    {
      "cell_type": "markdown",
      "source": [
        "**367. Valid Perfect Square**\n",
        "\n",
        "Given a positive integer num, write a function which returns True if num is a perfect square else False.\n",
        "\n",
        "**Follow up:** Do not use any built-in library function such as sqrt.\n",
        "\n",
        "\n",
        "**Example 1:**\n",
        "\n",
        "Input: \n",
        "\n",
        "    num = 16\n",
        "Output: \n",
        "\n",
        "    true\n",
        "\n",
        "**Example 2:**\n",
        "\n",
        "Input: \n",
        "\n",
        "    num = 14\n",
        "Output: \n",
        "\n",
        "    false\n",
        " \n",
        "\n",
        "**Constraints:**\n",
        "\n",
        "    1 <= num <= 2^31 - 1"
      ],
      "metadata": {
        "id": "bEU7Cs_jFaRq"
      }
    },
    {
      "cell_type": "code",
      "source": [
        "class Solution:\n",
        "    def isPerfectSquare(self, num: int) -> bool:\n",
        "        \n",
        "        lb = 1\n",
        "        ub = num\n",
        "        \n",
        "        ans = None\n",
        "        \n",
        "        while lb <= ub:\n",
        "            \n",
        "            mid_val = (lb + ub)//2\n",
        "            \n",
        "            if mid_val ** 2 == num:\n",
        "                \n",
        "                ans = mid_val\n",
        "                \n",
        "                break\n",
        "                \n",
        "            elif mid_val ** 2 < num:\n",
        "                \n",
        "                lb = mid_val + 1\n",
        "                \n",
        "                ans = mid_val\n",
        "                \n",
        "            else:\n",
        "                \n",
        "                ub = mid_val - 1\n",
        "                \n",
        "        if ans * ans == num:\n",
        "            \n",
        "            return True\n",
        "        \n",
        "        else:\n",
        "            \n",
        "            return False"
      ],
      "metadata": {
        "id": "BHxOqythFvjx"
      },
      "execution_count": 16,
      "outputs": []
    },
    {
      "cell_type": "code",
      "source": [
        "if __name__ == '__main__':\n",
        "  X = Solution()\n",
        "  print(X.isPerfectSquare(16))\n",
        "  print(X.isPerfectSquare(14))"
      ],
      "metadata": {
        "colab": {
          "base_uri": "https://localhost:8080/"
        },
        "id": "IC1NhbmQhb4p",
        "outputId": "9ddd66df-386d-4252-be99-b3c2060dc920"
      },
      "execution_count": 17,
      "outputs": [
        {
          "output_type": "stream",
          "name": "stdout",
          "text": [
            "True\n",
            "False\n"
          ]
        }
      ]
    },
    {
      "cell_type": "markdown",
      "source": [
        "**14. Longest Common Prefix**\n",
        "\n",
        "Write a function to find the longest common prefix string amongst an array of strings.\n",
        "\n",
        "If there is no common prefix, return an empty string \"\".\n",
        "\n",
        "\n",
        "**Example 1:**\n",
        "\n",
        "Input: \n",
        "\n",
        "    strs = [\"flower\",\"flow\",\"flight\"]\n",
        "Output: \n",
        "\n",
        "    \"fl\"\n",
        "**Example 2:**\n",
        "\n",
        "Input: \n",
        "\n",
        "    strs = [\"dog\",\"racecar\",\"car\"]\n",
        "Output: \n",
        "\n",
        "    \"\"\n",
        "Explanation:\n",
        "\n",
        "    There is no common prefix among the input strings.\n",
        " \n",
        "\n",
        "**Constraints:**\n",
        "\n",
        "    1 <= strs.length <= 200\n",
        "    0 <= strs[i].length <= 200\n",
        "    strs[i] consists of only lowercase English letters."
      ],
      "metadata": {
        "id": "qIkO4UhDcH73"
      }
    },
    {
      "cell_type": "code",
      "source": [
        "from typing import List\n",
        "\n",
        "class Solution:\n",
        "    def longestCommonPrefix(self, strs: List[str]) -> str:\n",
        "        \n",
        "        lcp = ''\n",
        "        \n",
        "        if strs is None or len(strs) == 0:\n",
        "            \n",
        "            return lcp\n",
        "        \n",
        "        \n",
        "        # Finding the array element which is minimum in length\n",
        "        \n",
        "        min_len = len(strs[0]) # Assigning minimum length array to first array element in strs\n",
        "        \n",
        "        for i in range(1, len(strs)):\n",
        "            \n",
        "            min_len = min(min_len, len(strs[i]))\n",
        "        \n",
        "        \n",
        "        # Loop of the min_len of the array to find matchign strings\n",
        "        \n",
        "        for i in range(min_len):\n",
        "            \n",
        "            # Iterating over all the char to check the common characters in the string\n",
        "            string_check = strs[0][i]\n",
        "            \n",
        "            for j in range(0, len(strs)):\n",
        "                \n",
        "                if strs[j][i] != string_check:\n",
        "                    \n",
        "                    return lcp\n",
        "                \n",
        "            lcp += string_check\n",
        "            \n",
        "        return lcp"
      ],
      "metadata": {
        "id": "-darRdnqcZvU"
      },
      "execution_count": 18,
      "outputs": []
    },
    {
      "cell_type": "code",
      "source": [
        "if __name__ == '__main__':\n",
        "  X = Solution()\n",
        "  print(X.longestCommonPrefix([\"flower\",\"flow\",\"flight\"]))\n",
        "  print(X.longestCommonPrefix([\"dog\",\"racecar\",\"car\"]))"
      ],
      "metadata": {
        "colab": {
          "base_uri": "https://localhost:8080/"
        },
        "id": "l2ljBF4TcjBj",
        "outputId": "aa8ae66c-4b22-4b07-8a51-958422075668"
      },
      "execution_count": 19,
      "outputs": [
        {
          "output_type": "stream",
          "name": "stdout",
          "text": [
            "fl\n",
            "\n"
          ]
        }
      ]
    },
    {
      "cell_type": "markdown",
      "source": [
        "**58. Length of Last Word**\n",
        "\n",
        "Given a string s consisting of words and spaces, return the length of the last word in the string.\n",
        "\n",
        "A word is a maximal substring consisting of non-space characters only.\n",
        "\n",
        "\n",
        "**Example 1:**\n",
        "\n",
        "Input: \n",
        "\n",
        "    s = \"Hello World\"\n",
        "Output: \n",
        "\n",
        "    5\n",
        "Explanation: \n",
        "\n",
        "    The last word is \"World\" with length 5.\n",
        "**Example 2:**\n",
        "\n",
        "Input: \n",
        "\n",
        "    s = \"   fly me   to   the moon  \"\n",
        "Output: \n",
        "\n",
        "    4\n",
        "Explanation: \n",
        "\n",
        "    The last word is \"moon\" with length 4.\n",
        "**Example 3:**\n",
        "\n",
        "Input: \n",
        "\n",
        "    s = \"luffy is still joyboy\"\n",
        "Output: \n",
        "\n",
        "    6\n",
        "Explanation: \n",
        "\n",
        "    The last word is \"joyboy\" with length 6.\n",
        " \n",
        "\n",
        "**Constraints:**\n",
        "\n",
        "    1 <= s.length <= 104\n",
        "    s consists of only English letters and spaces ' '.\n",
        "    There will be at least one word in s."
      ],
      "metadata": {
        "id": "Fd_B5q__FC9l"
      }
    },
    {
      "cell_type": "code",
      "source": [
        "class Solution:\n",
        "    def lengthOfLastWord(self, s: str) -> int:\n",
        "        \n",
        "        return len(s.strip().split()[-1])"
      ],
      "metadata": {
        "id": "sdnOP6eiFCce"
      },
      "execution_count": 20,
      "outputs": []
    },
    {
      "cell_type": "code",
      "source": [
        "if __name__ == '__main__':\n",
        "  X = Solution()\n",
        "  print(X.lengthOfLastWord(\"Hello World\"))\n",
        "  print(X.lengthOfLastWord(\"   fly me   to   the moon  \"))\n",
        "  print(X.lengthOfLastWord(\"luffy is still joyboy\"))"
      ],
      "metadata": {
        "colab": {
          "base_uri": "https://localhost:8080/"
        },
        "id": "RoEzGkEnb44m",
        "outputId": "85d3a3ac-8966-4168-f826-926cd25f7cca"
      },
      "execution_count": 21,
      "outputs": [
        {
          "output_type": "stream",
          "name": "stdout",
          "text": [
            "5\n",
            "4\n",
            "6\n"
          ]
        }
      ]
    },
    {
      "cell_type": "markdown",
      "source": [
        "**66. Plus One**\n",
        "\n",
        "You are given a large integer represented as an integer array digits, where each digits[i] is the ith digit of the integer. The digits are ordered from most significant to least significant in left-to-right order. The large integer does not contain any leading 0's.\n",
        "\n",
        "Increment the large integer by one and return the resulting array of digits.\n",
        " \n",
        "**Example 1:**\n",
        "\n",
        "Input: \n",
        "\n",
        "    digits = [1,2,3]\n",
        "Output: \n",
        "\n",
        "    [1,2,4]\n",
        "Explanation: \n",
        "\n",
        "    The array represents the integer 123.\n",
        "\n",
        "Incrementing by one gives 123 + 1 = 124.\n",
        "\n",
        "Thus, the result should be [1,2,4].\n",
        "\n",
        "**Example 2:**\n",
        "\n",
        "Input: \n",
        "\n",
        "    digits = [4,3,2,1]\n",
        "Output: \n",
        "\n",
        "    [4,3,2,2]\n",
        "Explanation: \n",
        "\n",
        "    The array represents the integer 4321.\n",
        "\n",
        "Incrementing by one gives 4321 + 1 = 4322.\n",
        "\n",
        "Thus, the result should be [4,3,2,2].\n",
        "\n",
        "**Example 3:**\n",
        "\n",
        "Input: \n",
        "\n",
        "    digits = [9]\n",
        "Output: \n",
        "\n",
        "    [1,0]\n",
        "Explanation: \n",
        "\n",
        "    The array represents the integer 9.\n",
        "\n",
        "Incrementing by one gives 9 + 1 = 10.\n",
        "\n",
        "Thus, the result should be [1,0].\n",
        " \n",
        "\n",
        "**Constraints:**\n",
        "\n",
        "    1 <= digits.length <= 100\n",
        "    0 <= digits[i] <= 9\n",
        "    digits does not contain any leading 0's."
      ],
      "metadata": {
        "id": "E0DiNyGrcRbV"
      }
    },
    {
      "cell_type": "code",
      "source": [
        "from typing import List\n",
        "\n",
        "class Solution:\n",
        "    def plusOne(self, digits: List[int]) -> List[int]:\n",
        "        \n",
        "        n = len(digits)\n",
        "        \n",
        "        total = 0\n",
        "        \n",
        "        for i in range(n):\n",
        "            \n",
        "            total += digits[i] * (10 ** (n-1-i))\n",
        "            \n",
        "        \n",
        "        total += 1\n",
        "        \n",
        "        output = []\n",
        "        \n",
        "        while total != 0:\n",
        "            \n",
        "            rem = total%10\n",
        "            \n",
        "            total = total//10\n",
        "            \n",
        "            output.insert(0, rem)\n",
        "            \n",
        "        return output"
      ],
      "metadata": {
        "id": "CLkajlLVc1ls"
      },
      "execution_count": 22,
      "outputs": []
    },
    {
      "cell_type": "code",
      "source": [
        "if __name__ == '__main__':\n",
        "  X = Solution()\n",
        "  print(X.plusOne([1,2,3]))\n",
        "  print(X.plusOne([4,3,2,1]))\n",
        "  print(X.plusOne([9]))"
      ],
      "metadata": {
        "colab": {
          "base_uri": "https://localhost:8080/"
        },
        "id": "MgXzUsyfc4wE",
        "outputId": "5345860f-9d96-4108-a4f8-1f84c92325c2"
      },
      "execution_count": 23,
      "outputs": [
        {
          "output_type": "stream",
          "name": "stdout",
          "text": [
            "[1, 2, 4]\n",
            "[4, 3, 2, 2]\n",
            "[1, 0]\n"
          ]
        }
      ]
    }
  ]
}