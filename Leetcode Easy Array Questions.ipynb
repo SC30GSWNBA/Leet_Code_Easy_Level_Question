{
 "cells": [
  {
   "cell_type": "markdown",
   "id": "4292a3f9-6e80-45ab-9558-ba88f5babb5a",
   "metadata": {},
   "source": [
    "# 1. Two Sum"
   ]
  },
  {
   "cell_type": "code",
   "execution_count": 32,
   "id": "0a8f1002-846a-486f-a6ec-7b60bdc2dd99",
   "metadata": {},
   "outputs": [],
   "source": [
    "# Given an array of integers nums and an integer target, return indices of the two numbers such that they add up to target.\n",
    "\n",
    "# You may assume that each input would have exactly one solution, and you may not use the same element twice.\n",
    "\n",
    "# You can return the answer in any order.\n",
    "\n",
    "# Example 1:\n",
    "\n",
    "# Input: nums = [2,7,11,15], target = 9\n",
    "# Output: [0,1]\n",
    "# Explanation: Because nums[0] + nums[1] == 9, we return [0, 1].\n",
    "# Example 2:\n",
    "\n",
    "# Input: nums = [3,2,4], target = 6\n",
    "# Output: [1,2]\n",
    "# Example 3:\n",
    "\n",
    "# Input: nums = [3,3], target = 6\n",
    "# Output: [0,1]\n",
    " \n",
    "\n",
    "# Constraints:\n",
    "\n",
    "# 2 <= nums.length <= 10^4\n",
    "# -10^9 <= nums[i] <= 10^9\n",
    "# -10^9 <= target <= 10^9\n",
    "# Only one valid answer exists.\n",
    " \n",
    "\n",
    "# Follow-up: Can you come up with an algorithm that is less than O(n^2) time complexity?"
   ]
  },
  {
   "cell_type": "code",
   "execution_count": 33,
   "id": "d7691956-f6ce-4778-98e3-9811d049f6a4",
   "metadata": {},
   "outputs": [],
   "source": [
    "class Solution:\n",
    "    \n",
    "    def twoSum(self, nums, target):\n",
    "\n",
    "        # Defining a dictionary for value, index as key-value pair\n",
    "        \n",
    "        store_dict = {}\n",
    "\n",
    "        for idx, num in enumerate(nums):\n",
    "\n",
    "            if target-num in store_dict:\n",
    "\n",
    "                return [store_dict[target-num], idx]\n",
    "\n",
    "            else:\n",
    "\n",
    "                store_dict[num] = idx"
   ]
  },
  {
   "cell_type": "code",
   "execution_count": 34,
   "id": "bc1e4a4a-2b69-4f94-a27f-e8014fff2443",
   "metadata": {},
   "outputs": [
    {
     "name": "stdout",
     "output_type": "stream",
     "text": [
      "[0, 1]\n",
      "[1, 2]\n",
      "[0, 1]\n"
     ]
    }
   ],
   "source": [
    "X = Solution()\n",
    "\n",
    "print(X.twoSum([2,7,11,15], 9))\n",
    "print(X.twoSum([3,2,4], 6))\n",
    "print(X.twoSum([3,3], 6))"
   ]
  },
  {
   "cell_type": "markdown",
   "id": "1617292b-31b4-4c1b-9002-ff0ff507a7c8",
   "metadata": {},
   "source": [
    "# 26. Remove Duplicates from Sorted Array"
   ]
  },
  {
   "cell_type": "code",
   "execution_count": 36,
   "id": "070d9ff9-5dfc-4f8e-b0f6-b1e611737edf",
   "metadata": {},
   "outputs": [],
   "source": [
    "# Given an integer array nums sorted in non-decreasing order, remove the duplicates in-place such that each \n",
    "# unique element appears only once. \n",
    "# The relative order of the elements should be kept the same. Then return the number of unique elements in nums.\n",
    "\n",
    "# Consider the number of unique elements of nums to be k, to get accepted, you need to do the following things:\n",
    "\n",
    "# Change the array nums such that the first k elements of nums contain the unique elements in the order they were \n",
    "# present in nums initially. \n",
    "# The remaining elements of nums are not important as well as the size of nums.\n",
    "# Return k.\n",
    "# Custom Judge:\n",
    "\n",
    "# The judge will test your solution with the following code:\n",
    "\n",
    "# int[] nums = [...]; // Input array\n",
    "# int[] expectedNums = [...]; // The expected answer with correct length\n",
    "\n",
    "# int k = removeDuplicates(nums); // Calls your implementation\n",
    "\n",
    "# assert k == expectedNums.length;\n",
    "# for (int i = 0; i < k; i++) {\n",
    "#     assert nums[i] == expectedNums[i];\n",
    "# }\n",
    "# If all assertions pass, then your solution will be accepted.\n",
    "\n",
    " \n",
    "\n",
    "# Example 1:\n",
    "\n",
    "# Input: nums = [1,1,2]\n",
    "# Output: 2, nums = [1,2,_]\n",
    "# Explanation: Your function should return k = 2, with the first two elements of nums being 1 and 2 respectively.\n",
    "# It does not matter what you leave beyond the returned k (hence they are underscores).\n",
    "# Example 2:\n",
    "\n",
    "# Input: nums = [0,0,1,1,1,2,2,3,3,4]\n",
    "# Output: 5, nums = [0,1,2,3,4,_,_,_,_,_]\n",
    "# Explanation: Your function should return k = 5, with the first five elements of nums being 0, 1, 2, 3, \n",
    "# and 4 respectively.\n",
    "# It does not matter what you leave beyond the returned k (hence they are underscores).\n",
    " \n",
    "\n",
    "# Constraints:\n",
    "\n",
    "# 1 <= nums.length <= 3 * 10^4\n",
    "# -100 <= nums[i] <= 100\n",
    "# nums is sorted in non-decreasing order."
   ]
  },
  {
   "cell_type": "code",
   "execution_count": 37,
   "id": "9c9ef96a-e752-4e28-9f72-5f2ff38a386a",
   "metadata": {},
   "outputs": [],
   "source": [
    "class Solution:\n",
    "    \n",
    "    def removeDuplicates(self, nums):\n",
    "\n",
    "        # Initialize 1st pointer \n",
    "        \n",
    "        pointer_1st = 1\n",
    "\n",
    "        for pointer_2nd in range(1, len(nums)):\n",
    "\n",
    "            #Condition to Check for Unique Elements\n",
    "\n",
    "            if nums[pointer_2nd] != nums[pointer_1st]:\n",
    "\n",
    "                # Place the Unique Element and Increment position of 1st Pointer\n",
    "\n",
    "                nums[pointer_1st] = nums[pointer_2nd]\n",
    "\n",
    "                pointer_1st += 1\n",
    "\n",
    "        # Return count of unique elements\n",
    "        \n",
    "        return pointer_1st\n",
    "\n",
    "        "
   ]
  },
  {
   "cell_type": "code",
   "execution_count": 38,
   "id": "c3e09c47-87d9-4bfa-9712-6a17174f0fef",
   "metadata": {},
   "outputs": [
    {
     "name": "stdout",
     "output_type": "stream",
     "text": [
      "2\n",
      "7\n"
     ]
    }
   ],
   "source": [
    "X = Solution()\n",
    "\n",
    "print(X.removeDuplicates([1,1,2]))\n",
    "print(X.removeDuplicates([0,0,1,1,1,2,2,3,3,4]))"
   ]
  },
  {
   "cell_type": "markdown",
   "id": "78fc5d9c-bd1a-4f83-b920-1502e74783db",
   "metadata": {},
   "source": [
    "# 27. Remove Element"
   ]
  },
  {
   "cell_type": "code",
   "execution_count": 40,
   "id": "7244c51f-579c-46d8-bc91-f53e71b911eb",
   "metadata": {},
   "outputs": [],
   "source": [
    "# Given an integer array nums and an integer val, remove all occurrences of val in nums in-place. \n",
    "# The order of the elements may be changed. \n",
    "# Then return the number of elements in nums which are not equal to val.\n",
    "\n",
    "# Consider the number of elements in nums which are not equal to val be k, to get accepted, \n",
    "# you need to do the following things:\n",
    "\n",
    "# Change the array nums such that the first k elements of nums contain the elements which are not equal to val. \n",
    "# The remaining elements of nums are not important as well as the size of nums.\n",
    "# Return k.\n",
    "\n",
    "# Custom Judge:\n",
    "\n",
    "# The judge will test your solution with the following code:\n",
    "\n",
    "# int[] nums = [...]; // Input array\n",
    "# int val = ...; // Value to remove\n",
    "# int[] expectedNums = [...]; // The expected answer with correct length.\n",
    "#                             // It is sorted with no values equaling val.\n",
    "\n",
    "# int k = removeElement(nums, val); // Calls your implementation\n",
    "\n",
    "# assert k == expectedNums.length;\n",
    "# sort(nums, 0, k); // Sort the first k elements of nums\n",
    "# for (int i = 0; i < actualLength; i++) {\n",
    "#     assert nums[i] == expectedNums[i];\n",
    "# }\n",
    "# If all assertions pass, then your solution will be accepted.\n",
    "\n",
    " \n",
    "\n",
    "# Example 1:\n",
    "\n",
    "# Input: nums = [3,2,2,3], val = 3\n",
    "# Output: 2, nums = [2,2,_,_]\n",
    "# Explanation: Your function should return k = 2, with the first two elements of nums being 2.\n",
    "# It does not matter what you leave beyond the returned k (hence they are underscores).\n",
    "# Example 2:\n",
    "\n",
    "# Input: nums = [0,1,2,2,3,0,4,2], val = 2\n",
    "# Output: 5, nums = [0,1,4,0,3,_,_,_]\n",
    "# Explanation: Your function should return k = 5, with the first five elements of nums containing 0, 0, 1, 3, and 4.\n",
    "# Note that the five elements can be returned in any order.\n",
    "# It does not matter what you leave beyond the returned k (hence they are underscores).\n",
    " \n",
    "\n",
    "# Constraints:\n",
    "\n",
    "# 0 <= nums.length <= 100\n",
    "# 0 <= nums[i] <= 50\n",
    "# 0 <= val <= 100"
   ]
  },
  {
   "cell_type": "code",
   "execution_count": 41,
   "id": "06e35b4b-922c-4215-ad3b-eb118c17ec93",
   "metadata": {},
   "outputs": [],
   "source": [
    "class Solution:\n",
    "    \n",
    "    def removeElement(self, nums, val):\n",
    "\n",
    "        # Initialize 1st pointer \n",
    "        \n",
    "        pointer_1st = 0\n",
    "\n",
    "        for pointer_2nd in range(len(nums)):\n",
    "\n",
    "            # #Condition to Check for Specific Value\n",
    "\n",
    "            if nums[pointer_2nd] != val:\n",
    "\n",
    "                # Place the Specific Value and Increment position of 1st Pointer\n",
    "\n",
    "                nums[pointer_1st] = nums[pointer_2nd]\n",
    "\n",
    "                pointer_1st += 1\n",
    "\n",
    "        return pointer_1st\n",
    "        "
   ]
  },
  {
   "cell_type": "code",
   "execution_count": 42,
   "id": "30271b0a-1521-4aa4-a325-556983d6cfde",
   "metadata": {},
   "outputs": [
    {
     "name": "stdout",
     "output_type": "stream",
     "text": [
      "2\n",
      "8\n",
      "2\n",
      "5\n"
     ]
    }
   ],
   "source": [
    "X = Solution()\n",
    "\n",
    "print(X.removeElement([1,1,2],2))\n",
    "print(X.removeElement([0,0,1,1,1,2,2,3,3,4],2))\n",
    "print(X.removeElement([3,2,2,3],3))\n",
    "print(X.removeElement([0,1,2,2,3,0,4,2],2))"
   ]
  },
  {
   "cell_type": "markdown",
   "id": "f24b4bb0-9cac-4607-b7ef-0d40befa8e1f",
   "metadata": {},
   "source": [
    "# 35. Search Insert Position"
   ]
  },
  {
   "cell_type": "code",
   "execution_count": 44,
   "id": "2c11df1d-a7ac-46d2-bb27-54f8e5487e5e",
   "metadata": {},
   "outputs": [],
   "source": [
    "# Given a sorted array of distinct integers and a target value, return the index if the target is found. \n",
    "# If not, return the index where it would be if it were inserted in order.\n",
    "\n",
    "# You must write an algorithm with O(log n) runtime complexity.\n",
    "\n",
    " \n",
    "\n",
    "# Example 1:\n",
    "\n",
    "# Input: nums = [1,3,5,6], target = 5\n",
    "# Output: 2\n",
    "# Example 2:\n",
    "\n",
    "# Input: nums = [1,3,5,6], target = 2\n",
    "# Output: 1\n",
    "# Example 3:\n",
    "\n",
    "# Input: nums = [1,3,5,6], target = 7\n",
    "# Output: 4\n",
    " \n",
    "\n",
    "# Constraints:\n",
    "\n",
    "# 1 <= nums.length <= 10^4\n",
    "# -10^4 <= nums[i] <= 10^4\n",
    "# nums contains distinct values sorted in ascending order.\n",
    "# -10^4 <= target <= 10^4"
   ]
  },
  {
   "cell_type": "code",
   "execution_count": 45,
   "id": "46d2e177-6e3f-4b0c-b4ec-e49ed80c5463",
   "metadata": {},
   "outputs": [],
   "source": [
    "class Solution:\n",
    "    \n",
    "    def searchInsert(self, nums, target):\n",
    "\n",
    "        left_index = 0\n",
    "\n",
    "        right_index = len(nums) - 1\n",
    "\n",
    "        while left_index <= right_index:\n",
    "\n",
    "            mid_index = (left_index + right_index) // 2\n",
    "\n",
    "            if nums[mid_index] == target:\n",
    "\n",
    "                return mid_index\n",
    "\n",
    "            elif nums[mid_index] > target:\n",
    "\n",
    "                right_index = mid_index - 1\n",
    "\n",
    "            else:\n",
    "\n",
    "                left_index = mid_index + 1\n",
    "\n",
    "        return left_index\n",
    "        "
   ]
  },
  {
   "cell_type": "code",
   "execution_count": 46,
   "id": "95295433-5ed3-41e0-aea1-20189156289f",
   "metadata": {},
   "outputs": [
    {
     "name": "stdout",
     "output_type": "stream",
     "text": [
      "2\n",
      "1\n",
      "4\n"
     ]
    }
   ],
   "source": [
    "X = Solution()\n",
    "\n",
    "print(X.searchInsert([1,3,5,6],5))\n",
    "print(X.searchInsert([1,3,5,6],2))\n",
    "print(X.searchInsert([1,3,5,6],7))"
   ]
  },
  {
   "cell_type": "markdown",
   "id": "2e0a46bd-c0e2-40e7-8b6b-b32c9ea7c586",
   "metadata": {},
   "source": [
    "# 88. Merge Sort Array"
   ]
  },
  {
   "cell_type": "code",
   "execution_count": 48,
   "id": "dee64e86-2518-4be5-a815-9a2e728fb6ef",
   "metadata": {},
   "outputs": [],
   "source": [
    "# You are given two integer arrays nums1 and nums2, sorted in non-decreasing order, and two integers m and n, \n",
    "# representing the number of elements in nums1 and nums2 respectively.\n",
    "\n",
    "# Merge nums1 and nums2 into a single array sorted in non-decreasing order.\n",
    "\n",
    "# The final sorted array should not be returned by the function, but instead be stored inside the array nums1. \n",
    "# To accommodate this, nums1 has a length of m + n, where the first m elements denote the elements that should be merged, \n",
    "# and the last n elements are set to 0 and should be ignored. nums2 has a length of n.\n",
    "\n",
    " \n",
    "\n",
    "# Example 1:\n",
    "\n",
    "# Input: nums1 = [1,2,3,0,0,0], m = 3, nums2 = [2,5,6], n = 3\n",
    "# Output: [1,2,2,3,5,6]\n",
    "# Explanation: The arrays we are merging are [1,2,3] and [2,5,6].\n",
    "# The result of the merge is [1,2,2,3,5,6] with the underlined elements coming from nums1.\n",
    "# Example 2:\n",
    "\n",
    "# Input: nums1 = [1], m = 1, nums2 = [], n = 0\n",
    "# Output: [1]\n",
    "# Explanation: The arrays we are merging are [1] and [].\n",
    "# The result of the merge is [1].\n",
    "# Example 3:\n",
    "\n",
    "# Input: nums1 = [0], m = 0, nums2 = [1], n = 1\n",
    "# Output: [1]\n",
    "# Explanation: The arrays we are merging are [] and [1].\n",
    "# The result of the merge is [1].\n",
    "# Note that because m = 0, there are no elements in nums1. The 0 is only there to ensure the merge result can fit in nums1.\n",
    " \n",
    "\n",
    "# Constraints:\n",
    "\n",
    "# nums1.length == m + n\n",
    "# nums2.length == n\n",
    "# 0 <= m, n <= 200\n",
    "# 1 <= m + n <= 200\n",
    "# -109 <= nums1[i], nums2[j] <= 109\n",
    " \n",
    "\n",
    "# Follow up: Can you come up with an algorithm that runs in O(m + n) time?"
   ]
  },
  {
   "cell_type": "code",
   "execution_count": 49,
   "id": "969defa7-947a-4513-a676-fd8daea43267",
   "metadata": {},
   "outputs": [],
   "source": [
    "class Solution:\n",
    "    \n",
    "    def merge(self, nums1, m, nums2, n):\n",
    "        \"\"\"\n",
    "        Do not return anything, modify nums1 in-place instead.\n",
    "        \"\"\"\n",
    "\n",
    "        # Points to the last element in nums1\n",
    "        m_index = m - 1\n",
    "\n",
    "        # Points to the last element in nums2\n",
    "        n_index = n - 1\n",
    "\n",
    "        # Points to the last index in nums1\n",
    "        right_index = m + n - 1\n",
    "\n",
    "        while n_index >= 0:\n",
    "\n",
    "            \n",
    "            # Check if element at m_index in nums1 is greater than the element at n_index in nums2\n",
    "            if m_index >= 0 and nums1[m_index] > nums2[n_index]:\n",
    "\n",
    "                nums1[right_index] = nums1[m_index]\n",
    "\n",
    "                m_index -= 1\n",
    "\n",
    "            # Check if element at n_index in nums2 is greater than the element at m_index in nums1\n",
    "            else:\n",
    "\n",
    "                nums1[right_index] = nums2[n_index]\n",
    "\n",
    "                n_index -= 1\n",
    "\n",
    "            right_index -= 1\n",
    "\n",
    "        return nums1\n",
    "        \n"
   ]
  },
  {
   "cell_type": "code",
   "execution_count": 50,
   "id": "d1119af7-47b8-4f39-a134-5366878ed8ef",
   "metadata": {},
   "outputs": [
    {
     "name": "stdout",
     "output_type": "stream",
     "text": [
      "[1, 2, 2, 3, 5, 6]\n",
      "[1]\n",
      "[1]\n"
     ]
    }
   ],
   "source": [
    "X = Solution()\n",
    "\n",
    "print(X.merge([1,2,3,0,0,0], 3, [2,5,6], 3))\n",
    "print(X.merge([1], 1, [], 0))\n",
    "print(X.merge([0], 0, [1], 1))"
   ]
  },
  {
   "cell_type": "markdown",
   "id": "c846795e-574b-4936-aaeb-a915cc36e481",
   "metadata": {},
   "source": [
    "# 118. Pascal's Triangle"
   ]
  },
  {
   "cell_type": "code",
   "execution_count": 52,
   "id": "434f1acb-36b1-461e-8a44-26fd3d2e801b",
   "metadata": {},
   "outputs": [],
   "source": [
    "# Given an integer numRows, return the first numRows of Pascal's triangle.\n",
    "\n",
    "# In Pascal's triangle, each number is the sum of the two numbers directly above it as shown:\n",
    "\n",
    "# Example 1:\n",
    "\n",
    "# Input: numRows = 5\n",
    "# Output: [[1],[1,1],[1,2,1],[1,3,3,1],[1,4,6,4,1]]\n",
    "# Example 2:\n",
    "\n",
    "# Input: numRows = 1\n",
    "# Output: [[1]]\n",
    " \n",
    "\n",
    "# Constraints:\n",
    "\n",
    "# 1 <= numRows <= 30"
   ]
  },
  {
   "cell_type": "code",
   "execution_count": 53,
   "id": "295652b7-9ac5-48df-9cc2-4a3d4e45c018",
   "metadata": {},
   "outputs": [],
   "source": [
    "class Solution:\n",
    "    \n",
    "    def generate(self, numRows):\n",
    "\n",
    "        # Creating the resulting array with the 1st output\n",
    "\n",
    "        result = [[1]]\n",
    "\n",
    "        for _ in range(numRows - 1):\n",
    "\n",
    "            # Creating a dummy row list which will help to implement Pasacl's triangle\n",
    "\n",
    "            dummy_row = [0] + result[-1] + [0]\n",
    "\n",
    "            # Creating a row sum list which will store sum of ith and (i+1)th value\n",
    "\n",
    "            row_sum_list = []\n",
    "\n",
    "            for i in range(len(result[-1])+1):\n",
    "\n",
    "                # Variable to store sum of ith and (i+1)th value\n",
    "\n",
    "                row_sum = dummy_row[i] + dummy_row[i+1]\n",
    "\n",
    "                row_sum_list.append(row_sum)\n",
    "\n",
    "            # Appending the output of each row of Pascal's triangle\n",
    "\n",
    "            result.append(row_sum_list)\n",
    "\n",
    "        return result"
   ]
  },
  {
   "cell_type": "code",
   "execution_count": 54,
   "id": "6d82c5e5-4818-4f6b-b280-deba99abe175",
   "metadata": {},
   "outputs": [
    {
     "name": "stdout",
     "output_type": "stream",
     "text": [
      "[[1], [1, 1], [1, 2, 1], [1, 3, 3, 1], [1, 4, 6, 4, 1]]\n",
      "[[1], [1, 1], [1, 2, 1], [1, 3, 3, 1], [1, 4, 6, 4, 1], [1, 5, 10, 10, 5, 1], [1, 6, 15, 20, 15, 6, 1]]\n"
     ]
    }
   ],
   "source": [
    "X = Solution()\n",
    "\n",
    "print(X.generate(5))\n",
    "print(X.generate(7))"
   ]
  },
  {
   "cell_type": "markdown",
   "id": "1cf59c08-aed8-4e40-a7b9-38b7de20bcf7",
   "metadata": {},
   "source": [
    "# 119. Pascal's Triangle II"
   ]
  },
  {
   "cell_type": "code",
   "execution_count": 75,
   "id": "b4f3b108-cc3d-4351-b063-eb27bb1b3628",
   "metadata": {},
   "outputs": [],
   "source": [
    "# Given an integer rowIndex, return the rowIndexth (0-indexed) row of the Pascal's triangle.\n",
    "\n",
    "# In Pascal's triangle, each number is the sum of the two numbers directly above it as shown:\n",
    "\n",
    "# Example 1:\n",
    "\n",
    "# Input: rowIndex = 3\n",
    "# Output: [1,3,3,1]\n",
    "# Example 2:\n",
    "\n",
    "# Input: rowIndex = 0\n",
    "# Output: [1]\n",
    "# Example 3:\n",
    "\n",
    "# Input: rowIndex = 1\n",
    "# Output: [1,1]\n",
    " \n",
    "\n",
    "# Constraints:\n",
    "\n",
    "# 0 <= rowIndex <= 33\n",
    "\n",
    "# Follow up: Could you optimize your algorithm to use only O(rowIndex) extra space?"
   ]
  },
  {
   "cell_type": "code",
   "execution_count": 77,
   "id": "7dff22b0-b8b9-4b50-a5e4-9ffe669e2ff0",
   "metadata": {},
   "outputs": [],
   "source": [
    "class Solution:\n",
    "    \n",
    "    def getRow(self, rowIndex):\n",
    "\n",
    "        # Creating the array to store the final pascal's triangle output\n",
    "\n",
    "        result = [[1]]\n",
    "\n",
    "        # Creating array to store resultant output based on rowIndex\n",
    "        \n",
    "        row_sum_list = [1] # Edge case when the row index is zero\n",
    "        \n",
    "\n",
    "        for _ in range(rowIndex):\n",
    "\n",
    "            # Creating a dummy row list which will help to implement Pasacl's triangle\n",
    "\n",
    "            dummy_row = [0] + result[-1] + [0]\n",
    "\n",
    "            # Creating a row sum list which will store sum of ith and (i+1)th value\n",
    "\n",
    "            row_sum_list = []\n",
    "\n",
    "            for i in range(len(result[-1])+1):\n",
    "\n",
    "                # Variable to store sum of ith and (i+1)th value\n",
    "\n",
    "                row_sum = dummy_row[i] + dummy_row[i+1]\n",
    "\n",
    "                row_sum_list.append(row_sum)\n",
    "\n",
    "            # Appending the output of each row of Pascal's triangle\n",
    "\n",
    "            result.append(row_sum_list)\n",
    "\n",
    "        return row_sum_list"
   ]
  },
  {
   "cell_type": "code",
   "execution_count": 79,
   "id": "6aee928f-a73e-470e-8027-467ef36be964",
   "metadata": {},
   "outputs": [
    {
     "name": "stdout",
     "output_type": "stream",
     "text": [
      "[1, 3, 3, 1]\n",
      "[1]\n",
      "[1, 1]\n"
     ]
    }
   ],
   "source": [
    "X = Solution()\n",
    "\n",
    "print(X.getRow(3))\n",
    "print(X.getRow(0))\n",
    "print(X.getRow(1))"
   ]
  },
  {
   "cell_type": "markdown",
   "id": "102e4ad4-12e1-4ef7-8c81-809d9890c4e1",
   "metadata": {},
   "source": [
    "# 121. Best Time to Buy and Sell Stock"
   ]
  },
  {
   "cell_type": "code",
   "execution_count": 82,
   "id": "2d009ff3-76e7-4072-aa22-2011b44d9c8b",
   "metadata": {},
   "outputs": [],
   "source": [
    "# You are given an array prices where prices[i] is the price of a given stock on the ith day.\n",
    "\n",
    "# You want to maximize your profit by choosing a single day to buy one stock and choosing a different day in the \n",
    "# future to sell that stock.\n",
    "\n",
    "# Return the maximum profit you can achieve from this transaction. If you cannot achieve any profit, return 0.\n",
    "\n",
    "# Example 1:\n",
    "\n",
    "# Input: prices = [7,1,5,3,6,4]\n",
    "# Output: 5\n",
    "# Explanation: Buy on day 2 (price = 1) and sell on day 5 (price = 6), profit = 6-1 = 5.\n",
    "# Note that buying on day 2 and selling on day 1 is not allowed because you must buy before you sell.\n",
    "\n",
    "#Example 2:\n",
    "\n",
    "# Input: prices = [7,6,4,3,1]\n",
    "# Output: 0\n",
    "# Explanation: In this case, no transactions are done and the max profit = 0. \n",
    "\n",
    "# Constraints:\n",
    "\n",
    "# 1 <= prices.length <= 105\n",
    "# 0 <= prices[i] <= 104"
   ]
  },
  {
   "cell_type": "code",
   "execution_count": 86,
   "id": "bd9f951d-8e6f-4c1b-9448-25dbfb9e23f0",
   "metadata": {},
   "outputs": [],
   "source": [
    "class Solution:\n",
    "    \n",
    "    def maxProfit(self, prices):\n",
    "\n",
    "        buying_price = prices[0]\n",
    "\n",
    "        max_profit = 0\n",
    "\n",
    "        for val in prices[1:]:\n",
    "\n",
    "            if buying_price > val:\n",
    "\n",
    "                buying_price = val\n",
    "\n",
    "            max_profit = max(max_profit, val - buying_price)\n",
    "\n",
    "        return max_profit"
   ]
  },
  {
   "cell_type": "code",
   "execution_count": 88,
   "id": "69a68fc8-1bfe-4884-83b3-57ec0f05f321",
   "metadata": {},
   "outputs": [
    {
     "name": "stdout",
     "output_type": "stream",
     "text": [
      "5\n",
      "0\n",
      "9\n"
     ]
    }
   ],
   "source": [
    "X = Solution()\n",
    "\n",
    "print(X.maxProfit([7,1,5,3,6,4]))\n",
    "print(X.maxProfit([7,6,4,3,1]))\n",
    "print(X.maxProfit([7,6,4,3,1,6,7,2,10]))"
   ]
  },
  {
   "cell_type": "markdown",
   "id": "84bfbc59-c389-4ebf-8ad9-f02dd0a04854",
   "metadata": {},
   "source": [
    "# 136. Single Number"
   ]
  },
  {
   "cell_type": "code",
   "execution_count": 93,
   "id": "fc496c46-167c-4b10-80b7-3621a0168a1f",
   "metadata": {},
   "outputs": [],
   "source": [
    "# Given a non-empty array of integers nums, every element appears twice except for one. Find that single one.\n",
    "\n",
    "# You must implement a solution with a linear runtime complexity and use only constant extra space.\n",
    "\n",
    "# Example 1:\n",
    "\n",
    "# Input: nums = [2,2,1]\n",
    "# Output: 1\n",
    "\n",
    "# Example 2:\n",
    "\n",
    "# Input: nums = [4,1,2,1,2]\n",
    "# Output: 4\n",
    "\n",
    "# Example 3:\n",
    "\n",
    "# Input: nums = [1]\n",
    "# Output: 1\n",
    "\n",
    "# Constraints:\n",
    "\n",
    "# 1 <= nums.length <= 3 * 10^4\n",
    "# -3 * 10^4 <= nums[i] <= 3 * 10^4\n",
    "# Each element in the array appears twice except for one element which appears only once."
   ]
  },
  {
   "cell_type": "code",
   "execution_count": null,
   "id": "8e6d41f6-d0c0-4e77-b9a2-28cd20648730",
   "metadata": {},
   "outputs": [],
   "source": [
    "# 1st Solution"
   ]
  },
  {
   "cell_type": "code",
   "execution_count": 105,
   "id": "cd5953b6-ac30-4306-b07a-732cbfdf3ce8",
   "metadata": {},
   "outputs": [],
   "source": [
    "class Solution:\n",
    "\n",
    "    def singleNumber(self, nums):\n",
    "\n",
    "        dict_values = dict()\n",
    "\n",
    "        for x in nums:\n",
    "\n",
    "            if x in dict_values:\n",
    "\n",
    "                dict_values[x] += 1\n",
    "\n",
    "            else:\n",
    "\n",
    "                dict_values[x] = 1\n",
    "\n",
    "        for value, count in dict_values.items():\n",
    "\n",
    "            if count == 1:\n",
    "\n",
    "                return value\n",
    "        "
   ]
  },
  {
   "cell_type": "code",
   "execution_count": 107,
   "id": "2d534d61-c669-4128-9a54-3c9234072cd8",
   "metadata": {},
   "outputs": [
    {
     "name": "stdout",
     "output_type": "stream",
     "text": [
      "1\n",
      "4\n",
      "1\n"
     ]
    }
   ],
   "source": [
    "X = Solution()\n",
    "\n",
    "print(X.singleNumber([2,2,1]))\n",
    "print(X.singleNumber([4,1,2,1,2]))\n",
    "print(X.singleNumber([1]))"
   ]
  },
  {
   "cell_type": "code",
   "execution_count": 99,
   "id": "aa9680f9-1c01-47c7-9692-268c0aab6798",
   "metadata": {},
   "outputs": [],
   "source": [
    "# 2nd Solution"
   ]
  },
  {
   "cell_type": "code",
   "execution_count": 109,
   "id": "9b982a3b-2909-4ce4-9684-e3bb20fe0114",
   "metadata": {},
   "outputs": [],
   "source": [
    "class Solution:\n",
    "\n",
    "    def singleNumber(self, nums):\n",
    "\n",
    "        return 2*sum(set(nums)) - sum(nums)"
   ]
  },
  {
   "cell_type": "code",
   "execution_count": 111,
   "id": "5dc70df0-09d1-4522-ac14-65836ba5bc8c",
   "metadata": {},
   "outputs": [
    {
     "name": "stdout",
     "output_type": "stream",
     "text": [
      "1\n",
      "4\n",
      "1\n"
     ]
    }
   ],
   "source": [
    "X = Solution()\n",
    "\n",
    "print(X.singleNumber([2,2,1]))\n",
    "print(X.singleNumber([4,1,2,1,2]))\n",
    "print(X.singleNumber([1]))"
   ]
  },
  {
   "cell_type": "markdown",
   "id": "a20759b2-27b9-4ad7-80da-66ab0b8a77df",
   "metadata": {},
   "source": [
    "# 169. Majority Element"
   ]
  },
  {
   "cell_type": "code",
   "execution_count": 116,
   "id": "c5c351fd-7b68-4024-85b2-038e51e42d07",
   "metadata": {},
   "outputs": [],
   "source": [
    "# Given an array nums of size n, return the majority element.\n",
    "\n",
    "# The majority element is the element that appears more than ⌊n / 2⌋ times. You may assume that the majority element always exists in the array.\n",
    "\n",
    "# Example 1:\n",
    "\n",
    "# Input: nums = [3,2,3]\n",
    "# Output: 3\n",
    "\n",
    "# Example 2:\n",
    "\n",
    "# Input: nums = [2,2,1,1,1,2,2]\n",
    "# Output: 2\n",
    " \n",
    "# Constraints:\n",
    "\n",
    "# n == nums.length\n",
    "# 1 <= n <= 5 * 10^4\n",
    "# -10^9 <= nums[i] <= 10^9\n",
    "\n",
    "# Follow-up: Could you solve the problem in linear time and in O(1) space?"
   ]
  },
  {
   "cell_type": "code",
   "execution_count": 118,
   "id": "962d1953-4bd2-4e07-8d79-deb3ec5750a6",
   "metadata": {},
   "outputs": [],
   "source": [
    "# 1st Solution"
   ]
  },
  {
   "cell_type": "code",
   "execution_count": 122,
   "id": "8c8f8758-35b0-47e0-b3c6-09b65d69c326",
   "metadata": {},
   "outputs": [],
   "source": [
    "class Solution:\n",
    "\n",
    "    def majorityElement(self, nums):\n",
    "\n",
    "        nums_dict = dict()\n",
    "\n",
    "        for val in nums:\n",
    "\n",
    "            if val in nums_dict:\n",
    "            \n",
    "                nums_dict[val] += 1\n",
    "\n",
    "            else:\n",
    "\n",
    "                nums_dict[val] = 1\n",
    "\n",
    "        for val, count in nums_dict.items():\n",
    "\n",
    "            if count > len(nums)//2:\n",
    "\n",
    "                return val\n"
   ]
  },
  {
   "cell_type": "code",
   "execution_count": 124,
   "id": "0a89ae74-9608-4c9c-85ae-c48693d304b2",
   "metadata": {},
   "outputs": [
    {
     "name": "stdout",
     "output_type": "stream",
     "text": [
      "3\n",
      "2\n"
     ]
    }
   ],
   "source": [
    "X = Solution()\n",
    "\n",
    "print(X.majorityElement([3,2,3]))\n",
    "print(X.majorityElement([2,2,1,1,1,2,2]))"
   ]
  },
  {
   "cell_type": "code",
   "execution_count": 126,
   "id": "3e6d49db-d021-4f1a-b1b1-ce4f005a974f",
   "metadata": {},
   "outputs": [],
   "source": [
    "# 2nd Solution"
   ]
  },
  {
   "cell_type": "code",
   "execution_count": 136,
   "id": "8eda9982-cd9e-4df5-934e-bdd9590d7774",
   "metadata": {},
   "outputs": [],
   "source": [
    "class Solution:\n",
    "\n",
    "    def majorityElement(self, nums):\n",
    "\n",
    "        result = 0\n",
    "\n",
    "        majority_count = 0\n",
    "\n",
    "        for x in nums:\n",
    "\n",
    "            if majority_count == 0:\n",
    "\n",
    "                result = x\n",
    "\n",
    "            # Increment the count if the element has occured again else decrement the count\n",
    "\n",
    "            if result == x:\n",
    "\n",
    "                majority_count += 1\n",
    "\n",
    "            else:\n",
    "\n",
    "                majority_count -= 1\n",
    "\n",
    "        return result"
   ]
  },
  {
   "cell_type": "code",
   "execution_count": 134,
   "id": "eafa1595-be49-42bf-82a0-9eae0f01c47c",
   "metadata": {},
   "outputs": [
    {
     "name": "stdout",
     "output_type": "stream",
     "text": [
      "3\n",
      "2\n"
     ]
    }
   ],
   "source": [
    "X = Solution()\n",
    "\n",
    "print(X.majorityElement([3,2,3]))\n",
    "print(X.majorityElement([2,2,1,1,1,2,2]))"
   ]
  },
  {
   "cell_type": "markdown",
   "id": "d34f2431-8d62-4a41-a10d-88edaca4b779",
   "metadata": {},
   "source": [
    "# 217. Contains Duplicate"
   ]
  },
  {
   "cell_type": "code",
   "execution_count": 145,
   "id": "17576803-6c88-4a85-a689-c4763fab1779",
   "metadata": {},
   "outputs": [],
   "source": [
    "# Given an integer array nums, return true if any value appears at least twice in the array, \n",
    "# and return false if every element is distinct.\n",
    "\n",
    "# Example 1:\n",
    "\n",
    "# Input: nums = [1,2,3,1]\n",
    "\n",
    "# Output: true\n",
    "\n",
    "# Explanation:\n",
    "\n",
    "# The element 1 occurs at the indices 0 and 3.\n",
    "\n",
    "# Example 2:\n",
    "\n",
    "# Input: nums = [1,2,3,4]\n",
    "\n",
    "# Output: false\n",
    "\n",
    "# Explanation:\n",
    "\n",
    "# All elements are distinct.\n",
    "\n",
    "# Example 3:\n",
    "\n",
    "# Input: nums = [1,1,1,3,3,4,3,2,4,2]\n",
    "\n",
    "# Output: true\n",
    "\n",
    "# Constraints:\n",
    "\n",
    "# 1 <= nums.length <= 10^5\n",
    "# -10^9 <= nums[i] <= 10^9"
   ]
  },
  {
   "cell_type": "code",
   "execution_count": 147,
   "id": "d2e0df28-1f20-4277-822b-2cb5faa2f833",
   "metadata": {},
   "outputs": [],
   "source": [
    "# 1st Solution"
   ]
  },
  {
   "cell_type": "code",
   "execution_count": 141,
   "id": "1bc78e66-729f-45eb-b8e4-e68b1230b163",
   "metadata": {},
   "outputs": [],
   "source": [
    "class Solution:\n",
    "    \n",
    "    def containsDuplicate(self, nums):\n",
    "\n",
    "        return len(set(nums)) != len(nums)"
   ]
  },
  {
   "cell_type": "code",
   "execution_count": 143,
   "id": "27977eda-74c9-4b1c-ba92-524d3fde58a3",
   "metadata": {},
   "outputs": [
    {
     "name": "stdout",
     "output_type": "stream",
     "text": [
      "True\n",
      "False\n",
      "True\n"
     ]
    }
   ],
   "source": [
    "X = Solution()\n",
    "\n",
    "print(X.containsDuplicate([1,2,3,1]))\n",
    "print(X.containsDuplicate([1,2,3,4]))\n",
    "print(X.containsDuplicate([1,1,1,3,3,4,3,2,4,2]))"
   ]
  },
  {
   "cell_type": "code",
   "execution_count": 149,
   "id": "104a5d25-5cdc-44f8-94aa-5e86fe527204",
   "metadata": {},
   "outputs": [],
   "source": [
    "# 2nd Solution"
   ]
  },
  {
   "cell_type": "code",
   "execution_count": 155,
   "id": "bc09f2e3-5d96-421e-bf12-31dc2c4a8a02",
   "metadata": {},
   "outputs": [],
   "source": [
    "class Solution:\n",
    "    \n",
    "    def containsDuplicate(self, nums):\n",
    "\n",
    "        store_val = set()\n",
    "\n",
    "        for x in nums:\n",
    "\n",
    "            if x in store_val:\n",
    "\n",
    "                return True\n",
    "\n",
    "            else:\n",
    "\n",
    "                store_val.add(x)\n",
    "\n",
    "        return False"
   ]
  },
  {
   "cell_type": "code",
   "execution_count": 157,
   "id": "3a7c78d3-ab96-4864-9c64-00db089e087d",
   "metadata": {},
   "outputs": [
    {
     "name": "stdout",
     "output_type": "stream",
     "text": [
      "True\n",
      "False\n",
      "True\n"
     ]
    }
   ],
   "source": [
    "X = Solution()\n",
    "\n",
    "print(X.containsDuplicate([1,2,3,1]))\n",
    "print(X.containsDuplicate([1,2,3,4]))\n",
    "print(X.containsDuplicate([1,1,1,3,3,4,3,2,4,2]))"
   ]
  },
  {
   "cell_type": "code",
   "execution_count": 159,
   "id": "2b63363d-080c-4715-ad18-0786105e8804",
   "metadata": {},
   "outputs": [],
   "source": [
    "# 219. Contains Duplicate II\n",
    "\n",
    "# Given an integer array nums and an integer k, return true if there are two distinct indices i and j in the array \n",
    "# such that nums[i] == nums[j] and abs(i - j) <= k.\n",
    "\n",
    "\n",
    "# Example 1:\n",
    "\n",
    "# Input: nums = [1,2,3,1], k = 3\n",
    "# Output: true\n",
    "\n",
    "# Example 2:\n",
    "\n",
    "# Input: nums = [1,0,1,1], k = 1\n",
    "# Output: true\n",
    "\n",
    "# Example 3:\n",
    "\n",
    "# Input: nums = [1,2,3,1,2,3], k = 2\n",
    "# utput: false\n",
    " \n",
    "\n",
    "# Constraints:\n",
    "\n",
    "# 1 <= nums.length <= 10^5\n",
    "# -10^9 <= nums[i] <= 10^9\n",
    "# 0 <= k <= 10^5"
   ]
  },
  {
   "cell_type": "code",
   "execution_count": 169,
   "id": "7f7afe6f-b414-4f5e-9a60-1cacf82f057f",
   "metadata": {},
   "outputs": [],
   "source": [
    "class Solution:\n",
    "    \n",
    "    def containsNearbyDuplicate(self, nums, k):\n",
    "\n",
    "        store_dict = dict()\n",
    "\n",
    "        for i in range(len(nums)):\n",
    "\n",
    "            if nums[i] in store_dict and i - store_dict[nums[i]] <= k:\n",
    "\n",
    "                return True\n",
    "\n",
    "            elif nums[i] in store_dict and i - store_dict[nums[i]] > k:\n",
    "\n",
    "                store_dict[nums[i]] = i\n",
    "\n",
    "            else:\n",
    "\n",
    "                store_dict[nums[i]] = i\n",
    "\n",
    "        return False"
   ]
  },
  {
   "cell_type": "code",
   "execution_count": 171,
   "id": "bcbd0c93-1137-4985-b4ca-f9fd6e512953",
   "metadata": {},
   "outputs": [
    {
     "name": "stdout",
     "output_type": "stream",
     "text": [
      "True\n",
      "True\n",
      "False\n"
     ]
    }
   ],
   "source": [
    "X = Solution()\n",
    "\n",
    "print(X.containsNearbyDuplicate([1,2,3,1], 3))\n",
    "print(X.containsNearbyDuplicate([1,0,1,1], 1))\n",
    "print(X.containsNearbyDuplicate([1,2,3,1,2,3], 2))"
   ]
  },
  {
   "cell_type": "markdown",
   "id": "ff8815ae-094b-4ea6-879c-0044c566b993",
   "metadata": {},
   "source": [
    "# 228. Summary Ranges"
   ]
  },
  {
   "cell_type": "code",
   "execution_count": 174,
   "id": "f8530abb-93ef-42f2-82dd-4fd7daf9e11f",
   "metadata": {},
   "outputs": [],
   "source": [
    "# You are given a sorted unique integer array nums.\n",
    "\n",
    "# A range [a,b] is the set of all integers from a to b (inclusive).\n",
    "\n",
    "# Return the smallest sorted list of ranges that cover all the numbers in the array exactly. \n",
    "# That is, each element of nums is covered by exactly one of the ranges, and there is no integer x such that \n",
    "# x is in one of the ranges but not in nums.\n",
    "\n",
    "# Each range [a,b] in the list should be output as:\n",
    "\n",
    "# \"a->b\" if a != b\n",
    "# \"a\" if a == b\n",
    " \n",
    "\n",
    "# Example 1:\n",
    "\n",
    "# Input: nums = [0,1,2,4,5,7]\n",
    "# Output: [\"0->2\",\"4->5\",\"7\"]\n",
    "# Explanation: The ranges are:\n",
    "# [0,2] --> \"0->2\"\n",
    "# [4,5] --> \"4->5\"\n",
    "# [7,7] --> \"7\"\n",
    "\n",
    "# Example 2:\n",
    "\n",
    "# Input: nums = [0,2,3,4,6,8,9]\n",
    "# Output: [\"0\",\"2->4\",\"6\",\"8->9\"]\n",
    "# Explanation: The ranges are:\n",
    "# [0,0] --> \"0\"\n",
    "# [2,4] --> \"2->4\"\n",
    "# [6,6] --> \"6\"\n",
    "# [8,9] --> \"8->9\"\n",
    " \n",
    "\n",
    "# Constraints:\n",
    "\n",
    "# 0 <= nums.length <= 20\n",
    "# -231 <= nums[i] <= 231 - 1\n",
    "# All the values of nums are unique.\n",
    "# nums is sorted in ascending order."
   ]
  },
  {
   "cell_type": "code",
   "execution_count": 188,
   "id": "48c2de5a-6065-464b-baf6-2b015561d975",
   "metadata": {},
   "outputs": [],
   "source": [
    "class Solution:\n",
    "    \n",
    "    def summaryRanges(self, nums):\n",
    "\n",
    "        # If the list is empty return empty list\n",
    "\n",
    "        if not nums:\n",
    "\n",
    "            return []\n",
    "\n",
    "        # Assigning start array value\n",
    "\n",
    "        start = nums[0]\n",
    "\n",
    "        # Output list to append data\n",
    "\n",
    "        output = []\n",
    "\n",
    "        for i in range(1, len(nums)):\n",
    "\n",
    "            # If the latest value is not equal to (last value + 1)\n",
    "\n",
    "            if nums[i] != nums[i-1]+1:\n",
    "\n",
    "                # If the last value if the 1st value in the series\n",
    "\n",
    "                if start == nums[i-1]:\n",
    "\n",
    "                    output.append(str(nums[i-1]))\n",
    "\n",
    "                # If the last value if the last value in the series\n",
    "\n",
    "                else:\n",
    "\n",
    "                    output.append(str(start) + \"->\" + str(nums[i-1]))\n",
    "\n",
    "                start = nums[i]\n",
    "\n",
    "        # Handling last value/series in the array not handled in the loop above\n",
    "\n",
    "        if start == nums[-1]:\n",
    "\n",
    "            output.append(str(nums[i-1]))\n",
    "\n",
    "        else:\n",
    "\n",
    "            output.append(str(start) + \"->\" + str(nums[-1]))\n",
    "\n",
    "        return output"
   ]
  },
  {
   "cell_type": "code",
   "execution_count": 190,
   "id": "4cc1ecf1-7be1-4d77-a767-6fd4dadfb8ec",
   "metadata": {},
   "outputs": [
    {
     "name": "stdout",
     "output_type": "stream",
     "text": [
      "['0->2', '4->5', '5']\n",
      "['0', '2->4', '6', '8->9']\n"
     ]
    }
   ],
   "source": [
    "X = Solution()\n",
    "\n",
    "print(X.summaryRanges([0,1,2,4,5,7]))\n",
    "print(X.summaryRanges([0,2,3,4,6,8,9]))"
   ]
  },
  {
   "cell_type": "markdown",
   "id": "eba678b9-8616-42f2-bea2-f234725cb16f",
   "metadata": {},
   "source": [
    "# 268. Missing Number"
   ]
  },
  {
   "cell_type": "code",
   "execution_count": 193,
   "id": "195436a8-89b6-4ff2-897a-b5842d546720",
   "metadata": {},
   "outputs": [],
   "source": [
    "# Given an array nums containing n distinct numbers in the range [0, n], \n",
    "# return the only number in the range that is missing from the array.\n",
    "\n",
    "# Example 1:\n",
    "\n",
    "# Input: nums = [3,0,1]\n",
    "# Output: 2\n",
    "# Explanation: n = 3 since there are 3 numbers, so all numbers are in the range [0,3]. \n",
    "# 2 is the missing number in the range since it does not appear in nums.\n",
    "\n",
    "# Example 2:\n",
    "\n",
    "# Input: nums = [0,1]\n",
    "# Output: 2\n",
    "# Explanation: n = 2 since there are 2 numbers, so all numbers are in the range [0,2]. \n",
    "# 2 is the missing number in the range since it does not appear in nums.\n",
    "\n",
    "# Example 3:\n",
    "\n",
    "# Input: nums = [9,6,4,2,3,5,7,0,1]\n",
    "# Output: 8\n",
    "# Explanation: n = 9 since there are 9 numbers, so all numbers are in the range [0,9]. \n",
    "# 8 is the missing number in the range since it does not appear in nums.\n",
    "\n",
    "# Constraints:\n",
    "\n",
    "# n == nums.length\n",
    "# 1 <= n <= 104\n",
    "# 0 <= nums[i] <= n\n",
    "# All the numbers of nums are unique.\n",
    "\n",
    "# Follow up: Could you implement a solution using only O(1) extra space complexity and O(n) runtime complexity?"
   ]
  },
  {
   "cell_type": "code",
   "execution_count": 195,
   "id": "d09c89c0-e1e5-46f0-8544-265b3c61cb0a",
   "metadata": {},
   "outputs": [],
   "source": [
    "class Solution:\n",
    "    \n",
    "    def missingNumber(self, nums):\n",
    "\n",
    "        result = len(nums)\n",
    "\n",
    "        for i in range(len(nums)):\n",
    "\n",
    "            # The item missing will be sum of (index position - item at index position)\n",
    "\n",
    "            result += i - nums[i]\n",
    "\n",
    "        return result"
   ]
  },
  {
   "cell_type": "code",
   "execution_count": 197,
   "id": "6c2ce0b4-356f-41c7-8815-58f5dcc1f6ee",
   "metadata": {},
   "outputs": [
    {
     "name": "stdout",
     "output_type": "stream",
     "text": [
      "2\n",
      "2\n",
      "8\n"
     ]
    }
   ],
   "source": [
    "X = Solution()\n",
    "\n",
    "print(X.missingNumber([3,0,1]))\n",
    "print(X.missingNumber([0,1]))\n",
    "print(X.missingNumber([9,6,4,2,3,5,7,0,1]))"
   ]
  },
  {
   "cell_type": "markdown",
   "id": "7c2f6000-22c9-4347-9375-c0df4fbdd395",
   "metadata": {},
   "source": [
    "# 283. Move Zeroes"
   ]
  },
  {
   "cell_type": "code",
   "execution_count": 200,
   "id": "22f278a3-ed46-427b-a80b-cfc542311796",
   "metadata": {},
   "outputs": [],
   "source": [
    "# Given an integer array nums, move all 0's to the end of it while maintaining the relative order of \n",
    "# the non-zero elements.\n",
    "\n",
    "# Note that you must do this in-place without making a copy of the array.\n",
    "\n",
    "# Example 1:\n",
    "\n",
    "# Input: nums = [0,1,0,3,12]\n",
    "# Output: [1,3,12,0,0]\n",
    "\n",
    "# Example 2:\n",
    "\n",
    "# Input: nums = [0]\n",
    "# Output: [0]\n",
    "\n",
    "# Constraints:\n",
    "\n",
    "# 1 <= nums.length <= 104\n",
    "# -231 <= nums[i] <= 231 - 1\n",
    "\n",
    "# Follow up: Could you minimize the total number of operations done?"
   ]
  },
  {
   "cell_type": "code",
   "execution_count": 202,
   "id": "d10a84e2-5347-473e-9dc3-c7486cc51335",
   "metadata": {},
   "outputs": [],
   "source": [
    "class Solution:\n",
    "    \n",
    "    def moveZeroes(self, nums):\n",
    "        \"\"\"\n",
    "        Do not return anything, modify nums in-place instead.\n",
    "        \"\"\"\n",
    "        left_pointer = 0\n",
    "\n",
    "        for right_pointer in range(len(nums)):\n",
    "\n",
    "            if nums[right_pointer] != 0:\n",
    "\n",
    "                nums[left_pointer], nums[right_pointer] = nums[right_pointer], nums[left_pointer]\n",
    "\n",
    "                left_pointer += 1\n",
    "\n",
    "        return nums"
   ]
  },
  {
   "cell_type": "code",
   "execution_count": 204,
   "id": "31e0d84b-9871-4e06-b6da-279234c5bbf0",
   "metadata": {},
   "outputs": [
    {
     "name": "stdout",
     "output_type": "stream",
     "text": [
      "[1, 3, 12, 0, 0]\n",
      "[0]\n",
      "[1, 3, 4, 5, 6, 0, 0, 0, 0]\n"
     ]
    }
   ],
   "source": [
    "X = Solution()\n",
    "\n",
    "print(X.moveZeroes([0,1,0,3,12]))\n",
    "print(X.moveZeroes([0]))\n",
    "print(X.moveZeroes([0,1,0,3,0,4,5,0,6]))"
   ]
  },
  {
   "cell_type": "markdown",
   "id": "bb3358cf-45eb-4d25-88bf-2ef429f977c1",
   "metadata": {},
   "source": [
    "# 349. Intersection of Two Arrays"
   ]
  },
  {
   "cell_type": "code",
   "execution_count": 207,
   "id": "5440407b-e1f8-42dd-8831-7df89e8f2911",
   "metadata": {},
   "outputs": [],
   "source": [
    "# Given two integer arrays nums1 and nums2, return an array of their intersection. Each element in the result \n",
    "# must be unique and you may return the result in any order.\n",
    "\n",
    "# Example 1:\n",
    "\n",
    "# Input: nums1 = [1,2,2,1], nums2 = [2,2]\n",
    "# Example 2:\n",
    "\n",
    "# Input: nums1 = [4,9,5], nums2 = [9,4,9,8,4]\n",
    "# Output: [9,4]\n",
    "# Explanation: [4,9] is also accepted. \n",
    "\n",
    "# Constraints:\n",
    "\n",
    "# 1 <= nums1.length, nums2.length <= 1000\n",
    "# 0 <= nums1[i], nums2[i] <= 1000"
   ]
  },
  {
   "cell_type": "code",
   "execution_count": 209,
   "id": "bf0fe53b-043c-4e2b-b006-50cec3c0d08e",
   "metadata": {},
   "outputs": [],
   "source": [
    "class Solution:\n",
    "    \n",
    "    def intersection(self, nums1, nums2):\n",
    "\n",
    "        set1 = set(nums1)\n",
    "\n",
    "        set2 = set(nums2)\n",
    "\n",
    "        output = []\n",
    "\n",
    "        for num in set1:\n",
    "\n",
    "            if num in set2:\n",
    "\n",
    "                output.append(num)\n",
    "\n",
    "        return output"
   ]
  },
  {
   "cell_type": "code",
   "execution_count": 211,
   "id": "da95857b-1670-494d-b6c9-aa1d8896ee5d",
   "metadata": {},
   "outputs": [
    {
     "name": "stdout",
     "output_type": "stream",
     "text": [
      "[2]\n",
      "[9, 4]\n"
     ]
    }
   ],
   "source": [
    "X = Solution()\n",
    "\n",
    "print(X.intersection([1,2,2,1], [2,2]))\n",
    "print(X.intersection([4,9,5], [9,4,9,8,4]))"
   ]
  },
  {
   "cell_type": "markdown",
   "id": "d70b4373-2a3b-4526-9da1-417818eadce9",
   "metadata": {},
   "source": [
    "# 350. Intersection of Two Arrays II"
   ]
  },
  {
   "cell_type": "code",
   "execution_count": 214,
   "id": "2fd8e5d0-cbdc-42e2-a9d0-90dae2a1f5b1",
   "metadata": {},
   "outputs": [],
   "source": [
    "# Given two integer arrays nums1 and nums2, return an array of their intersection. Each element \n",
    "# in the result must appear as many times as it shows in both arrays and you may return the result in any order.\n",
    "\n",
    "# Example 1:\n",
    "\n",
    "# Input: nums1 = [1,2,2,1], nums2 = [2,2]\n",
    "# Output: [2,2]\n",
    "\n",
    "# Example 2:\n",
    "\n",
    "# Input: nums1 = [4,9,5], nums2 = [9,4,9,8,4]\n",
    "# Output: [4,9]\n",
    "# Explanation: [9,4] is also accepted.\n",
    " \n",
    "# Constraints:\n",
    "\n",
    "# 1 <= nums1.length, nums2.length <= 1000\n",
    "# 0 <= nums1[i], nums2[i] <= 1000 \n",
    "\n",
    "# Follow up:\n",
    "\n",
    "# What if the given array is already sorted? How would you optimize your algorithm?\n",
    "# What if nums1's size is small compared to nums2's size? Which algorithm is better?\n",
    "# What if elements of nums2 are stored on disk, and the memory is limited such that you cannot load all elements \n",
    "# into the memory at once?"
   ]
  },
  {
   "cell_type": "code",
   "execution_count": 222,
   "id": "29ceede1-7071-4b5b-a000-84936eae79fd",
   "metadata": {},
   "outputs": [],
   "source": [
    "class Solution:\n",
    "\n",
    "    def intersect(self, nums1, nums2):\n",
    "\n",
    "        output = []\n",
    "\n",
    "        nums1_dict = dict()\n",
    "\n",
    "        nums2_dict = dict()\n",
    "\n",
    "        for x in nums1:\n",
    "\n",
    "            if x in nums1_dict:\n",
    "\n",
    "                nums1_dict[x] += 1\n",
    "\n",
    "            else:\n",
    "\n",
    "                nums1_dict[x] = 1\n",
    "\n",
    "        for y in nums2:\n",
    "\n",
    "            if y in nums2_dict:\n",
    "\n",
    "                nums2_dict[y] += 1\n",
    "\n",
    "            else:\n",
    "\n",
    "                nums2_dict[y] = 1\n",
    "\n",
    "        for item in nums1_dict.keys():\n",
    "\n",
    "            if item in nums2_dict:\n",
    "\n",
    "                output.extend([item]*min(nums1_dict[item], nums2_dict[item]))\n",
    "\n",
    "        return output"
   ]
  },
  {
   "cell_type": "code",
   "execution_count": 224,
   "id": "4887b1bc-8c78-4adb-8e26-31b55fa815fb",
   "metadata": {},
   "outputs": [
    {
     "name": "stdout",
     "output_type": "stream",
     "text": [
      "[2, 2]\n",
      "[4, 9]\n"
     ]
    }
   ],
   "source": [
    "X = Solution()\n",
    "\n",
    "print(X.intersect([1,2,2,1], [2,2]))\n",
    "print(X.intersect([4,9,5], [9,4,9,8,4]))"
   ]
  },
  {
   "cell_type": "markdown",
   "id": "1e449d04-8eb9-4370-86cb-822d5bca4ce2",
   "metadata": {},
   "source": [
    "# 414. Third Maximum Number"
   ]
  },
  {
   "cell_type": "code",
   "execution_count": 227,
   "id": "55b118d5-a88d-45ef-aa14-0be8bc827689",
   "metadata": {},
   "outputs": [],
   "source": [
    "# Given an integer array nums, return the third distinct maximum number in this array. \n",
    "# If the third maximum does not exist, return the maximum number.\n",
    "\n",
    "# Example 1:\n",
    "\n",
    "# Input: nums = [3,2,1]\n",
    "# Output: 1\n",
    "# Explanation:\n",
    "# The first distinct maximum is 3.\n",
    "# The second distinct maximum is 2.\n",
    "# The third distinct maximum is 1.\n",
    "\n",
    "# Example 2:\n",
    "\n",
    "# Input: nums = [1,2]\n",
    "# Output: 2\n",
    "# Explanation:\n",
    "# The first distinct maximum is 2.\n",
    "# The second distinct maximum is 1.\n",
    "# The third distinct maximum does not exist, so the maximum (2) is returned instead.\n",
    "\n",
    "# Example 3:\n",
    "\n",
    "# Input: nums = [2,2,3,1]\n",
    "# Output: 1\n",
    "# Explanation:\n",
    "# The first distinct maximum is 3.\n",
    "# The second distinct maximum is 2 (both 2's are counted together since they have the same value).\n",
    "# The third distinct maximum is 1.\n",
    "\n",
    "# Constraints:\n",
    "\n",
    "# 1 <= nums.length <= 104\n",
    "# -231 <= nums[i] <= 231 - 1\n",
    " \n",
    "# Follow up: Can you find an O(n) solution?"
   ]
  },
  {
   "cell_type": "code",
   "execution_count": 229,
   "id": "e4afcbec-0f80-4f7c-881b-8258ad57bb3b",
   "metadata": {},
   "outputs": [],
   "source": [
    "class Solution:\n",
    "\n",
    "    def thirdMax(self, nums):\n",
    "\n",
    "        sort_list = list(set(nums))\n",
    "\n",
    "        if len(sort_list) <= 2:\n",
    "\n",
    "            return max(sort_list)\n",
    "\n",
    "        sort_list.sort(reverse = True)\n",
    "\n",
    "        return sort_list[2]"
   ]
  },
  {
   "cell_type": "code",
   "execution_count": 231,
   "id": "27642687-421a-4dac-a183-d744d09e5ddc",
   "metadata": {},
   "outputs": [
    {
     "name": "stdout",
     "output_type": "stream",
     "text": [
      "1\n",
      "2\n",
      "1\n"
     ]
    }
   ],
   "source": [
    "X = Solution()\n",
    "\n",
    "print(X.thirdMax([3,2,1]))\n",
    "print(X.thirdMax([1,2]))\n",
    "print(X.thirdMax([2,2,3,1]))"
   ]
  },
  {
   "cell_type": "markdown",
   "id": "27822fd1-f0d1-4331-a351-687e24fa8f6b",
   "metadata": {},
   "source": [
    "# 448. Find All Numbers Disappeared in an Array"
   ]
  },
  {
   "cell_type": "code",
   "execution_count": 234,
   "id": "6f9833a6-2f61-4822-8950-1acd6881d536",
   "metadata": {},
   "outputs": [],
   "source": [
    "# Given an array nums of n integers where nums[i] is in the range [1, n], \n",
    "# return an array of all the integers in the range [1, n] that do not appear in nums.\n",
    "\n",
    "# Example 1:\n",
    "\n",
    "# Input: nums = [4,3,2,7,8,2,3,1]\n",
    "# Output: [5,6]\n",
    "\n",
    "# Example 2:\n",
    "\n",
    "# Input: nums = [1,1]\n",
    "# Output: [2]\n",
    "\n",
    "# Constraints:\n",
    "\n",
    "# n == nums.length\n",
    "# 1 <= n <= 10^5\n",
    "# 1 <= nums[i] <= n\n",
    " \n",
    "\n",
    "# Follow up: Could you do it without extra space and in O(n) runtime? You may assume the returned list \n",
    "# does not count as extra space."
   ]
  },
  {
   "cell_type": "code",
   "execution_count": 248,
   "id": "2095af76-fe89-427d-a480-1782a74b70f5",
   "metadata": {},
   "outputs": [],
   "source": [
    "class Solution:\n",
    "    \n",
    "    def findDisappearedNumbers(self, nums):\n",
    "\n",
    "        output = []\n",
    "\n",
    "        # Create a dictionary to count value in nums and how many items they occur\n",
    "\n",
    "        dict_count = dict()\n",
    "\n",
    "        # By default let's assume each element in [1,n] should be available in nums\n",
    "\n",
    "        for i in range(1, len(nums)+1):\n",
    "\n",
    "            dict_count[i] = 0\n",
    "\n",
    "        # For each value in nums increment the count if they occur more than once\n",
    "\n",
    "        for x in nums:\n",
    "\n",
    "            dict_count[x] += 1\n",
    "\n",
    "        for index, value in dict_count.items():\n",
    "\n",
    "            # If the value in nums is zero, it means it has not occured in nums\n",
    "\n",
    "            if value == 0:\n",
    "\n",
    "                output.append(index)\n",
    "\n",
    "        return output"
   ]
  },
  {
   "cell_type": "code",
   "execution_count": 250,
   "id": "008fbd1d-e81a-4d1c-a3e4-20280ee711e3",
   "metadata": {},
   "outputs": [
    {
     "name": "stdout",
     "output_type": "stream",
     "text": [
      "[5, 6]\n",
      "[2]\n"
     ]
    }
   ],
   "source": [
    "X = Solution()\n",
    "\n",
    "print(X.findDisappearedNumbers([4,3,2,7,8,2,3,1]))\n",
    "print(X.findDisappearedNumbers([1,1]))"
   ]
  },
  {
   "cell_type": "code",
   "execution_count": null,
   "id": "253b4d39-b4ba-4d9a-ac0e-4a1f5617c212",
   "metadata": {},
   "outputs": [],
   "source": []
  },
  {
   "cell_type": "code",
   "execution_count": null,
   "id": "9e5d87c7-825b-4abf-97ba-33bf10b66993",
   "metadata": {},
   "outputs": [],
   "source": []
  }
 ],
 "metadata": {
  "kernelspec": {
   "display_name": "Python 3 (ipykernel)",
   "language": "python",
   "name": "python3"
  },
  "language_info": {
   "codemirror_mode": {
    "name": "ipython",
    "version": 3
   },
   "file_extension": ".py",
   "mimetype": "text/x-python",
   "name": "python",
   "nbconvert_exporter": "python",
   "pygments_lexer": "ipython3",
   "version": "3.12.4"
  }
 },
 "nbformat": 4,
 "nbformat_minor": 5
}
