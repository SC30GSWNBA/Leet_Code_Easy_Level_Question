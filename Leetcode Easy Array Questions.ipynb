{
 "cells": [
  {
   "cell_type": "markdown",
   "id": "4292a3f9-6e80-45ab-9558-ba88f5babb5a",
   "metadata": {},
   "source": [
    "# 1. Two Sum"
   ]
  },
  {
   "cell_type": "code",
   "execution_count": 2,
   "id": "0a8f1002-846a-486f-a6ec-7b60bdc2dd99",
   "metadata": {},
   "outputs": [],
   "source": [
    "# Given an array of integers nums and an integer target, return indices of the two numbers such that they add up to target.\n",
    "\n",
    "# You may assume that each input would have exactly one solution, and you may not use the same element twice.\n",
    "\n",
    "# You can return the answer in any order.\n",
    "\n",
    "# Example 1:\n",
    "\n",
    "# Input: nums = [2,7,11,15], target = 9\n",
    "# Output: [0,1]\n",
    "# Explanation: Because nums[0] + nums[1] == 9, we return [0, 1].\n",
    "# Example 2:\n",
    "\n",
    "# Input: nums = [3,2,4], target = 6\n",
    "# Output: [1,2]\n",
    "# Example 3:\n",
    "\n",
    "# Input: nums = [3,3], target = 6\n",
    "# Output: [0,1]\n",
    " \n",
    "\n",
    "# Constraints:\n",
    "\n",
    "# 2 <= nums.length <= 10^4\n",
    "# -10^9 <= nums[i] <= 10^9\n",
    "# -10^9 <= target <= 10^9\n",
    "# Only one valid answer exists.\n",
    " \n",
    "\n",
    "# Follow-up: Can you come up with an algorithm that is less than O(n^2) time complexity?"
   ]
  },
  {
   "cell_type": "code",
   "execution_count": 3,
   "id": "d7691956-f6ce-4778-98e3-9811d049f6a4",
   "metadata": {},
   "outputs": [],
   "source": [
    "class Solution:\n",
    "    \n",
    "    def twoSum(self, nums, target):\n",
    "\n",
    "        # Defining a dictionary for value, index as key-value pair\n",
    "        \n",
    "        store_dict = {}\n",
    "\n",
    "        for idx, num in enumerate(nums):\n",
    "\n",
    "            if target-num in store_dict:\n",
    "\n",
    "                return [store_dict[target-num], idx]\n",
    "\n",
    "            else:\n",
    "\n",
    "                store_dict[num] = idx"
   ]
  },
  {
   "cell_type": "code",
   "execution_count": 4,
   "id": "bc1e4a4a-2b69-4f94-a27f-e8014fff2443",
   "metadata": {},
   "outputs": [
    {
     "name": "stdout",
     "output_type": "stream",
     "text": [
      "[0, 1]\n",
      "[1, 2]\n",
      "[0, 1]\n"
     ]
    }
   ],
   "source": [
    "X = Solution()\n",
    "\n",
    "print(X.twoSum([2,7,11,15], 9))\n",
    "print(X.twoSum([3,2,4], 6))\n",
    "print(X.twoSum([3,3], 6))"
   ]
  },
  {
   "cell_type": "markdown",
   "id": "1617292b-31b4-4c1b-9002-ff0ff507a7c8",
   "metadata": {},
   "source": [
    "# 26. Remove Duplicates from Sorted Array"
   ]
  },
  {
   "cell_type": "code",
   "execution_count": 6,
   "id": "070d9ff9-5dfc-4f8e-b0f6-b1e611737edf",
   "metadata": {},
   "outputs": [],
   "source": [
    "# Given an integer array nums sorted in non-decreasing order, remove the duplicates in-place such that each \n",
    "# unique element appears only once. \n",
    "# The relative order of the elements should be kept the same. Then return the number of unique elements in nums.\n",
    "\n",
    "# Consider the number of unique elements of nums to be k, to get accepted, you need to do the following things:\n",
    "\n",
    "# Change the array nums such that the first k elements of nums contain the unique elements in the order they were \n",
    "# present in nums initially. \n",
    "# The remaining elements of nums are not important as well as the size of nums.\n",
    "# Return k.\n",
    "# Custom Judge:\n",
    "\n",
    "# The judge will test your solution with the following code:\n",
    "\n",
    "# int[] nums = [...]; // Input array\n",
    "# int[] expectedNums = [...]; // The expected answer with correct length\n",
    "\n",
    "# int k = removeDuplicates(nums); // Calls your implementation\n",
    "\n",
    "# assert k == expectedNums.length;\n",
    "# for (int i = 0; i < k; i++) {\n",
    "#     assert nums[i] == expectedNums[i];\n",
    "# }\n",
    "# If all assertions pass, then your solution will be accepted.\n",
    "\n",
    " \n",
    "\n",
    "# Example 1:\n",
    "\n",
    "# Input: nums = [1,1,2]\n",
    "# Output: 2, nums = [1,2,_]\n",
    "# Explanation: Your function should return k = 2, with the first two elements of nums being 1 and 2 respectively.\n",
    "# It does not matter what you leave beyond the returned k (hence they are underscores).\n",
    "# Example 2:\n",
    "\n",
    "# Input: nums = [0,0,1,1,1,2,2,3,3,4]\n",
    "# Output: 5, nums = [0,1,2,3,4,_,_,_,_,_]\n",
    "# Explanation: Your function should return k = 5, with the first five elements of nums being 0, 1, 2, 3, \n",
    "# and 4 respectively.\n",
    "# It does not matter what you leave beyond the returned k (hence they are underscores).\n",
    " \n",
    "\n",
    "# Constraints:\n",
    "\n",
    "# 1 <= nums.length <= 3 * 10^4\n",
    "# -100 <= nums[i] <= 100\n",
    "# nums is sorted in non-decreasing order."
   ]
  },
  {
   "cell_type": "code",
   "execution_count": 7,
   "id": "9c9ef96a-e752-4e28-9f72-5f2ff38a386a",
   "metadata": {},
   "outputs": [],
   "source": [
    "class Solution:\n",
    "    \n",
    "    def removeDuplicates(self, nums):\n",
    "\n",
    "        # Initialize 1st pointer \n",
    "        \n",
    "        pointer_1st = 1\n",
    "\n",
    "        for pointer_2nd in range(1, len(nums)):\n",
    "\n",
    "            #Condition to Check for Unique Elements\n",
    "\n",
    "            if nums[pointer_2nd] != nums[pointer_1st]:\n",
    "\n",
    "                # Place the Unique Element and Increment position of 1st Pointer\n",
    "\n",
    "                nums[pointer_1st] = nums[pointer_2nd]\n",
    "\n",
    "                pointer_1st += 1\n",
    "\n",
    "        # Return count of unique elements\n",
    "        \n",
    "        return pointer_1st\n",
    "\n",
    "        "
   ]
  },
  {
   "cell_type": "code",
   "execution_count": 8,
   "id": "c3e09c47-87d9-4bfa-9712-6a17174f0fef",
   "metadata": {},
   "outputs": [
    {
     "name": "stdout",
     "output_type": "stream",
     "text": [
      "2\n",
      "7\n"
     ]
    }
   ],
   "source": [
    "X = Solution()\n",
    "\n",
    "print(X.removeDuplicates([1,1,2]))\n",
    "print(X.removeDuplicates([0,0,1,1,1,2,2,3,3,4]))"
   ]
  },
  {
   "cell_type": "markdown",
   "id": "78fc5d9c-bd1a-4f83-b920-1502e74783db",
   "metadata": {},
   "source": [
    "# 27. Remove Element"
   ]
  },
  {
   "cell_type": "code",
   "execution_count": 10,
   "id": "7244c51f-579c-46d8-bc91-f53e71b911eb",
   "metadata": {},
   "outputs": [],
   "source": [
    "# Given an integer array nums and an integer val, remove all occurrences of val in nums in-place. \n",
    "# The order of the elements may be changed. \n",
    "# Then return the number of elements in nums which are not equal to val.\n",
    "\n",
    "# Consider the number of elements in nums which are not equal to val be k, to get accepted, \n",
    "# you need to do the following things:\n",
    "\n",
    "# Change the array nums such that the first k elements of nums contain the elements which are not equal to val. \n",
    "# The remaining elements of nums are not important as well as the size of nums.\n",
    "# Return k.\n",
    "\n",
    "# Custom Judge:\n",
    "\n",
    "# The judge will test your solution with the following code:\n",
    "\n",
    "# int[] nums = [...]; // Input array\n",
    "# int val = ...; // Value to remove\n",
    "# int[] expectedNums = [...]; // The expected answer with correct length.\n",
    "#                             // It is sorted with no values equaling val.\n",
    "\n",
    "# int k = removeElement(nums, val); // Calls your implementation\n",
    "\n",
    "# assert k == expectedNums.length;\n",
    "# sort(nums, 0, k); // Sort the first k elements of nums\n",
    "# for (int i = 0; i < actualLength; i++) {\n",
    "#     assert nums[i] == expectedNums[i];\n",
    "# }\n",
    "# If all assertions pass, then your solution will be accepted.\n",
    "\n",
    " \n",
    "\n",
    "# Example 1:\n",
    "\n",
    "# Input: nums = [3,2,2,3], val = 3\n",
    "# Output: 2, nums = [2,2,_,_]\n",
    "# Explanation: Your function should return k = 2, with the first two elements of nums being 2.\n",
    "# It does not matter what you leave beyond the returned k (hence they are underscores).\n",
    "# Example 2:\n",
    "\n",
    "# Input: nums = [0,1,2,2,3,0,4,2], val = 2\n",
    "# Output: 5, nums = [0,1,4,0,3,_,_,_]\n",
    "# Explanation: Your function should return k = 5, with the first five elements of nums containing 0, 0, 1, 3, and 4.\n",
    "# Note that the five elements can be returned in any order.\n",
    "# It does not matter what you leave beyond the returned k (hence they are underscores).\n",
    " \n",
    "\n",
    "# Constraints:\n",
    "\n",
    "# 0 <= nums.length <= 100\n",
    "# 0 <= nums[i] <= 50\n",
    "# 0 <= val <= 100"
   ]
  },
  {
   "cell_type": "code",
   "execution_count": 11,
   "id": "06e35b4b-922c-4215-ad3b-eb118c17ec93",
   "metadata": {},
   "outputs": [],
   "source": [
    "class Solution:\n",
    "    \n",
    "    def removeElement(self, nums, val):\n",
    "\n",
    "        # Initialize 1st pointer \n",
    "        \n",
    "        pointer_1st = 0\n",
    "\n",
    "        for pointer_2nd in range(len(nums)):\n",
    "\n",
    "            # #Condition to Check for Specific Value\n",
    "\n",
    "            if nums[pointer_2nd] != val:\n",
    "\n",
    "                # Place the Specific Value and Increment position of 1st Pointer\n",
    "\n",
    "                nums[pointer_1st] = nums[pointer_2nd]\n",
    "\n",
    "                pointer_1st += 1\n",
    "\n",
    "        return pointer_1st\n",
    "        "
   ]
  },
  {
   "cell_type": "code",
   "execution_count": 12,
   "id": "30271b0a-1521-4aa4-a325-556983d6cfde",
   "metadata": {},
   "outputs": [
    {
     "name": "stdout",
     "output_type": "stream",
     "text": [
      "2\n",
      "8\n",
      "2\n",
      "5\n"
     ]
    }
   ],
   "source": [
    "X = Solution()\n",
    "\n",
    "print(X.removeElement([1,1,2],2))\n",
    "print(X.removeElement([0,0,1,1,1,2,2,3,3,4],2))\n",
    "print(X.removeElement([3,2,2,3],3))\n",
    "print(X.removeElement([0,1,2,2,3,0,4,2],2))"
   ]
  },
  {
   "cell_type": "markdown",
   "id": "f24b4bb0-9cac-4607-b7ef-0d40befa8e1f",
   "metadata": {},
   "source": [
    "# 35. Search Insert Position"
   ]
  },
  {
   "cell_type": "code",
   "execution_count": 14,
   "id": "2c11df1d-a7ac-46d2-bb27-54f8e5487e5e",
   "metadata": {},
   "outputs": [],
   "source": [
    "# Given a sorted array of distinct integers and a target value, return the index if the target is found. \n",
    "# If not, return the index where it would be if it were inserted in order.\n",
    "\n",
    "# You must write an algorithm with O(log n) runtime complexity.\n",
    "\n",
    " \n",
    "\n",
    "# Example 1:\n",
    "\n",
    "# Input: nums = [1,3,5,6], target = 5\n",
    "# Output: 2\n",
    "# Example 2:\n",
    "\n",
    "# Input: nums = [1,3,5,6], target = 2\n",
    "# Output: 1\n",
    "# Example 3:\n",
    "\n",
    "# Input: nums = [1,3,5,6], target = 7\n",
    "# Output: 4\n",
    " \n",
    "\n",
    "# Constraints:\n",
    "\n",
    "# 1 <= nums.length <= 10^4\n",
    "# -10^4 <= nums[i] <= 10^4\n",
    "# nums contains distinct values sorted in ascending order.\n",
    "# -10^4 <= target <= 10^4"
   ]
  },
  {
   "cell_type": "code",
   "execution_count": 15,
   "id": "46d2e177-6e3f-4b0c-b4ec-e49ed80c5463",
   "metadata": {},
   "outputs": [],
   "source": [
    "class Solution:\n",
    "    \n",
    "    def searchInsert(self, nums, target):\n",
    "\n",
    "        left_index = 0\n",
    "\n",
    "        right_index = len(nums) - 1\n",
    "\n",
    "        while left_index <= right_index:\n",
    "\n",
    "            mid_index = (left_index + right_index) // 2\n",
    "\n",
    "            if nums[mid_index] == target:\n",
    "\n",
    "                return mid_index\n",
    "\n",
    "            elif nums[mid_index] > target:\n",
    "\n",
    "                right_index = mid_index - 1\n",
    "\n",
    "            else:\n",
    "\n",
    "                left_index = mid_index + 1\n",
    "\n",
    "        return left_index\n",
    "        "
   ]
  },
  {
   "cell_type": "code",
   "execution_count": 16,
   "id": "95295433-5ed3-41e0-aea1-20189156289f",
   "metadata": {},
   "outputs": [
    {
     "name": "stdout",
     "output_type": "stream",
     "text": [
      "2\n",
      "1\n",
      "4\n"
     ]
    }
   ],
   "source": [
    "X = Solution()\n",
    "\n",
    "print(X.searchInsert([1,3,5,6],5))\n",
    "print(X.searchInsert([1,3,5,6],2))\n",
    "print(X.searchInsert([1,3,5,6],7))"
   ]
  },
  {
   "cell_type": "markdown",
   "id": "2e0a46bd-c0e2-40e7-8b6b-b32c9ea7c586",
   "metadata": {},
   "source": [
    "# 88. Merge Sort Array"
   ]
  },
  {
   "cell_type": "code",
   "execution_count": 18,
   "id": "dee64e86-2518-4be5-a815-9a2e728fb6ef",
   "metadata": {},
   "outputs": [],
   "source": [
    "# You are given two integer arrays nums1 and nums2, sorted in non-decreasing order, and two integers m and n, \n",
    "# representing the number of elements in nums1 and nums2 respectively.\n",
    "\n",
    "# Merge nums1 and nums2 into a single array sorted in non-decreasing order.\n",
    "\n",
    "# The final sorted array should not be returned by the function, but instead be stored inside the array nums1. \n",
    "# To accommodate this, nums1 has a length of m + n, where the first m elements denote the elements that should be merged, \n",
    "# and the last n elements are set to 0 and should be ignored. nums2 has a length of n.\n",
    "\n",
    " \n",
    "\n",
    "# Example 1:\n",
    "\n",
    "# Input: nums1 = [1,2,3,0,0,0], m = 3, nums2 = [2,5,6], n = 3\n",
    "# Output: [1,2,2,3,5,6]\n",
    "# Explanation: The arrays we are merging are [1,2,3] and [2,5,6].\n",
    "# The result of the merge is [1,2,2,3,5,6] with the underlined elements coming from nums1.\n",
    "# Example 2:\n",
    "\n",
    "# Input: nums1 = [1], m = 1, nums2 = [], n = 0\n",
    "# Output: [1]\n",
    "# Explanation: The arrays we are merging are [1] and [].\n",
    "# The result of the merge is [1].\n",
    "# Example 3:\n",
    "\n",
    "# Input: nums1 = [0], m = 0, nums2 = [1], n = 1\n",
    "# Output: [1]\n",
    "# Explanation: The arrays we are merging are [] and [1].\n",
    "# The result of the merge is [1].\n",
    "# Note that because m = 0, there are no elements in nums1. The 0 is only there to ensure the merge result can fit in nums1.\n",
    " \n",
    "\n",
    "# Constraints:\n",
    "\n",
    "# nums1.length == m + n\n",
    "# nums2.length == n\n",
    "# 0 <= m, n <= 200\n",
    "# 1 <= m + n <= 200\n",
    "# -109 <= nums1[i], nums2[j] <= 109\n",
    " \n",
    "\n",
    "# Follow up: Can you come up with an algorithm that runs in O(m + n) time?"
   ]
  },
  {
   "cell_type": "code",
   "execution_count": 19,
   "id": "969defa7-947a-4513-a676-fd8daea43267",
   "metadata": {},
   "outputs": [],
   "source": [
    "class Solution:\n",
    "    \n",
    "    def merge(self, nums1, m, nums2, n):\n",
    "        \"\"\"\n",
    "        Do not return anything, modify nums1 in-place instead.\n",
    "        \"\"\"\n",
    "\n",
    "        # Points to the last element in nums1\n",
    "        m_index = m - 1\n",
    "\n",
    "        # Points to the last element in nums2\n",
    "        n_index = n - 1\n",
    "\n",
    "        # Points to the last index in nums1\n",
    "        right_index = m + n - 1\n",
    "\n",
    "        while n_index >= 0:\n",
    "\n",
    "            \n",
    "            # Check if element at m_index in nums1 is greater than the element at n_index in nums2\n",
    "            if m_index >= 0 and nums1[m_index] > nums2[n_index]:\n",
    "\n",
    "                nums1[right_index] = nums1[m_index]\n",
    "\n",
    "                m_index -= 1\n",
    "\n",
    "            # Check if element at n_index in nums2 is greater than the element at m_index in nums1\n",
    "            else:\n",
    "\n",
    "                nums1[right_index] = nums2[n_index]\n",
    "\n",
    "                n_index -= 1\n",
    "\n",
    "            right_index -= 1\n",
    "\n",
    "        return nums1\n",
    "        \n"
   ]
  },
  {
   "cell_type": "code",
   "execution_count": 20,
   "id": "d1119af7-47b8-4f39-a134-5366878ed8ef",
   "metadata": {},
   "outputs": [
    {
     "name": "stdout",
     "output_type": "stream",
     "text": [
      "[1, 2, 2, 3, 5, 6]\n",
      "[1]\n",
      "[1]\n"
     ]
    }
   ],
   "source": [
    "X = Solution()\n",
    "\n",
    "print(X.merge([1,2,3,0,0,0], 3, [2,5,6], 3))\n",
    "print(X.merge([1], 1, [], 0))\n",
    "print(X.merge([0], 0, [1], 1))"
   ]
  },
  {
   "cell_type": "markdown",
   "id": "c846795e-574b-4936-aaeb-a915cc36e481",
   "metadata": {},
   "source": [
    "# 118. Pascal's Triangle"
   ]
  },
  {
   "cell_type": "code",
   "execution_count": 22,
   "id": "434f1acb-36b1-461e-8a44-26fd3d2e801b",
   "metadata": {},
   "outputs": [],
   "source": [
    "# Given an integer numRows, return the first numRows of Pascal's triangle.\n",
    "\n",
    "# In Pascal's triangle, each number is the sum of the two numbers directly above it as shown:\n",
    "\n",
    "# Example 1:\n",
    "\n",
    "# Input: numRows = 5\n",
    "# Output: [[1],[1,1],[1,2,1],[1,3,3,1],[1,4,6,4,1]]\n",
    "# Example 2:\n",
    "\n",
    "# Input: numRows = 1\n",
    "# Output: [[1]]\n",
    " \n",
    "\n",
    "# Constraints:\n",
    "\n",
    "# 1 <= numRows <= 30"
   ]
  },
  {
   "cell_type": "code",
   "execution_count": 23,
   "id": "295652b7-9ac5-48df-9cc2-4a3d4e45c018",
   "metadata": {},
   "outputs": [],
   "source": [
    "class Solution:\n",
    "    \n",
    "    def generate(self, numRows):\n",
    "\n",
    "        # Creating the resulting array with the 1st output\n",
    "\n",
    "        result = [[1]]\n",
    "\n",
    "        for _ in range(numRows - 1):\n",
    "\n",
    "            # Creating a dummy row list which will help to implement Pasacl's triangle\n",
    "\n",
    "            dummy_row = [0] + result[-1] + [0]\n",
    "\n",
    "            # Creating a row sum list which will store sum of ith and (i+1)th value\n",
    "\n",
    "            row_sum_list = []\n",
    "\n",
    "            for i in range(len(result[-1])+1):\n",
    "\n",
    "                # Variable to store sum of ith and (i+1)th value\n",
    "\n",
    "                row_sum = dummy_row[i] + dummy_row[i+1]\n",
    "\n",
    "                row_sum_list.append(row_sum)\n",
    "\n",
    "            # Appending the output of each row of Pascal's triangle\n",
    "\n",
    "            result.append(row_sum_list)\n",
    "\n",
    "        return result"
   ]
  },
  {
   "cell_type": "code",
   "execution_count": 24,
   "id": "6d82c5e5-4818-4f6b-b280-deba99abe175",
   "metadata": {},
   "outputs": [
    {
     "name": "stdout",
     "output_type": "stream",
     "text": [
      "[[1], [1, 1], [1, 2, 1], [1, 3, 3, 1], [1, 4, 6, 4, 1]]\n",
      "[[1], [1, 1], [1, 2, 1], [1, 3, 3, 1], [1, 4, 6, 4, 1], [1, 5, 10, 10, 5, 1], [1, 6, 15, 20, 15, 6, 1]]\n"
     ]
    }
   ],
   "source": [
    "X = Solution()\n",
    "\n",
    "print(X.generate(5))\n",
    "print(X.generate(7))"
   ]
  },
  {
   "cell_type": "markdown",
   "id": "1cf59c08-aed8-4e40-a7b9-38b7de20bcf7",
   "metadata": {},
   "source": [
    "# 119. Pascal's Triangle II"
   ]
  },
  {
   "cell_type": "code",
   "execution_count": 26,
   "id": "b4f3b108-cc3d-4351-b063-eb27bb1b3628",
   "metadata": {},
   "outputs": [],
   "source": [
    "# Given an integer rowIndex, return the rowIndexth (0-indexed) row of the Pascal's triangle.\n",
    "\n",
    "# In Pascal's triangle, each number is the sum of the two numbers directly above it as shown:\n",
    "\n",
    "# Example 1:\n",
    "\n",
    "# Input: rowIndex = 3\n",
    "# Output: [1,3,3,1]\n",
    "# Example 2:\n",
    "\n",
    "# Input: rowIndex = 0\n",
    "# Output: [1]\n",
    "# Example 3:\n",
    "\n",
    "# Input: rowIndex = 1\n",
    "# Output: [1,1]\n",
    " \n",
    "\n",
    "# Constraints:\n",
    "\n",
    "# 0 <= rowIndex <= 33\n",
    "\n",
    "# Follow up: Could you optimize your algorithm to use only O(rowIndex) extra space?"
   ]
  },
  {
   "cell_type": "code",
   "execution_count": 27,
   "id": "7dff22b0-b8b9-4b50-a5e4-9ffe669e2ff0",
   "metadata": {},
   "outputs": [],
   "source": [
    "class Solution:\n",
    "    \n",
    "    def getRow(self, rowIndex):\n",
    "\n",
    "        # Creating the array to store the final pascal's triangle output\n",
    "\n",
    "        result = [[1]]\n",
    "\n",
    "        # Creating array to store resultant output based on rowIndex\n",
    "        \n",
    "        row_sum_list = [1] # Edge case when the row index is zero\n",
    "        \n",
    "\n",
    "        for _ in range(rowIndex):\n",
    "\n",
    "            # Creating a dummy row list which will help to implement Pasacl's triangle\n",
    "\n",
    "            dummy_row = [0] + result[-1] + [0]\n",
    "\n",
    "            # Creating a row sum list which will store sum of ith and (i+1)th value\n",
    "\n",
    "            row_sum_list = []\n",
    "\n",
    "            for i in range(len(result[-1])+1):\n",
    "\n",
    "                # Variable to store sum of ith and (i+1)th value\n",
    "\n",
    "                row_sum = dummy_row[i] + dummy_row[i+1]\n",
    "\n",
    "                row_sum_list.append(row_sum)\n",
    "\n",
    "            # Appending the output of each row of Pascal's triangle\n",
    "\n",
    "            result.append(row_sum_list)\n",
    "\n",
    "        return row_sum_list"
   ]
  },
  {
   "cell_type": "code",
   "execution_count": 28,
   "id": "6aee928f-a73e-470e-8027-467ef36be964",
   "metadata": {},
   "outputs": [
    {
     "name": "stdout",
     "output_type": "stream",
     "text": [
      "[1, 3, 3, 1]\n",
      "[1]\n",
      "[1, 1]\n"
     ]
    }
   ],
   "source": [
    "X = Solution()\n",
    "\n",
    "print(X.getRow(3))\n",
    "print(X.getRow(0))\n",
    "print(X.getRow(1))"
   ]
  },
  {
   "cell_type": "markdown",
   "id": "102e4ad4-12e1-4ef7-8c81-809d9890c4e1",
   "metadata": {},
   "source": [
    "# 121. Best Time to Buy and Sell Stock"
   ]
  },
  {
   "cell_type": "code",
   "execution_count": 30,
   "id": "2d009ff3-76e7-4072-aa22-2011b44d9c8b",
   "metadata": {},
   "outputs": [],
   "source": [
    "# You are given an array prices where prices[i] is the price of a given stock on the ith day.\n",
    "\n",
    "# You want to maximize your profit by choosing a single day to buy one stock and choosing a different day in the \n",
    "# future to sell that stock.\n",
    "\n",
    "# Return the maximum profit you can achieve from this transaction. If you cannot achieve any profit, return 0.\n",
    "\n",
    "# Example 1:\n",
    "\n",
    "# Input: prices = [7,1,5,3,6,4]\n",
    "# Output: 5\n",
    "# Explanation: Buy on day 2 (price = 1) and sell on day 5 (price = 6), profit = 6-1 = 5.\n",
    "# Note that buying on day 2 and selling on day 1 is not allowed because you must buy before you sell.\n",
    "\n",
    "#Example 2:\n",
    "\n",
    "# Input: prices = [7,6,4,3,1]\n",
    "# Output: 0\n",
    "# Explanation: In this case, no transactions are done and the max profit = 0. \n",
    "\n",
    "# Constraints:\n",
    "\n",
    "# 1 <= prices.length <= 105\n",
    "# 0 <= prices[i] <= 104"
   ]
  },
  {
   "cell_type": "code",
   "execution_count": 31,
   "id": "bd9f951d-8e6f-4c1b-9448-25dbfb9e23f0",
   "metadata": {},
   "outputs": [],
   "source": [
    "class Solution:\n",
    "    \n",
    "    def maxProfit(self, prices):\n",
    "\n",
    "        buying_price = prices[0]\n",
    "\n",
    "        max_profit = 0\n",
    "\n",
    "        for val in prices[1:]:\n",
    "\n",
    "            if buying_price > val:\n",
    "\n",
    "                buying_price = val\n",
    "\n",
    "            max_profit = max(max_profit, val - buying_price)\n",
    "\n",
    "        return max_profit"
   ]
  },
  {
   "cell_type": "code",
   "execution_count": 32,
   "id": "69a68fc8-1bfe-4884-83b3-57ec0f05f321",
   "metadata": {},
   "outputs": [
    {
     "name": "stdout",
     "output_type": "stream",
     "text": [
      "5\n",
      "0\n",
      "9\n"
     ]
    }
   ],
   "source": [
    "X = Solution()\n",
    "\n",
    "print(X.maxProfit([7,1,5,3,6,4]))\n",
    "print(X.maxProfit([7,6,4,3,1]))\n",
    "print(X.maxProfit([7,6,4,3,1,6,7,2,10]))"
   ]
  },
  {
   "cell_type": "markdown",
   "id": "84bfbc59-c389-4ebf-8ad9-f02dd0a04854",
   "metadata": {},
   "source": [
    "# 136. Single Number"
   ]
  },
  {
   "cell_type": "code",
   "execution_count": 34,
   "id": "fc496c46-167c-4b10-80b7-3621a0168a1f",
   "metadata": {},
   "outputs": [],
   "source": [
    "# Given a non-empty array of integers nums, every element appears twice except for one. Find that single one.\n",
    "\n",
    "# You must implement a solution with a linear runtime complexity and use only constant extra space.\n",
    "\n",
    "# Example 1:\n",
    "\n",
    "# Input: nums = [2,2,1]\n",
    "# Output: 1\n",
    "\n",
    "# Example 2:\n",
    "\n",
    "# Input: nums = [4,1,2,1,2]\n",
    "# Output: 4\n",
    "\n",
    "# Example 3:\n",
    "\n",
    "# Input: nums = [1]\n",
    "# Output: 1\n",
    "\n",
    "# Constraints:\n",
    "\n",
    "# 1 <= nums.length <= 3 * 10^4\n",
    "# -3 * 10^4 <= nums[i] <= 3 * 10^4\n",
    "# Each element in the array appears twice except for one element which appears only once."
   ]
  },
  {
   "cell_type": "code",
   "execution_count": 35,
   "id": "8e6d41f6-d0c0-4e77-b9a2-28cd20648730",
   "metadata": {},
   "outputs": [],
   "source": [
    "# 1st Solution"
   ]
  },
  {
   "cell_type": "code",
   "execution_count": 36,
   "id": "cd5953b6-ac30-4306-b07a-732cbfdf3ce8",
   "metadata": {},
   "outputs": [],
   "source": [
    "class Solution:\n",
    "\n",
    "    def singleNumber(self, nums):\n",
    "\n",
    "        dict_values = dict()\n",
    "\n",
    "        for x in nums:\n",
    "\n",
    "            if x in dict_values:\n",
    "\n",
    "                dict_values[x] += 1\n",
    "\n",
    "            else:\n",
    "\n",
    "                dict_values[x] = 1\n",
    "\n",
    "        for value, count in dict_values.items():\n",
    "\n",
    "            if count == 1:\n",
    "\n",
    "                return value\n",
    "        "
   ]
  },
  {
   "cell_type": "code",
   "execution_count": 37,
   "id": "2d534d61-c669-4128-9a54-3c9234072cd8",
   "metadata": {},
   "outputs": [
    {
     "name": "stdout",
     "output_type": "stream",
     "text": [
      "1\n",
      "4\n",
      "1\n"
     ]
    }
   ],
   "source": [
    "X = Solution()\n",
    "\n",
    "print(X.singleNumber([2,2,1]))\n",
    "print(X.singleNumber([4,1,2,1,2]))\n",
    "print(X.singleNumber([1]))"
   ]
  },
  {
   "cell_type": "code",
   "execution_count": 38,
   "id": "aa9680f9-1c01-47c7-9692-268c0aab6798",
   "metadata": {},
   "outputs": [],
   "source": [
    "# 2nd Solution"
   ]
  },
  {
   "cell_type": "code",
   "execution_count": 39,
   "id": "9b982a3b-2909-4ce4-9684-e3bb20fe0114",
   "metadata": {},
   "outputs": [],
   "source": [
    "class Solution:\n",
    "\n",
    "    def singleNumber(self, nums):\n",
    "\n",
    "        return 2*sum(set(nums)) - sum(nums)"
   ]
  },
  {
   "cell_type": "code",
   "execution_count": 40,
   "id": "5dc70df0-09d1-4522-ac14-65836ba5bc8c",
   "metadata": {},
   "outputs": [
    {
     "name": "stdout",
     "output_type": "stream",
     "text": [
      "1\n",
      "4\n",
      "1\n"
     ]
    }
   ],
   "source": [
    "X = Solution()\n",
    "\n",
    "print(X.singleNumber([2,2,1]))\n",
    "print(X.singleNumber([4,1,2,1,2]))\n",
    "print(X.singleNumber([1]))"
   ]
  },
  {
   "cell_type": "markdown",
   "id": "a20759b2-27b9-4ad7-80da-66ab0b8a77df",
   "metadata": {},
   "source": [
    "# 169. Majority Element"
   ]
  },
  {
   "cell_type": "code",
   "execution_count": 42,
   "id": "c5c351fd-7b68-4024-85b2-038e51e42d07",
   "metadata": {},
   "outputs": [],
   "source": [
    "# Given an array nums of size n, return the majority element.\n",
    "\n",
    "# The majority element is the element that appears more than ⌊n / 2⌋ times. You may assume that the majority \n",
    "# element always exists in the array.\n",
    "\n",
    "# Example 1:\n",
    "\n",
    "# Input: nums = [3,2,3]\n",
    "# Output: 3\n",
    "\n",
    "# Example 2:\n",
    "\n",
    "# Input: nums = [2,2,1,1,1,2,2]\n",
    "# Output: 2\n",
    " \n",
    "# Constraints:\n",
    "\n",
    "# n == nums.length\n",
    "# 1 <= n <= 5 * 10^4\n",
    "# -10^9 <= nums[i] <= 10^9\n",
    "\n",
    "# Follow-up: Could you solve the problem in linear time and in O(1) space?"
   ]
  },
  {
   "cell_type": "code",
   "execution_count": 43,
   "id": "962d1953-4bd2-4e07-8d79-deb3ec5750a6",
   "metadata": {},
   "outputs": [],
   "source": [
    "# 1st Solution"
   ]
  },
  {
   "cell_type": "code",
   "execution_count": 44,
   "id": "8c8f8758-35b0-47e0-b3c6-09b65d69c326",
   "metadata": {},
   "outputs": [],
   "source": [
    "class Solution:\n",
    "\n",
    "    def majorityElement(self, nums):\n",
    "\n",
    "        nums_dict = dict()\n",
    "\n",
    "        for val in nums:\n",
    "\n",
    "            if val in nums_dict:\n",
    "            \n",
    "                nums_dict[val] += 1\n",
    "\n",
    "            else:\n",
    "\n",
    "                nums_dict[val] = 1\n",
    "\n",
    "        for val, count in nums_dict.items():\n",
    "\n",
    "            if count > len(nums)//2:\n",
    "\n",
    "                return val\n"
   ]
  },
  {
   "cell_type": "code",
   "execution_count": 45,
   "id": "0a89ae74-9608-4c9c-85ae-c48693d304b2",
   "metadata": {},
   "outputs": [
    {
     "name": "stdout",
     "output_type": "stream",
     "text": [
      "3\n",
      "2\n"
     ]
    }
   ],
   "source": [
    "X = Solution()\n",
    "\n",
    "print(X.majorityElement([3,2,3]))\n",
    "print(X.majorityElement([2,2,1,1,1,2,2]))"
   ]
  },
  {
   "cell_type": "code",
   "execution_count": 46,
   "id": "3e6d49db-d021-4f1a-b1b1-ce4f005a974f",
   "metadata": {},
   "outputs": [],
   "source": [
    "# 2nd Solution"
   ]
  },
  {
   "cell_type": "code",
   "execution_count": 47,
   "id": "8eda9982-cd9e-4df5-934e-bdd9590d7774",
   "metadata": {},
   "outputs": [],
   "source": [
    "class Solution:\n",
    "\n",
    "    def majorityElement(self, nums):\n",
    "\n",
    "        result = 0\n",
    "\n",
    "        majority_count = 0\n",
    "\n",
    "        for x in nums:\n",
    "\n",
    "            if majority_count == 0:\n",
    "\n",
    "                result = x\n",
    "\n",
    "            # Increment the count if the element has occured again else decrement the count\n",
    "\n",
    "            if result == x:\n",
    "\n",
    "                majority_count += 1\n",
    "\n",
    "            else:\n",
    "\n",
    "                majority_count -= 1\n",
    "\n",
    "        return result"
   ]
  },
  {
   "cell_type": "code",
   "execution_count": 48,
   "id": "eafa1595-be49-42bf-82a0-9eae0f01c47c",
   "metadata": {},
   "outputs": [
    {
     "name": "stdout",
     "output_type": "stream",
     "text": [
      "3\n",
      "2\n"
     ]
    }
   ],
   "source": [
    "X = Solution()\n",
    "\n",
    "print(X.majorityElement([3,2,3]))\n",
    "print(X.majorityElement([2,2,1,1,1,2,2]))"
   ]
  },
  {
   "cell_type": "markdown",
   "id": "d34f2431-8d62-4a41-a10d-88edaca4b779",
   "metadata": {},
   "source": [
    "# 217. Contains Duplicate"
   ]
  },
  {
   "cell_type": "code",
   "execution_count": 50,
   "id": "17576803-6c88-4a85-a689-c4763fab1779",
   "metadata": {},
   "outputs": [],
   "source": [
    "# Given an integer array nums, return true if any value appears at least twice in the array, \n",
    "# and return false if every element is distinct.\n",
    "\n",
    "# Example 1:\n",
    "\n",
    "# Input: nums = [1,2,3,1]\n",
    "\n",
    "# Output: true\n",
    "\n",
    "# Explanation:\n",
    "\n",
    "# The element 1 occurs at the indices 0 and 3.\n",
    "\n",
    "# Example 2:\n",
    "\n",
    "# Input: nums = [1,2,3,4]\n",
    "\n",
    "# Output: false\n",
    "\n",
    "# Explanation:\n",
    "\n",
    "# All elements are distinct.\n",
    "\n",
    "# Example 3:\n",
    "\n",
    "# Input: nums = [1,1,1,3,3,4,3,2,4,2]\n",
    "\n",
    "# Output: true\n",
    "\n",
    "# Constraints:\n",
    "\n",
    "# 1 <= nums.length <= 10^5\n",
    "# -10^9 <= nums[i] <= 10^9"
   ]
  },
  {
   "cell_type": "code",
   "execution_count": 51,
   "id": "d2e0df28-1f20-4277-822b-2cb5faa2f833",
   "metadata": {},
   "outputs": [],
   "source": [
    "# 1st Solution"
   ]
  },
  {
   "cell_type": "code",
   "execution_count": 52,
   "id": "1bc78e66-729f-45eb-b8e4-e68b1230b163",
   "metadata": {},
   "outputs": [],
   "source": [
    "class Solution:\n",
    "    \n",
    "    def containsDuplicate(self, nums):\n",
    "\n",
    "        return len(set(nums)) != len(nums)"
   ]
  },
  {
   "cell_type": "code",
   "execution_count": 53,
   "id": "27977eda-74c9-4b1c-ba92-524d3fde58a3",
   "metadata": {},
   "outputs": [
    {
     "name": "stdout",
     "output_type": "stream",
     "text": [
      "True\n",
      "False\n",
      "True\n"
     ]
    }
   ],
   "source": [
    "X = Solution()\n",
    "\n",
    "print(X.containsDuplicate([1,2,3,1]))\n",
    "print(X.containsDuplicate([1,2,3,4]))\n",
    "print(X.containsDuplicate([1,1,1,3,3,4,3,2,4,2]))"
   ]
  },
  {
   "cell_type": "code",
   "execution_count": 54,
   "id": "104a5d25-5cdc-44f8-94aa-5e86fe527204",
   "metadata": {},
   "outputs": [],
   "source": [
    "# 2nd Solution"
   ]
  },
  {
   "cell_type": "code",
   "execution_count": 55,
   "id": "bc09f2e3-5d96-421e-bf12-31dc2c4a8a02",
   "metadata": {},
   "outputs": [],
   "source": [
    "class Solution:\n",
    "    \n",
    "    def containsDuplicate(self, nums):\n",
    "\n",
    "        store_val = set()\n",
    "\n",
    "        for x in nums:\n",
    "\n",
    "            if x in store_val:\n",
    "\n",
    "                return True\n",
    "\n",
    "            else:\n",
    "\n",
    "                store_val.add(x)\n",
    "\n",
    "        return False"
   ]
  },
  {
   "cell_type": "code",
   "execution_count": 56,
   "id": "3a7c78d3-ab96-4864-9c64-00db089e087d",
   "metadata": {},
   "outputs": [
    {
     "name": "stdout",
     "output_type": "stream",
     "text": [
      "True\n",
      "False\n",
      "True\n"
     ]
    }
   ],
   "source": [
    "X = Solution()\n",
    "\n",
    "print(X.containsDuplicate([1,2,3,1]))\n",
    "print(X.containsDuplicate([1,2,3,4]))\n",
    "print(X.containsDuplicate([1,1,1,3,3,4,3,2,4,2]))"
   ]
  },
  {
   "cell_type": "code",
   "execution_count": 57,
   "id": "2b63363d-080c-4715-ad18-0786105e8804",
   "metadata": {},
   "outputs": [],
   "source": [
    "# 219. Contains Duplicate II\n",
    "\n",
    "# Given an integer array nums and an integer k, return true if there are two distinct indices i and j in the array \n",
    "# such that nums[i] == nums[j] and abs(i - j) <= k.\n",
    "\n",
    "\n",
    "# Example 1:\n",
    "\n",
    "# Input: nums = [1,2,3,1], k = 3\n",
    "# Output: true\n",
    "\n",
    "# Example 2:\n",
    "\n",
    "# Input: nums = [1,0,1,1], k = 1\n",
    "# Output: true\n",
    "\n",
    "# Example 3:\n",
    "\n",
    "# Input: nums = [1,2,3,1,2,3], k = 2\n",
    "# utput: false\n",
    " \n",
    "\n",
    "# Constraints:\n",
    "\n",
    "# 1 <= nums.length <= 10^5\n",
    "# -10^9 <= nums[i] <= 10^9\n",
    "# 0 <= k <= 10^5"
   ]
  },
  {
   "cell_type": "code",
   "execution_count": 58,
   "id": "7f7afe6f-b414-4f5e-9a60-1cacf82f057f",
   "metadata": {},
   "outputs": [],
   "source": [
    "class Solution:\n",
    "    \n",
    "    def containsNearbyDuplicate(self, nums, k):\n",
    "\n",
    "        store_dict = dict()\n",
    "\n",
    "        for i in range(len(nums)):\n",
    "\n",
    "            if nums[i] in store_dict and i - store_dict[nums[i]] <= k:\n",
    "\n",
    "                return True\n",
    "\n",
    "            elif nums[i] in store_dict and i - store_dict[nums[i]] > k:\n",
    "\n",
    "                store_dict[nums[i]] = i\n",
    "\n",
    "            else:\n",
    "\n",
    "                store_dict[nums[i]] = i\n",
    "\n",
    "        return False"
   ]
  },
  {
   "cell_type": "code",
   "execution_count": 59,
   "id": "bcbd0c93-1137-4985-b4ca-f9fd6e512953",
   "metadata": {},
   "outputs": [
    {
     "name": "stdout",
     "output_type": "stream",
     "text": [
      "True\n",
      "True\n",
      "False\n"
     ]
    }
   ],
   "source": [
    "X = Solution()\n",
    "\n",
    "print(X.containsNearbyDuplicate([1,2,3,1], 3))\n",
    "print(X.containsNearbyDuplicate([1,0,1,1], 1))\n",
    "print(X.containsNearbyDuplicate([1,2,3,1,2,3], 2))"
   ]
  },
  {
   "cell_type": "markdown",
   "id": "ff8815ae-094b-4ea6-879c-0044c566b993",
   "metadata": {},
   "source": [
    "# 228. Summary Ranges"
   ]
  },
  {
   "cell_type": "code",
   "execution_count": 61,
   "id": "f8530abb-93ef-42f2-82dd-4fd7daf9e11f",
   "metadata": {},
   "outputs": [],
   "source": [
    "# You are given a sorted unique integer array nums.\n",
    "\n",
    "# A range [a,b] is the set of all integers from a to b (inclusive).\n",
    "\n",
    "# Return the smallest sorted list of ranges that cover all the numbers in the array exactly. \n",
    "# That is, each element of nums is covered by exactly one of the ranges, and there is no integer x such that \n",
    "# x is in one of the ranges but not in nums.\n",
    "\n",
    "# Each range [a,b] in the list should be output as:\n",
    "\n",
    "# \"a->b\" if a != b\n",
    "# \"a\" if a == b\n",
    " \n",
    "\n",
    "# Example 1:\n",
    "\n",
    "# Input: nums = [0,1,2,4,5,7]\n",
    "# Output: [\"0->2\",\"4->5\",\"7\"]\n",
    "# Explanation: The ranges are:\n",
    "# [0,2] --> \"0->2\"\n",
    "# [4,5] --> \"4->5\"\n",
    "# [7,7] --> \"7\"\n",
    "\n",
    "# Example 2:\n",
    "\n",
    "# Input: nums = [0,2,3,4,6,8,9]\n",
    "# Output: [\"0\",\"2->4\",\"6\",\"8->9\"]\n",
    "# Explanation: The ranges are:\n",
    "# [0,0] --> \"0\"\n",
    "# [2,4] --> \"2->4\"\n",
    "# [6,6] --> \"6\"\n",
    "# [8,9] --> \"8->9\"\n",
    " \n",
    "\n",
    "# Constraints:\n",
    "\n",
    "# 0 <= nums.length <= 20\n",
    "# -231 <= nums[i] <= 231 - 1\n",
    "# All the values of nums are unique.\n",
    "# nums is sorted in ascending order."
   ]
  },
  {
   "cell_type": "code",
   "execution_count": 62,
   "id": "48c2de5a-6065-464b-baf6-2b015561d975",
   "metadata": {},
   "outputs": [],
   "source": [
    "class Solution:\n",
    "    \n",
    "    def summaryRanges(self, nums):\n",
    "\n",
    "        # If the list is empty return empty list\n",
    "\n",
    "        if not nums:\n",
    "\n",
    "            return []\n",
    "\n",
    "        # Assigning start array value\n",
    "\n",
    "        start = nums[0]\n",
    "\n",
    "        # Output list to append data\n",
    "\n",
    "        output = []\n",
    "\n",
    "        for i in range(1, len(nums)):\n",
    "\n",
    "            # If the latest value is not equal to (last value + 1)\n",
    "\n",
    "            if nums[i] != nums[i-1]+1:\n",
    "\n",
    "                # If the last value if the 1st value in the series\n",
    "\n",
    "                if start == nums[i-1]:\n",
    "\n",
    "                    output.append(str(nums[i-1]))\n",
    "\n",
    "                # If the last value if the last value in the series\n",
    "\n",
    "                else:\n",
    "\n",
    "                    output.append(str(start) + \"->\" + str(nums[i-1]))\n",
    "\n",
    "                start = nums[i]\n",
    "\n",
    "        # Handling last value/series in the array not handled in the loop above\n",
    "\n",
    "        if start == nums[-1]:\n",
    "\n",
    "            output.append(str(nums[i-1]))\n",
    "\n",
    "        else:\n",
    "\n",
    "            output.append(str(start) + \"->\" + str(nums[-1]))\n",
    "\n",
    "        return output"
   ]
  },
  {
   "cell_type": "code",
   "execution_count": 63,
   "id": "4cc1ecf1-7be1-4d77-a767-6fd4dadfb8ec",
   "metadata": {},
   "outputs": [
    {
     "name": "stdout",
     "output_type": "stream",
     "text": [
      "['0->2', '4->5', '5']\n",
      "['0', '2->4', '6', '8->9']\n"
     ]
    }
   ],
   "source": [
    "X = Solution()\n",
    "\n",
    "print(X.summaryRanges([0,1,2,4,5,7]))\n",
    "print(X.summaryRanges([0,2,3,4,6,8,9]))"
   ]
  },
  {
   "cell_type": "markdown",
   "id": "eba678b9-8616-42f2-bea2-f234725cb16f",
   "metadata": {},
   "source": [
    "# 268. Missing Number"
   ]
  },
  {
   "cell_type": "code",
   "execution_count": 65,
   "id": "195436a8-89b6-4ff2-897a-b5842d546720",
   "metadata": {},
   "outputs": [],
   "source": [
    "# Given an array nums containing n distinct numbers in the range [0, n], \n",
    "# return the only number in the range that is missing from the array.\n",
    "\n",
    "# Example 1:\n",
    "\n",
    "# Input: nums = [3,0,1]\n",
    "# Output: 2\n",
    "# Explanation: n = 3 since there are 3 numbers, so all numbers are in the range [0,3]. \n",
    "# 2 is the missing number in the range since it does not appear in nums.\n",
    "\n",
    "# Example 2:\n",
    "\n",
    "# Input: nums = [0,1]\n",
    "# Output: 2\n",
    "# Explanation: n = 2 since there are 2 numbers, so all numbers are in the range [0,2]. \n",
    "# 2 is the missing number in the range since it does not appear in nums.\n",
    "\n",
    "# Example 3:\n",
    "\n",
    "# Input: nums = [9,6,4,2,3,5,7,0,1]\n",
    "# Output: 8\n",
    "# Explanation: n = 9 since there are 9 numbers, so all numbers are in the range [0,9]. \n",
    "# 8 is the missing number in the range since it does not appear in nums.\n",
    "\n",
    "# Constraints:\n",
    "\n",
    "# n == nums.length\n",
    "# 1 <= n <= 104\n",
    "# 0 <= nums[i] <= n\n",
    "# All the numbers of nums are unique.\n",
    "\n",
    "# Follow up: Could you implement a solution using only O(1) extra space complexity and O(n) runtime complexity?"
   ]
  },
  {
   "cell_type": "code",
   "execution_count": 66,
   "id": "d09c89c0-e1e5-46f0-8544-265b3c61cb0a",
   "metadata": {},
   "outputs": [],
   "source": [
    "class Solution:\n",
    "    \n",
    "    def missingNumber(self, nums):\n",
    "\n",
    "        result = len(nums)\n",
    "\n",
    "        for i in range(len(nums)):\n",
    "\n",
    "            # The item missing will be sum of (index position - item at index position)\n",
    "\n",
    "            result += i - nums[i]\n",
    "\n",
    "        return result"
   ]
  },
  {
   "cell_type": "code",
   "execution_count": 67,
   "id": "6c2ce0b4-356f-41c7-8815-58f5dcc1f6ee",
   "metadata": {},
   "outputs": [
    {
     "name": "stdout",
     "output_type": "stream",
     "text": [
      "2\n",
      "2\n",
      "8\n"
     ]
    }
   ],
   "source": [
    "X = Solution()\n",
    "\n",
    "print(X.missingNumber([3,0,1]))\n",
    "print(X.missingNumber([0,1]))\n",
    "print(X.missingNumber([9,6,4,2,3,5,7,0,1]))"
   ]
  },
  {
   "cell_type": "markdown",
   "id": "7c2f6000-22c9-4347-9375-c0df4fbdd395",
   "metadata": {},
   "source": [
    "# 283. Move Zeroes"
   ]
  },
  {
   "cell_type": "code",
   "execution_count": 69,
   "id": "22f278a3-ed46-427b-a80b-cfc542311796",
   "metadata": {},
   "outputs": [],
   "source": [
    "# Given an integer array nums, move all 0's to the end of it while maintaining the relative order of \n",
    "# the non-zero elements.\n",
    "\n",
    "# Note that you must do this in-place without making a copy of the array.\n",
    "\n",
    "# Example 1:\n",
    "\n",
    "# Input: nums = [0,1,0,3,12]\n",
    "# Output: [1,3,12,0,0]\n",
    "\n",
    "# Example 2:\n",
    "\n",
    "# Input: nums = [0]\n",
    "# Output: [0]\n",
    "\n",
    "# Constraints:\n",
    "\n",
    "# 1 <= nums.length <= 104\n",
    "# -231 <= nums[i] <= 231 - 1\n",
    "\n",
    "# Follow up: Could you minimize the total number of operations done?"
   ]
  },
  {
   "cell_type": "code",
   "execution_count": 70,
   "id": "d10a84e2-5347-473e-9dc3-c7486cc51335",
   "metadata": {},
   "outputs": [],
   "source": [
    "class Solution:\n",
    "    \n",
    "    def moveZeroes(self, nums):\n",
    "        \"\"\"\n",
    "        Do not return anything, modify nums in-place instead.\n",
    "        \"\"\"\n",
    "        left_pointer = 0\n",
    "\n",
    "        for right_pointer in range(len(nums)):\n",
    "\n",
    "            if nums[right_pointer] != 0:\n",
    "\n",
    "                nums[left_pointer], nums[right_pointer] = nums[right_pointer], nums[left_pointer]\n",
    "\n",
    "                left_pointer += 1\n",
    "\n",
    "        return nums"
   ]
  },
  {
   "cell_type": "code",
   "execution_count": 71,
   "id": "31e0d84b-9871-4e06-b6da-279234c5bbf0",
   "metadata": {},
   "outputs": [
    {
     "name": "stdout",
     "output_type": "stream",
     "text": [
      "[1, 3, 12, 0, 0]\n",
      "[0]\n",
      "[1, 3, 4, 5, 6, 0, 0, 0, 0]\n"
     ]
    }
   ],
   "source": [
    "X = Solution()\n",
    "\n",
    "print(X.moveZeroes([0,1,0,3,12]))\n",
    "print(X.moveZeroes([0]))\n",
    "print(X.moveZeroes([0,1,0,3,0,4,5,0,6]))"
   ]
  },
  {
   "cell_type": "markdown",
   "id": "bb3358cf-45eb-4d25-88bf-2ef429f977c1",
   "metadata": {},
   "source": [
    "# 349. Intersection of Two Arrays"
   ]
  },
  {
   "cell_type": "code",
   "execution_count": 73,
   "id": "5440407b-e1f8-42dd-8831-7df89e8f2911",
   "metadata": {},
   "outputs": [],
   "source": [
    "# Given two integer arrays nums1 and nums2, return an array of their intersection. Each element in the result \n",
    "# must be unique and you may return the result in any order.\n",
    "\n",
    "# Example 1:\n",
    "\n",
    "# Input: nums1 = [1,2,2,1], nums2 = [2,2]\n",
    "# Example 2:\n",
    "\n",
    "# Input: nums1 = [4,9,5], nums2 = [9,4,9,8,4]\n",
    "# Output: [9,4]\n",
    "# Explanation: [4,9] is also accepted. \n",
    "\n",
    "# Constraints:\n",
    "\n",
    "# 1 <= nums1.length, nums2.length <= 1000\n",
    "# 0 <= nums1[i], nums2[i] <= 1000"
   ]
  },
  {
   "cell_type": "code",
   "execution_count": 74,
   "id": "bf0fe53b-043c-4e2b-b006-50cec3c0d08e",
   "metadata": {},
   "outputs": [],
   "source": [
    "class Solution:\n",
    "    \n",
    "    def intersection(self, nums1, nums2):\n",
    "\n",
    "        set1 = set(nums1)\n",
    "\n",
    "        set2 = set(nums2)\n",
    "\n",
    "        output = []\n",
    "\n",
    "        for num in set1:\n",
    "\n",
    "            if num in set2:\n",
    "\n",
    "                output.append(num)\n",
    "\n",
    "        return output"
   ]
  },
  {
   "cell_type": "code",
   "execution_count": 75,
   "id": "da95857b-1670-494d-b6c9-aa1d8896ee5d",
   "metadata": {},
   "outputs": [
    {
     "name": "stdout",
     "output_type": "stream",
     "text": [
      "[2]\n",
      "[9, 4]\n"
     ]
    }
   ],
   "source": [
    "X = Solution()\n",
    "\n",
    "print(X.intersection([1,2,2,1], [2,2]))\n",
    "print(X.intersection([4,9,5], [9,4,9,8,4]))"
   ]
  },
  {
   "cell_type": "markdown",
   "id": "d70b4373-2a3b-4526-9da1-417818eadce9",
   "metadata": {},
   "source": [
    "# 350. Intersection of Two Arrays II"
   ]
  },
  {
   "cell_type": "code",
   "execution_count": 77,
   "id": "2fd8e5d0-cbdc-42e2-a9d0-90dae2a1f5b1",
   "metadata": {},
   "outputs": [],
   "source": [
    "# Given two integer arrays nums1 and nums2, return an array of their intersection. Each element \n",
    "# in the result must appear as many times as it shows in both arrays and you may return the result in any order.\n",
    "\n",
    "# Example 1:\n",
    "\n",
    "# Input: nums1 = [1,2,2,1], nums2 = [2,2]\n",
    "# Output: [2,2]\n",
    "\n",
    "# Example 2:\n",
    "\n",
    "# Input: nums1 = [4,9,5], nums2 = [9,4,9,8,4]\n",
    "# Output: [4,9]\n",
    "# Explanation: [9,4] is also accepted.\n",
    " \n",
    "# Constraints:\n",
    "\n",
    "# 1 <= nums1.length, nums2.length <= 1000\n",
    "# 0 <= nums1[i], nums2[i] <= 1000 \n",
    "\n",
    "# Follow up:\n",
    "\n",
    "# What if the given array is already sorted? How would you optimize your algorithm?\n",
    "# What if nums1's size is small compared to nums2's size? Which algorithm is better?\n",
    "# What if elements of nums2 are stored on disk, and the memory is limited such that you cannot load all elements \n",
    "# into the memory at once?"
   ]
  },
  {
   "cell_type": "code",
   "execution_count": 78,
   "id": "29ceede1-7071-4b5b-a000-84936eae79fd",
   "metadata": {},
   "outputs": [],
   "source": [
    "class Solution:\n",
    "\n",
    "    def intersect(self, nums1, nums2):\n",
    "\n",
    "        output = []\n",
    "\n",
    "        nums1_dict = dict()\n",
    "\n",
    "        nums2_dict = dict()\n",
    "\n",
    "        for x in nums1:\n",
    "\n",
    "            if x in nums1_dict:\n",
    "\n",
    "                nums1_dict[x] += 1\n",
    "\n",
    "            else:\n",
    "\n",
    "                nums1_dict[x] = 1\n",
    "\n",
    "        for y in nums2:\n",
    "\n",
    "            if y in nums2_dict:\n",
    "\n",
    "                nums2_dict[y] += 1\n",
    "\n",
    "            else:\n",
    "\n",
    "                nums2_dict[y] = 1\n",
    "\n",
    "        for item in nums1_dict.keys():\n",
    "\n",
    "            if item in nums2_dict:\n",
    "\n",
    "                output.extend([item]*min(nums1_dict[item], nums2_dict[item]))\n",
    "\n",
    "        return output"
   ]
  },
  {
   "cell_type": "code",
   "execution_count": 79,
   "id": "4887b1bc-8c78-4adb-8e26-31b55fa815fb",
   "metadata": {},
   "outputs": [
    {
     "name": "stdout",
     "output_type": "stream",
     "text": [
      "[2, 2]\n",
      "[4, 9]\n"
     ]
    }
   ],
   "source": [
    "X = Solution()\n",
    "\n",
    "print(X.intersect([1,2,2,1], [2,2]))\n",
    "print(X.intersect([4,9,5], [9,4,9,8,4]))"
   ]
  },
  {
   "cell_type": "markdown",
   "id": "1e449d04-8eb9-4370-86cb-822d5bca4ce2",
   "metadata": {},
   "source": [
    "# 414. Third Maximum Number"
   ]
  },
  {
   "cell_type": "code",
   "execution_count": 81,
   "id": "55b118d5-a88d-45ef-aa14-0be8bc827689",
   "metadata": {},
   "outputs": [],
   "source": [
    "# Given an integer array nums, return the third distinct maximum number in this array. \n",
    "# If the third maximum does not exist, return the maximum number.\n",
    "\n",
    "# Example 1:\n",
    "\n",
    "# Input: nums = [3,2,1]\n",
    "# Output: 1\n",
    "# Explanation:\n",
    "# The first distinct maximum is 3.\n",
    "# The second distinct maximum is 2.\n",
    "# The third distinct maximum is 1.\n",
    "\n",
    "# Example 2:\n",
    "\n",
    "# Input: nums = [1,2]\n",
    "# Output: 2\n",
    "# Explanation:\n",
    "# The first distinct maximum is 2.\n",
    "# The second distinct maximum is 1.\n",
    "# The third distinct maximum does not exist, so the maximum (2) is returned instead.\n",
    "\n",
    "# Example 3:\n",
    "\n",
    "# Input: nums = [2,2,3,1]\n",
    "# Output: 1\n",
    "# Explanation:\n",
    "# The first distinct maximum is 3.\n",
    "# The second distinct maximum is 2 (both 2's are counted together since they have the same value).\n",
    "# The third distinct maximum is 1.\n",
    "\n",
    "# Constraints:\n",
    "\n",
    "# 1 <= nums.length <= 104\n",
    "# -231 <= nums[i] <= 231 - 1\n",
    " \n",
    "# Follow up: Can you find an O(n) solution?"
   ]
  },
  {
   "cell_type": "code",
   "execution_count": 82,
   "id": "e4afcbec-0f80-4f7c-881b-8258ad57bb3b",
   "metadata": {},
   "outputs": [],
   "source": [
    "class Solution:\n",
    "\n",
    "    def thirdMax(self, nums):\n",
    "\n",
    "        sort_list = list(set(nums))\n",
    "\n",
    "        if len(sort_list) <= 2:\n",
    "\n",
    "            return max(sort_list)\n",
    "\n",
    "        sort_list.sort(reverse = True)\n",
    "\n",
    "        return sort_list[2]"
   ]
  },
  {
   "cell_type": "code",
   "execution_count": 83,
   "id": "27642687-421a-4dac-a183-d744d09e5ddc",
   "metadata": {},
   "outputs": [
    {
     "name": "stdout",
     "output_type": "stream",
     "text": [
      "1\n",
      "2\n",
      "1\n"
     ]
    }
   ],
   "source": [
    "X = Solution()\n",
    "\n",
    "print(X.thirdMax([3,2,1]))\n",
    "print(X.thirdMax([1,2]))\n",
    "print(X.thirdMax([2,2,3,1]))"
   ]
  },
  {
   "cell_type": "markdown",
   "id": "27822fd1-f0d1-4331-a351-687e24fa8f6b",
   "metadata": {},
   "source": [
    "# 448. Find All Numbers Disappeared in an Array"
   ]
  },
  {
   "cell_type": "code",
   "execution_count": 85,
   "id": "6f9833a6-2f61-4822-8950-1acd6881d536",
   "metadata": {},
   "outputs": [],
   "source": [
    "# Given an array nums of n integers where nums[i] is in the range [1, n], \n",
    "# return an array of all the integers in the range [1, n] that do not appear in nums.\n",
    "\n",
    "# Example 1:\n",
    "\n",
    "# Input: nums = [4,3,2,7,8,2,3,1]\n",
    "# Output: [5,6]\n",
    "\n",
    "# Example 2:\n",
    "\n",
    "# Input: nums = [1,1]\n",
    "# Output: [2]\n",
    "\n",
    "# Constraints:\n",
    "\n",
    "# n == nums.length\n",
    "# 1 <= n <= 10^5\n",
    "# 1 <= nums[i] <= n\n",
    " \n",
    "\n",
    "# Follow up: Could you do it without extra space and in O(n) runtime? You may assume the returned list \n",
    "# does not count as extra space."
   ]
  },
  {
   "cell_type": "code",
   "execution_count": 86,
   "id": "2095af76-fe89-427d-a480-1782a74b70f5",
   "metadata": {},
   "outputs": [],
   "source": [
    "class Solution:\n",
    "    \n",
    "    def findDisappearedNumbers(self, nums):\n",
    "\n",
    "        output = []\n",
    "\n",
    "        # Create a dictionary to count value in nums and how many items they occur\n",
    "\n",
    "        dict_count = dict()\n",
    "\n",
    "        # By default let's assume each element in [1,n] should be available in nums\n",
    "\n",
    "        for i in range(1, len(nums)+1):\n",
    "\n",
    "            dict_count[i] = 0\n",
    "\n",
    "        # For each value in nums increment the count if they occur more than once\n",
    "\n",
    "        for x in nums:\n",
    "\n",
    "            dict_count[x] += 1\n",
    "\n",
    "        for index, value in dict_count.items():\n",
    "\n",
    "            # If the value in nums is zero, it means it has not occured in nums\n",
    "\n",
    "            if value == 0:\n",
    "\n",
    "                output.append(index)\n",
    "\n",
    "        return output"
   ]
  },
  {
   "cell_type": "code",
   "execution_count": 87,
   "id": "008fbd1d-e81a-4d1c-a3e4-20280ee711e3",
   "metadata": {},
   "outputs": [
    {
     "name": "stdout",
     "output_type": "stream",
     "text": [
      "[5, 6]\n",
      "[2]\n"
     ]
    }
   ],
   "source": [
    "X = Solution()\n",
    "\n",
    "print(X.findDisappearedNumbers([4,3,2,7,8,2,3,1]))\n",
    "print(X.findDisappearedNumbers([1,1]))"
   ]
  },
  {
   "cell_type": "markdown",
   "id": "0435fe58-0a37-48af-b044-3718f73b0745",
   "metadata": {},
   "source": [
    "# 455. Assign Cookies"
   ]
  },
  {
   "cell_type": "code",
   "execution_count": 89,
   "id": "d60f3845-3a1d-411e-95e7-00a443481024",
   "metadata": {},
   "outputs": [],
   "source": [
    "# Assume you are an awesome parent and want to give your children some cookies. But, you should give each child \n",
    "# at most one cookie.\n",
    "\n",
    "# Each child i has a greed factor g[i], which is the minimum size of a cookie that the child will be content with; \n",
    "# and each cookie j has a size s[j]. If s[j] >= g[i], we can assign the cookie j to the child i, and the child i \n",
    "# will be content. Your goal is to maximize the number of your content children and output the maximum number.\n",
    "\n",
    "# Example 1:\n",
    "\n",
    "# Input: g = [1,2,3], s = [1,1]\n",
    "# Output: 1\n",
    "# Explanation: You have 3 children and 2 cookies. The greed factors of 3 children are 1, 2, 3. \n",
    "# And even though you have 2 cookies, since their size is both 1, you could only make the child whose greed factor \n",
    "# is 1 content.\n",
    "# You need to output 1.\n",
    "\n",
    "# Example 2:\n",
    "\n",
    "# Input: g = [1,2], s = [1,2,3]\n",
    "# Output: 2\n",
    "# Explanation: You have 2 children and 3 cookies. The greed factors of 2 children are 1, 2. \n",
    "# You have 3 cookies and their sizes are big enough to gratify all of the children, \n",
    "# You need to output 2.\n",
    "\n",
    "# Constraints:\n",
    "\n",
    "# 1 <= g.length <= 3 * 10^4\n",
    "# 0 <= s.length <= 3 * 10^4\n",
    "# 1 <= g[i], s[j] <= 2^31 - 1"
   ]
  },
  {
   "cell_type": "code",
   "execution_count": 90,
   "id": "ee61e0eb-d13a-4455-838d-62249cd96311",
   "metadata": {},
   "outputs": [],
   "source": [
    "class Solution:\n",
    "    \n",
    "    def findContentChildren(self, g, s):\n",
    "\n",
    "        g.sort()\n",
    "\n",
    "        s.sort()\n",
    "\n",
    "        index_cookies = 0\n",
    "\n",
    "        count_of_satisfied_children = 0\n",
    "\n",
    "        while index_cookies < len(s) and count_of_satisfied_children < len(g):\n",
    "\n",
    "            if s[index_cookies] >= g[count_of_satisfied_children]:\n",
    "\n",
    "                count_of_satisfied_children += 1\n",
    "\n",
    "            index_cookies += 1\n",
    "\n",
    "        return count_of_satisfied_children"
   ]
  },
  {
   "cell_type": "code",
   "execution_count": 91,
   "id": "67540aba-9e4b-4cf8-b9b9-6573e1d949ea",
   "metadata": {},
   "outputs": [
    {
     "name": "stdout",
     "output_type": "stream",
     "text": [
      "1\n",
      "2\n",
      "3\n",
      "1\n"
     ]
    }
   ],
   "source": [
    "X = Solution()\n",
    "\n",
    "print(X.findContentChildren([1,2,3], [1,1]))\n",
    "print(X.findContentChildren([1,2], [1,2,3]))\n",
    "print(X.findContentChildren([1,2,3], [1,2,3]))\n",
    "print(X.findContentChildren([1,2,3], [1,1,1]))"
   ]
  },
  {
   "cell_type": "markdown",
   "id": "f7433739-dc9b-4ab9-9827-602cd61dc8c5",
   "metadata": {},
   "source": [
    "# 463. Island Perimeter"
   ]
  },
  {
   "cell_type": "code",
   "execution_count": 93,
   "id": "a57af9ff-f96b-4bb5-98ec-f71e841d92ef",
   "metadata": {},
   "outputs": [],
   "source": [
    "# You are given row x col grid representing a map where grid[i][j] = 1 represents land and \n",
    "# grid[i][j] = 0 represents water.\n",
    "\n",
    "# Grid cells are connected horizontally/vertically (not diagonally). The grid is completely surrounded by water, \n",
    "# and there is exactly one island (i.e., one or more connected land cells).\n",
    "\n",
    "# The island doesn't have \"lakes\", meaning the water inside isn't connected to the water around the island. \n",
    "# One cell is a square with side length 1. The grid is rectangular, width and height don't exceed 100. \n",
    "# Determine the perimeter of the island.\n",
    "\n",
    "# Example 1:\n",
    "\n",
    "# Input: grid = [[0,1,0,0],[1,1,1,0],[0,1,0,0],[1,1,0,0]]\n",
    "# Output: 16\n",
    "# Explanation: The perimeter is the 16 yellow stripes in the image above.\n",
    "\n",
    "# Example 2:\n",
    "\n",
    "# Input: grid = [[1]]\n",
    "# Output: 4\n",
    "\n",
    "# Example 3:\n",
    "\n",
    "# Input: grid = [[1,0]]\n",
    "# Output: 4\n",
    "\n",
    "# Constraints:\n",
    "\n",
    "# row == grid.length\n",
    "# col == grid[i].length\n",
    "# 1 <= row, col <= 100\n",
    "# grid[i][j] is 0 or 1.\n",
    "# There is exactly one island in grid."
   ]
  },
  {
   "cell_type": "code",
   "execution_count": 94,
   "id": "92ef8d8d-0b7c-453e-b507-c64195ff157a",
   "metadata": {},
   "outputs": [],
   "source": [
    "class Solution:\n",
    "    \n",
    "    def islandPerimeter(self, grid):\n",
    "\n",
    "        perimeter = 0\n",
    "\n",
    "        for row in range(len(grid)):\n",
    "\n",
    "            for col in range(len(grid[0])):\n",
    "\n",
    "                if grid[row][col] == 1:\n",
    "\n",
    "                    perimeter += 4\n",
    "\n",
    "                    if row > 0 and grid[row-1][col] == 1:\n",
    "\n",
    "                        perimeter -= 2\n",
    "\n",
    "                    if col > 0 and grid[row][col-1] == 1:\n",
    "\n",
    "                        perimeter -= 2\n",
    "\n",
    "        return perimeter\n",
    "        "
   ]
  },
  {
   "cell_type": "code",
   "execution_count": 95,
   "id": "ff5f6e64-711d-40e3-b6fb-1af5c5e8d6bb",
   "metadata": {},
   "outputs": [
    {
     "name": "stdout",
     "output_type": "stream",
     "text": [
      "16\n",
      "4\n",
      "4\n"
     ]
    }
   ],
   "source": [
    "X = Solution()\n",
    "\n",
    "print(X.islandPerimeter([[0,1,0,0],[1,1,1,0],[0,1,0,0],[1,1,0,0]]))\n",
    "print(X.islandPerimeter([[1]]))\n",
    "print(X.islandPerimeter([[1,0]]))"
   ]
  },
  {
   "cell_type": "markdown",
   "id": "2aed5ab3-6b3e-41ee-a753-8e6a5b5ccc4f",
   "metadata": {},
   "source": [
    "# 485. Max Consecutive Ones"
   ]
  },
  {
   "cell_type": "code",
   "execution_count": 97,
   "id": "0dcd22b6-df7a-4cf5-9655-c75afad4b61d",
   "metadata": {},
   "outputs": [],
   "source": [
    "# Given a binary array nums, return the maximum number of consecutive 1's in the array.\n",
    "\n",
    "# Example 1:\n",
    "\n",
    "# Input: nums = [1,1,0,1,1,1]\n",
    "# Output: 3\n",
    "# Explanation: The first two digits or the last three digits are consecutive 1s. The maximum number of consecutive 1s is 3.\n",
    "\n",
    "# Example 2:\n",
    "\n",
    "# Input: nums = [1,0,1,1,0,1]\n",
    "# Output: 2\n",
    " \n",
    "\n",
    "# Constraints:\n",
    "\n",
    "# 1 <= nums.length <= 10^5\n",
    "# nums[i] is either 0 or 1."
   ]
  },
  {
   "cell_type": "code",
   "execution_count": 98,
   "id": "c06c7516-ebf7-41a6-86c2-e033fc80d213",
   "metadata": {},
   "outputs": [],
   "source": [
    "class Solution:\n",
    "\n",
    "    def findMaxConsecutiveOnes(self, nums):\n",
    "\n",
    "        max_len = 0\n",
    "\n",
    "        count = 0\n",
    "\n",
    "        for i in range(len(nums)):\n",
    "\n",
    "            if nums[i] & 1 == 1:\n",
    "\n",
    "                count += 1\n",
    "\n",
    "                max_len = max(max_len, count)\n",
    "\n",
    "            if nums[i] == 0:\n",
    "\n",
    "                count = 0\n",
    "\n",
    "        return max_len"
   ]
  },
  {
   "cell_type": "code",
   "execution_count": 99,
   "id": "076ef618-ddc9-4bcc-9d68-870bc116d2b6",
   "metadata": {},
   "outputs": [
    {
     "name": "stdout",
     "output_type": "stream",
     "text": [
      "3\n",
      "2\n"
     ]
    }
   ],
   "source": [
    "X = Solution()\n",
    "\n",
    "print(X.findMaxConsecutiveOnes([1,1,0,1,1,1]))\n",
    "print(X.findMaxConsecutiveOnes([1,0,1,1,0,1]))"
   ]
  },
  {
   "cell_type": "markdown",
   "id": "ef86f965-12b5-4145-9479-d5ab9f13a999",
   "metadata": {},
   "source": [
    "# 495. Teemo Attacking"
   ]
  },
  {
   "cell_type": "code",
   "execution_count": 101,
   "id": "5b1364bc-410d-4f7e-ae11-4d6d02f4eb23",
   "metadata": {},
   "outputs": [],
   "source": [
    "# Our hero Teemo is attacking an enemy Ashe with poison attacks! When Teemo attacks Ashe, \n",
    "# Ashe gets poisoned for a exactly duration seconds. More formally, an attack at second t will mean Ashe \n",
    "# is poisoned during the inclusive time interval [t, t + duration - 1]. \n",
    "# If Teemo attacks again before the poison effect ends, the timer for it is reset, \n",
    "# and the poison effect will end duration seconds after the new attack.\n",
    "\n",
    "# You are given a non-decreasing integer array timeSeries, where timeSeries[i] denotes that Teemo attacks \n",
    "# Ashe at second timeSeries[i], and an integer duration.\n",
    "\n",
    "# Return the total number of seconds that Ashe is poisoned.\n",
    "\n",
    "# Example 1:\n",
    "\n",
    "# Input: timeSeries = [1,4], duration = 2\n",
    "# Output: 4\n",
    "# Explanation: Teemo's attacks on Ashe go as follows:\n",
    "# - At second 1, Teemo attacks, and Ashe is poisoned for seconds 1 and 2.\n",
    "# - At second 4, Teemo attacks, and Ashe is poisoned for seconds 4 and 5.\n",
    "# Ashe is poisoned for seconds 1, 2, 4, and 5, which is 4 seconds in total.\n",
    "\n",
    "# Example 2:\n",
    "\n",
    "# Input: timeSeries = [1,2], duration = 2\n",
    "# Output: 3\n",
    "# Explanation: Teemo's attacks on Ashe go as follows:\n",
    "# - At second 1, Teemo attacks, and Ashe is poisoned for seconds 1 and 2.\n",
    "# - At second 2 however, Teemo attacks again and resets the poison timer. Ashe is poisoned for seconds 2 and 3.\n",
    "# Ashe is poisoned for seconds 1, 2, and 3, which is 3 seconds in total. \n",
    "\n",
    "# Constraints:\n",
    "\n",
    "# 1 <= timeSeries.length <= 10^4\n",
    "# 0 <= timeSeries[i], duration <= 10^7\n",
    "# timeSeries is sorted in non-decreasing order."
   ]
  },
  {
   "cell_type": "code",
   "execution_count": 102,
   "id": "f4f29345-3aaf-42dd-9a52-2d08a878cfe5",
   "metadata": {},
   "outputs": [],
   "source": [
    "class Solution:\n",
    "    \n",
    "    def findPoisonedDuration(self, timeSeries, duration):\n",
    "\n",
    "        count_all_poisoned_seconds = 0\n",
    "\n",
    "        for second in range(len(timeSeries)-1):\n",
    "\n",
    "            diff = timeSeries[second+1] - timeSeries[second]\n",
    "\n",
    "            if diff < duration:\n",
    "\n",
    "                count_all_poisoned_seconds += duration - diff\n",
    "\n",
    "\n",
    "        return len(timeSeries)*duration - count_all_poisoned_seconds\n"
   ]
  },
  {
   "cell_type": "code",
   "execution_count": 103,
   "id": "8cad247d-cac0-4847-a61a-2339a1f69523",
   "metadata": {},
   "outputs": [
    {
     "name": "stdout",
     "output_type": "stream",
     "text": [
      "4\n",
      "3\n"
     ]
    }
   ],
   "source": [
    "X = Solution()\n",
    "\n",
    "print(X.findPoisonedDuration([1,4], 2))\n",
    "print(X.findPoisonedDuration([1,2], 2))"
   ]
  },
  {
   "cell_type": "markdown",
   "id": "d0ab457e-847b-4678-981a-c83c85c3953e",
   "metadata": {},
   "source": [
    "# 496. Next Greater Element I"
   ]
  },
  {
   "cell_type": "code",
   "execution_count": 105,
   "id": "e1a8ebe3-69b3-4d89-a55d-bec8c9d04c16",
   "metadata": {},
   "outputs": [],
   "source": [
    "# The next greater element of some element x in an array is the first greater element that is to the right of x \n",
    "# in the same array.\n",
    "\n",
    "# You are given two distinct 0-indexed integer arrays nums1 and nums2, where nums1 is a subset of nums2.\n",
    "\n",
    "# For each 0 <= i < nums1.length, find the index j such that nums1[i] == nums2[j] and determine the next greater \n",
    "# element of nums2[j] in nums2. If there is no next greater element, then the answer for this query is -1.\n",
    "\n",
    "# Return an array ans of length nums1.length such that ans[i] is the next greater element as described above.\n",
    "\n",
    "# Example 1:\n",
    "\n",
    "# Input: nums1 = [4,1,2], nums2 = [1,3,4,2]\n",
    "# Output: [-1,3,-1]\n",
    "# Explanation: The next greater element for each value of nums1 is as follows:\n",
    "# - 4 is underlined in nums2 = [1,3,4,2]. There is no next greater element, so the answer is -1.\n",
    "# - 1 is underlined in nums2 = [1,3,4,2]. The next greater element is 3.\n",
    "# - 2 is underlined in nums2 = [1,3,4,2]. There is no next greater element, so the answer is -1.\n",
    "\n",
    "# Example 2:\n",
    "\n",
    "# Input: nums1 = [2,4], nums2 = [1,2,3,4]\n",
    "# Output: [3,-1]\n",
    "# Explanation: The next greater element for each value of nums1 is as follows:\n",
    "# - 2 is underlined in nums2 = [1,2,3,4]. The next greater element is 3.\n",
    "# - 4 is underlined in nums2 = [1,2,3,4]. There is no next greater element, so the answer is -1. \n",
    "\n",
    "# Constraints:\n",
    "\n",
    "# 1 <= nums1.length <= nums2.length <= 1000\n",
    "# 0 <= nums1[i], nums2[i] <= 10^4\n",
    "# All integers in nums1 and nums2 are unique.\n",
    "# All the integers of nums1 also appear in nums2."
   ]
  },
  {
   "cell_type": "code",
   "execution_count": 106,
   "id": "84fcce12-a8e3-41a6-92bb-2e07c2a12aee",
   "metadata": {},
   "outputs": [],
   "source": [
    "class Solution:\n",
    "\n",
    "    def nextGreaterElement(self, nums1, nums2):\n",
    "\n",
    "        # Dictionary to store the next greater element to the right of the current element\n",
    "        \n",
    "        next_greater_ele_dict = {}\n",
    "\n",
    "        # Temporary list to store the value for which we need to find the next greater element\n",
    "        # to the right\n",
    "        \n",
    "        temp_list = []\n",
    "\n",
    "        # Loop to populate the next_greater_ele_dict dictionary to get the next greater element\n",
    "\n",
    "        for x in nums2:\n",
    "\n",
    "            while temp_list and x > temp_list[-1]:\n",
    "\n",
    "                next_greater_ele_dict[temp_list.pop()] = x\n",
    "\n",
    "            temp_list.append(x)\n",
    "\n",
    "        # List to store the output of the result\n",
    "        \n",
    "        output = []\n",
    "\n",
    "        for y in nums1:\n",
    "\n",
    "            if y in next_greater_ele_dict:\n",
    "\n",
    "                output.append(next_greater_ele_dict[y])\n",
    "\n",
    "            else:\n",
    "\n",
    "                output.append(-1)\n",
    "\n",
    "        return output"
   ]
  },
  {
   "cell_type": "code",
   "execution_count": 107,
   "id": "7979fb5e-6508-4de1-adea-ebdc5eef933d",
   "metadata": {},
   "outputs": [
    {
     "name": "stdout",
     "output_type": "stream",
     "text": [
      "[-1, 3, -1]\n",
      "[3, -1]\n"
     ]
    }
   ],
   "source": [
    "X = Solution()\n",
    "\n",
    "print(X.nextGreaterElement([4,1,2], [1,3,4,2]))\n",
    "print(X.nextGreaterElement([2,4], [1,2,3,4]))"
   ]
  },
  {
   "cell_type": "markdown",
   "id": "834aaa8d-269b-4ad5-b647-e0b433602a0e",
   "metadata": {},
   "source": [
    "# 506. Relative Ranks"
   ]
  },
  {
   "cell_type": "code",
   "execution_count": 109,
   "id": "fac1107b-afb1-4585-a6cd-fe6872108cf1",
   "metadata": {},
   "outputs": [],
   "source": [
    "# You are given an integer array score of size n, where score[i] is the score of the ith athlete in a competition. \n",
    "# All the scores are guaranteed to be unique.\n",
    "\n",
    "# The athletes are placed based on their scores, where the 1st place athlete has the highest score, \n",
    "# the 2nd place athlete has the 2nd highest score, and so on. The placement of each athlete determines their rank:\n",
    "\n",
    "# The 1st place athlete's rank is \"Gold Medal\".\n",
    "# The 2nd place athlete's rank is \"Silver Medal\".\n",
    "# The 3rd place athlete's rank is \"Bronze Medal\".\n",
    "# For the 4th place to the nth place athlete, their rank is their placement number \n",
    "# (i.e., the xth place athlete's rank is \"x\").\n",
    "# Return an array answer of size n where answer[i] is the rank of the ith athlete.\n",
    "\n",
    "# Example 1:\n",
    "\n",
    "# Input: score = [5,4,3,2,1]\n",
    "# Output: [\"Gold Medal\",\"Silver Medal\",\"Bronze Medal\",\"4\",\"5\"]\n",
    "# Explanation: The placements are [1st, 2nd, 3rd, 4th, 5th].\n",
    "\n",
    "# Example 2:\n",
    "\n",
    "# Input: score = [10,3,8,9,4]\n",
    "# Output: [\"Gold Medal\",\"5\",\"Bronze Medal\",\"Silver Medal\",\"4\"]\n",
    "# Explanation: The placements are [1st, 5th, 3rd, 2nd, 4th].\n",
    "\n",
    "# Constraints:\n",
    "\n",
    "# n == score.length\n",
    "# 1 <= n <= 10^4\n",
    "# 0 <= score[i] <= 10^6\n",
    "# All the values in score are unique."
   ]
  },
  {
   "cell_type": "code",
   "execution_count": 110,
   "id": "14ed128c-07a4-4ebc-a485-eb0c8ec2e5f7",
   "metadata": {},
   "outputs": [],
   "source": [
    "class Solution:\n",
    "    \n",
    "    def findRelativeRanks(self, score):\n",
    "\n",
    "        # Dictionary to store ranks of scores\n",
    "\n",
    "        rank_dict = {}\n",
    "\n",
    "        # Creating a sorted list of score to rank the values\n",
    "\n",
    "        sortedscore = score.copy()\n",
    "\n",
    "        sortedscore.sort(reverse = True)\n",
    "\n",
    "        # Output list to store the rank of original list\n",
    "\n",
    "        output = []\n",
    "\n",
    "\n",
    "        for i in range(len(sortedscore)):\n",
    "\n",
    "            if i == 0:\n",
    "\n",
    "                rank_dict[sortedscore[i]] = \"Gold Medal\"\n",
    "\n",
    "            elif i == 1:\n",
    "\n",
    "                rank_dict[sortedscore[i]] = \"Silver Medal\"\n",
    "\n",
    "            elif i == 2:\n",
    "\n",
    "                rank_dict[sortedscore[i]] = \"Bronze Medal\"\n",
    "\n",
    "            else:\n",
    "\n",
    "                rank_dict[sortedscore[i]] = str(i+1)\n",
    "\n",
    "        # Append the output list based on rank\n",
    "\n",
    "        for x in score:\n",
    "\n",
    "            output.append(rank_dict[x])\n",
    "\n",
    "        return output"
   ]
  },
  {
   "cell_type": "code",
   "execution_count": 111,
   "id": "75637410-8151-4faf-9016-ffdbadaf3569",
   "metadata": {},
   "outputs": [
    {
     "name": "stdout",
     "output_type": "stream",
     "text": [
      "['Gold Medal', 'Silver Medal', 'Bronze Medal', '4', '5']\n",
      "['Gold Medal', '5', 'Bronze Medal', 'Silver Medal', '4']\n"
     ]
    }
   ],
   "source": [
    "X = Solution()\n",
    "\n",
    "print(X.findRelativeRanks([5,4,3,2,1]))\n",
    "print(X.findRelativeRanks([10,3,8,9,4]))"
   ]
  },
  {
   "cell_type": "markdown",
   "id": "a665c78f-3516-498c-a6c9-ad8d4b5fda7d",
   "metadata": {},
   "source": [
    "# 561. Array Partition"
   ]
  },
  {
   "cell_type": "code",
   "execution_count": 113,
   "id": "48321979-ec66-4848-b8d3-01b821019edf",
   "metadata": {},
   "outputs": [],
   "source": [
    "# Given an integer array nums of 2n integers, group these integers into n pairs (a1, b1), (a2, b2), ..., (an, bn) \n",
    "# such that the sum of min(ai, bi) for all i is maximized. Return the maximized sum.\n",
    "\n",
    "# Example 1:\n",
    "\n",
    "# Input: nums = [1,4,3,2]\n",
    "# Output: 4\n",
    "# Explanation: All possible pairings (ignoring the ordering of elements) are:\n",
    "# 1. (1, 4), (2, 3) -> min(1, 4) + min(2, 3) = 1 + 2 = 3\n",
    "# 2. (1, 3), (2, 4) -> min(1, 3) + min(2, 4) = 1 + 2 = 3\n",
    "# 3. (1, 2), (3, 4) -> min(1, 2) + min(3, 4) = 1 + 3 = 4\n",
    "# So the maximum possible sum is 4.\n",
    "\n",
    "# Example 2:\n",
    "\n",
    "# Input: nums = [6,2,6,5,1,2]\n",
    "# Output: 9\n",
    "# Explanation: The optimal pairing is (2, 1), (2, 5), (6, 6). min(2, 1) + min(2, 5) + min(6, 6) = 1 + 2 + 6 = 9.\n",
    "\n",
    "# Constraints:\n",
    "\n",
    "# 1 <= n <= 10^4\n",
    "# nums.length == 2 * n\n",
    "# -10^4 <= nums[i] <= 10^4"
   ]
  },
  {
   "cell_type": "code",
   "execution_count": 114,
   "id": "ef7403fc-ddd1-4692-b44a-ab74f735584f",
   "metadata": {},
   "outputs": [],
   "source": [
    "class Solution:\n",
    "    \n",
    "    def arrayPairSum(self, nums):\n",
    "\n",
    "        # Maximum sum of all minimum of all pairs will be the pairs in a sorted array\n",
    "\n",
    "        nums.sort()\n",
    "\n",
    "        i = 0\n",
    "\n",
    "        max_sum = 0\n",
    "\n",
    "        while i < len(nums):\n",
    "\n",
    "            # Taking the smaller of the pair in a sorted array will give us the maximum sum\n",
    "            # which is nothing but taking the sum of all the items in index position = 0, 2, 4.......\n",
    "\n",
    "            max_sum += nums[i]\n",
    "\n",
    "            i += 2\n",
    "\n",
    "        return max_sum    "
   ]
  },
  {
   "cell_type": "code",
   "execution_count": 115,
   "id": "b4d16d3d-e5db-4f2d-aa4a-d09e6de41312",
   "metadata": {},
   "outputs": [
    {
     "name": "stdout",
     "output_type": "stream",
     "text": [
      "4\n",
      "9\n",
      "10\n",
      "-9\n"
     ]
    }
   ],
   "source": [
    "X = Solution()\n",
    "\n",
    "print(X.arrayPairSum([1,4,3,2]))\n",
    "print(X.arrayPairSum([6,2,6,5,1,2]))\n",
    "print(X.arrayPairSum([1,7,6,3,2,5]))\n",
    "print(X.arrayPairSum([-10,-5,-2,0,3,10]))"
   ]
  },
  {
   "cell_type": "markdown",
   "id": "5bf7a3b5-f9e1-450e-85c6-0a037d07f2ae",
   "metadata": {},
   "source": [
    "# 566. Reshape the Matrix"
   ]
  },
  {
   "cell_type": "code",
   "execution_count": 117,
   "id": "4560b1ad-e779-4093-8fdf-db12d727eb87",
   "metadata": {},
   "outputs": [],
   "source": [
    "# In MATLAB, there is a handy function called reshape which can reshape an m x n matrix into a new one with a \n",
    "# different size r x c keeping its original data.\n",
    "\n",
    "# You are given an m x n matrix mat and two integers r and c representing the number of rows and the number of \n",
    "# columns of the wanted reshaped matrix.\n",
    "\n",
    "# The reshaped matrix should be filled with all the elements of the original matrix in the same \n",
    "# row-traversing order as they were.\n",
    "\n",
    "# If the reshape operation with given parameters is possible and legal, output the new reshaped matrix; \n",
    "# Otherwise, output the original matrix.\n",
    "\n",
    "# Example 1:\n",
    "\n",
    "# Input: mat = [[1,2],[3,4]], r = 1, c = 4\n",
    "# Output: [[1,2,3,4]]\n",
    "\n",
    "# Example 2:\n",
    "\n",
    "# Input: mat = [[1,2],[3,4]], r = 2, c = 4\n",
    "# Output: [[1,2],[3,4]]\n",
    " \n",
    "# Constraints:\n",
    "\n",
    "# m == mat.length\n",
    "# n == mat[i].length\n",
    "# 1 <= m, n <= 100\n",
    "# -1000 <= mat[i][j] <= 1000\n",
    "# 1 <= r, c <= 300"
   ]
  },
  {
   "cell_type": "code",
   "execution_count": 118,
   "id": "2c5fb8e0-516c-4bad-809e-40016f2a44ae",
   "metadata": {},
   "outputs": [],
   "source": [
    "class Solution:\n",
    "\n",
    "    def matrixReshape(self, mat, r, c):\n",
    "\n",
    "        \n",
    "        # Creating a 1-D array to store all elements of mat\n",
    "        \n",
    "        flatten_matrix = []\n",
    "\n",
    "        for row in mat:\n",
    "\n",
    "            for row_ele in row:\n",
    "\n",
    "                flatten_matrix.append(row_ele)\n",
    "\n",
    "        # Creating the output list to store the r*c matrix\n",
    "\n",
    "        output = []\n",
    "\n",
    "        # If the row*column is not equal to the number of elements in mat, then return original array\n",
    "\n",
    "        if r*c != len(flatten_matrix):\n",
    "\n",
    "            return mat\n",
    "\n",
    "        for _ in range(r):\n",
    "\n",
    "            temp_list = []\n",
    "\n",
    "            for _ in range(c):\n",
    "\n",
    "                temp_list.append(flatten_matrix.pop(0))\n",
    "\n",
    "            output.append(temp_list)\n",
    "\n",
    "        return output\n",
    "\n",
    "        "
   ]
  },
  {
   "cell_type": "code",
   "execution_count": 119,
   "id": "7cbc1fc4-a943-4420-8a8c-782c603f1e0a",
   "metadata": {},
   "outputs": [
    {
     "name": "stdout",
     "output_type": "stream",
     "text": [
      "[[1, 2, 3, 4]]\n",
      "[[1, 2], [3, 4]]\n",
      "[[1, 2], [3, 4], [5, 6]]\n",
      "[[1, 2, 3], [4, 5, 6]]\n"
     ]
    }
   ],
   "source": [
    "X = Solution()\n",
    "\n",
    "print(X.matrixReshape([[1,2],[3,4]], 1, 4))\n",
    "print(X.matrixReshape([[1,2],[3,4]], 2, 4))\n",
    "print(X.matrixReshape([[1,2,3],[4,5,6]], 3, 2))\n",
    "print(X.matrixReshape([[1,2,3],[4,5,6]], 3, 4))"
   ]
  },
  {
   "cell_type": "markdown",
   "id": "722d65f2-ed0a-4450-a6d4-cba5593a9b29",
   "metadata": {},
   "source": [
    "# 575. Distribute Candies"
   ]
  },
  {
   "cell_type": "code",
   "execution_count": 121,
   "id": "2d596b44-97f8-4981-94eb-3e0f9286550a",
   "metadata": {},
   "outputs": [],
   "source": [
    "# Alice has n candies, where the ith candy is of type candyType[i]. Alice noticed that she started to gain weight, \n",
    "# so she visited a doctor.\n",
    "\n",
    "# The doctor advised Alice to only eat n / 2 of the candies she has (n is always even). \n",
    "# Alice likes her candies very much, and she wants to eat the maximum number of different types of candies while \n",
    "# still following the doctor's advice.\n",
    "\n",
    "# Given the integer array candyType of length n, return the maximum number of different types of candies she can eat \n",
    "# if she only eats n / 2 of them.\n",
    "\n",
    "# Example 1:\n",
    "\n",
    "# Input: candyType = [1,1,2,2,3,3]\n",
    "# Output: 3\n",
    "# Explanation: Alice can only eat 6 / 2 = 3 candies. Since there are only 3 types, she can eat one of each type.\n",
    "\n",
    "# Example 2:\n",
    "\n",
    "# Input: candyType = [1,1,2,3]\n",
    "# Output: 2\n",
    "# Explanation: Alice can only eat 4 / 2 = 2 candies. Whether she eats types [1,2], [1,3], or [2,3], she still can only \n",
    "# eat 2 different types.\n",
    "\n",
    "# Example 3:\n",
    "\n",
    "# Input: candyType = [6,6,6,6]\n",
    "# Output: 1\n",
    "# Explanation: Alice can only eat 4 / 2 = 2 candies. Even though she can eat 2 candies, she only has 1 type.\n",
    " \n",
    "\n",
    "# Constraints:\n",
    "\n",
    "# n == candyType.length\n",
    "# 2 <= n <= 10^4\n",
    "# n is even.\n",
    "# -10^5 <= candyType[i] <= 10^5"
   ]
  },
  {
   "cell_type": "code",
   "execution_count": 122,
   "id": "85520388-b49f-4423-b46a-9501e903ea3f",
   "metadata": {},
   "outputs": [],
   "source": [
    "class Solution:\n",
    "    \n",
    "    def distributeCandies(self, candyType):\n",
    "\n",
    "        count_candy_types = 0\n",
    "\n",
    "        length_candytype_list = len(candyType)\n",
    "\n",
    "        length_unique_candytype = len(set(candyType))\n",
    "\n",
    "        if length_candytype_list <= 2:\n",
    "\n",
    "            return 1\n",
    "\n",
    "        if length_unique_candytype < length_candytype_list//2:\n",
    "\n",
    "            return length_unique_candytype\n",
    "\n",
    "        else:\n",
    "\n",
    "            return length_candytype_list//2"
   ]
  },
  {
   "cell_type": "code",
   "execution_count": 123,
   "id": "b15114c0-106d-40f7-9db6-af10cef6ce2b",
   "metadata": {},
   "outputs": [
    {
     "name": "stdout",
     "output_type": "stream",
     "text": [
      "3\n",
      "2\n",
      "1\n"
     ]
    }
   ],
   "source": [
    "X = Solution()\n",
    "\n",
    "print(X.distributeCandies([1,1,2,2,3,3]))\n",
    "print(X.distributeCandies([1,1,2,3]))\n",
    "print(X.distributeCandies([6,6,6,6]))"
   ]
  },
  {
   "cell_type": "markdown",
   "id": "f417a968-0736-4287-ad59-cfd46f8e04ac",
   "metadata": {},
   "source": [
    "# 594. Longest Harmonious Subsequence"
   ]
  },
  {
   "cell_type": "code",
   "execution_count": 125,
   "id": "78d24406-5650-4c18-93de-3747b2ed49cf",
   "metadata": {},
   "outputs": [],
   "source": [
    "# We define a harmonious array as an array where the difference between its maximum value and its minimum value \n",
    "# is exactly 1.\n",
    "\n",
    "# Given an integer array nums, return the length of its longest harmonious subsequence\n",
    "# among all its possible subsequences.\n",
    "\n",
    "# Example 1:\n",
    "\n",
    "# Input: nums = [1,3,2,2,5,2,3,7]\n",
    "\n",
    "# Output: 5\n",
    "\n",
    "# Explanation:\n",
    "\n",
    "# The longest harmonious subsequence is [3,2,2,2,3].\n",
    "\n",
    "# Example 2:\n",
    "\n",
    "# Input: nums = [1,2,3,4]\n",
    "\n",
    "# Output: 2\n",
    "\n",
    "# Explanation:\n",
    "\n",
    "# The longest harmonious subsequences are [1,2], [2,3], and [3,4], all of which have a length of 2.\n",
    "\n",
    "# Example 3:\n",
    "\n",
    "# Input: nums = [1,1,1,1]\n",
    "\n",
    "# Output: 0\n",
    "\n",
    "# Explanation:\n",
    "\n",
    "# No harmonic subsequence exists.\n",
    "\n",
    "# Constraints:\n",
    "\n",
    "# 1 <= nums.length <= 2 * 10^4\n",
    "# -10^9 <= nums[i] <= 10^9"
   ]
  },
  {
   "cell_type": "code",
   "execution_count": 126,
   "id": "3321b591-1ab0-411d-80b8-87a33c48b954",
   "metadata": {},
   "outputs": [],
   "source": [
    "class Solution:\n",
    "    \n",
    "    def findLHS(self, nums):\n",
    "\n",
    "        # Dictionaty to store frequency of each element\n",
    "\n",
    "        store_freq_of_element = {}\n",
    "\n",
    "        # Create frequency of occurence of each element in nums\n",
    "\n",
    "        for x in nums:\n",
    "\n",
    "            if x in store_freq_of_element:\n",
    "\n",
    "                store_freq_of_element[x] += 1\n",
    "\n",
    "            else:\n",
    "\n",
    "                store_freq_of_element[x] = 1\n",
    "\n",
    "        max_sum = 0\n",
    "\n",
    "        # If ele and ele-1 occurs in nums, count their sum of occurence to give harmonious array\n",
    "\n",
    "        for x in nums:\n",
    "\n",
    "            if x-1 in store_freq_of_element:\n",
    "\n",
    "                max_sum = max(max_sum, store_freq_of_element[x-1] + store_freq_of_element[x])\n",
    "\n",
    "        return max_sum"
   ]
  },
  {
   "cell_type": "code",
   "execution_count": 127,
   "id": "5057d21e-0648-41f2-a123-c83a5879ac39",
   "metadata": {},
   "outputs": [
    {
     "name": "stdout",
     "output_type": "stream",
     "text": [
      "5\n",
      "2\n",
      "0\n"
     ]
    }
   ],
   "source": [
    "X = Solution()\n",
    "\n",
    "print(X.findLHS([1,3,2,2,5,2,3,7]))\n",
    "print(X.findLHS([1,2,3,4]))\n",
    "print(X.findLHS([1,1,1,1]))"
   ]
  },
  {
   "cell_type": "markdown",
   "id": "81403ee6-044f-4c6c-8dc3-2d3d31ccab8a",
   "metadata": {},
   "source": [
    "# 599. Minimum Index Sum of Two Lists"
   ]
  },
  {
   "cell_type": "code",
   "execution_count": 129,
   "id": "9aafa849-5b34-404a-bbaf-7b3fdf45030e",
   "metadata": {},
   "outputs": [],
   "source": [
    "# Given two arrays of strings list1 and list2, find the common strings with the least index sum.\n",
    "\n",
    "# A common string is a string that appeared in both list1 and list2.\n",
    "\n",
    "# A common string with the least index sum is a common string such that if it appeared at list1[i] and list2[j] \n",
    "# then i + j should be the minimum value among all the other common strings.\n",
    "\n",
    "# Return all the common strings with the least index sum. Return the answer in any order.\n",
    "\n",
    "# Example 1:\n",
    "\n",
    "# Input: list1 = [\"Shogun\",\"Tapioca Express\",\"Burger King\",\"KFC\"], \n",
    "# list2 = [\"Piatti\",\"The Grill at Torrey Pines\",\"Hungry Hunter Steakhouse\",\"Shogun\"]\n",
    "# Output: [\"Shogun\"]\n",
    "# Explanation: The only common string is \"Shogun\".\n",
    "\n",
    "# Example 2:\n",
    "\n",
    "# Input: list1 = [\"Shogun\",\"Tapioca Express\",\"Burger King\",\"KFC\"], list2 = [\"KFC\",\"Shogun\",\"Burger King\"]\n",
    "# Output: [\"Shogun\"]\n",
    "# Explanation: The common string with the least index sum is \"Shogun\" with index sum = (0 + 1) = 1.\n",
    "\n",
    "# Example 3:\n",
    "\n",
    "# Input: list1 = [\"happy\",\"sad\",\"good\"], list2 = [\"sad\",\"happy\",\"good\"]\n",
    "# Output: [\"sad\",\"happy\"]\n",
    "# Explanation: There are three common strings:\n",
    "# \"happy\" with index sum = (0 + 1) = 1.\n",
    "# \"sad\" with index sum = (1 + 0) = 1.\n",
    "# \"good\" with index sum = (2 + 2) = 4.\n",
    "# The strings with the least index sum are \"sad\" and \"happy\".\n",
    "\n",
    "# Constraints:\n",
    "\n",
    "# 1 <= list1.length, list2.length <= 1000\n",
    "# 1 <= list1[i].length, list2[i].length <= 30\n",
    "# list1[i] and list2[i] consist of spaces ' ' and English letters.\n",
    "# All the strings of list1 are unique.\n",
    "# All the strings of list2 are unique.\n",
    "# There is at least a common string between list1 and list2."
   ]
  },
  {
   "cell_type": "code",
   "execution_count": 130,
   "id": "e2de27c8-8b54-45c2-abe6-a27664da6ffe",
   "metadata": {},
   "outputs": [],
   "source": [
    "class Solution:\n",
    "    \n",
    "    def findRestaurant(self, list1, list2):\n",
    "\n",
    "        # Create a dictionary to store index of all elements in list1\n",
    "\n",
    "        list1_dict = {}\n",
    "\n",
    "        for i in range(len(list1)):\n",
    "\n",
    "            list1_dict[list1[i]] = i\n",
    "\n",
    "        # Create a dictionary to store sum of index of common elements between list1 and list2\n",
    "\n",
    "        list2_dict = {}\n",
    "\n",
    "        for j in range(len(list2)):\n",
    "\n",
    "            if list2[j] in list1_dict:\n",
    "\n",
    "                list2_dict[list2[j]] = list1_dict[list2[j]] + j\n",
    "\n",
    "        # Find the minimum sum of index of common elements between list1 and list2\n",
    "\n",
    "        least_index_sum = min(list2_dict.values())\n",
    "\n",
    "        # Create a output list to store strings in both lists whose sum of index of common elements is minimum\n",
    "\n",
    "        output_list = []\n",
    "\n",
    "        for string, index_sum in list2_dict.items():\n",
    "\n",
    "            if index_sum == least_index_sum:\n",
    "\n",
    "                output_list.append(string)\n",
    "\n",
    "        return output_list"
   ]
  },
  {
   "cell_type": "code",
   "execution_count": 131,
   "id": "b7087650-5ce1-4274-b615-10109c0dbf70",
   "metadata": {},
   "outputs": [
    {
     "name": "stdout",
     "output_type": "stream",
     "text": [
      "['Shogun']\n",
      "['Shogun']\n",
      "['sad', 'happy']\n"
     ]
    }
   ],
   "source": [
    "X = Solution()\n",
    "\n",
    "print(X.findRestaurant([\"Shogun\",\"Tapioca Express\",\"Burger King\",\"KFC\"], \\\n",
    "                       [\"Piatti\",\"The Grill at Torrey Pines\",\"Hungry Hunter Steakhouse\",\"Shogun\"]))\n",
    "print(X.findRestaurant([\"Shogun\",\"Tapioca Express\",\"Burger King\",\"KFC\"], \\\n",
    "                       [\"KFC\",\"Shogun\",\"Burger King\"]))\n",
    "print(X.findRestaurant([\"happy\",\"sad\",\"good\"], [\"sad\",\"happy\",\"good\"]))"
   ]
  },
  {
   "cell_type": "markdown",
   "id": "5db599c4-5018-4ef2-960e-04a5c05fb0b2",
   "metadata": {},
   "source": [
    "# 605. Can Place Flowers"
   ]
  },
  {
   "cell_type": "code",
   "execution_count": 133,
   "id": "e662171e-993a-47ae-8d2a-bfe9abbeb192",
   "metadata": {},
   "outputs": [],
   "source": [
    "# You have a long flowerbed in which some of the plots are planted, and some are not. \n",
    "# However, flowers cannot be planted in adjacent plots.\n",
    "\n",
    "# Given an integer array flowerbed containing 0's and 1's, where 0 means empty and 1 means not empty, \n",
    "# and an integer n, return true if n new flowers can be planted in the flowerbed without violating \n",
    "# the no-adjacent-flowers rule and false otherwise.\n",
    "\n",
    "# Example 1:\n",
    "\n",
    "# Input: flowerbed = [1,0,0,0,1], n = 1\n",
    "# Output: true\n",
    "\n",
    "# Example 2:\n",
    "\n",
    "# Input: flowerbed = [1,0,0,0,1], n = 2\n",
    "# Output: false\n",
    " \n",
    "# Constraints:\n",
    "\n",
    "# 1 <= flowerbed.length <= 2 * 10^4\n",
    "# flowerbed[i] is 0 or 1.\n",
    "# There are no two adjacent flowers in flowerbed.\n",
    "# 0 <= n <= flowerbed.length"
   ]
  },
  {
   "cell_type": "code",
   "execution_count": 134,
   "id": "af5a5dd4-cd07-4f76-9410-4c1ee3448f05",
   "metadata": {},
   "outputs": [],
   "source": [
    "class Solution:\n",
    "    \n",
    "    def canPlaceFlowers(self, flowerbed, n):\n",
    "\n",
    "        if n == 0:\n",
    "\n",
    "            return True\n",
    "\n",
    "        for i in range(len(flowerbed)):\n",
    "\n",
    "            if flowerbed[i] == 0 and (i ==0 or flowerbed[i-1] == 0) and (i == len(flowerbed)-1 or flowerbed[i+1] == 0):\n",
    "\n",
    "                flowerbed[i] = 1\n",
    "\n",
    "                n -= 1\n",
    "\n",
    "                if n == 0:\n",
    "\n",
    "                    return True\n",
    "\n",
    "        return False"
   ]
  },
  {
   "cell_type": "code",
   "execution_count": 135,
   "id": "66fe7e63-73af-450a-a715-d7082281f8f8",
   "metadata": {},
   "outputs": [
    {
     "name": "stdout",
     "output_type": "stream",
     "text": [
      "True\n",
      "False\n",
      "False\n",
      "True\n",
      "False\n",
      "True\n",
      "True\n",
      "True\n",
      "True\n"
     ]
    }
   ],
   "source": [
    "X = Solution()\n",
    "\n",
    "print(X.canPlaceFlowers([1,0,0,0,1], 1))\n",
    "print(X.canPlaceFlowers([1,0,0,0,1], 2))\n",
    "print(X.canPlaceFlowers([1,0,0,0,0,1], 2))\n",
    "print(X.canPlaceFlowers([1,0,0,1,0,0,0,1], 1))\n",
    "print(X.canPlaceFlowers([1,0,0,1,0,0,1], 1))\n",
    "print(X.canPlaceFlowers([0], 1))\n",
    "print(X.canPlaceFlowers([0,0], 1))\n",
    "print(X.canPlaceFlowers([0,0,1], 1))\n",
    "print(X.canPlaceFlowers([0,0,1], 0))"
   ]
  },
  {
   "cell_type": "markdown",
   "id": "c3ac63c7-f077-459d-8ab4-f675dd172769",
   "metadata": {},
   "source": [
    "# 628. Maximum Product of Three Numbers"
   ]
  },
  {
   "cell_type": "code",
   "execution_count": 137,
   "id": "e4cd405f-7f5a-4cf1-96fe-6aad9f760671",
   "metadata": {},
   "outputs": [],
   "source": [
    "# Given an integer array nums, find three numbers whose product is maximum and return the maximum product.\n",
    "\n",
    "# Example 1:\n",
    "\n",
    "# Input: nums = [1,2,3]\n",
    "# Output: 6\n",
    "\n",
    "# Example 2:\n",
    "\n",
    "# Input: nums = [1,2,3,4]\n",
    "# Output: 24\n",
    "\n",
    "# Example 3:\n",
    "\n",
    "# Input: nums = [-1,-2,-3]\n",
    "# Output: -6\n",
    " \n",
    "# Constraints:\n",
    "\n",
    "# 3 <= nums.length <= 10^4\n",
    "# -1000 <= nums[i] <= 1000"
   ]
  },
  {
   "cell_type": "code",
   "execution_count": 138,
   "id": "adbab04a-a01a-42de-9071-7cffbdee4734",
   "metadata": {},
   "outputs": [],
   "source": [
    "class Solution:\n",
    "\n",
    "    def maximumProduct(self, nums):\n",
    "\n",
    "        nums.sort()\n",
    "\n",
    "        # nums[-1]*nums[-2]*nums[-3] is for case where the last 3 elements in the sorted list is maximum\n",
    "        # nums[0]*nums[1]*nums[-1] is for case when the first 2 elements of the sorted list is negative but\n",
    "        # the last element is positive\n",
    "\n",
    "        return max(nums[-1]*nums[-2]*nums[-3], nums[0]*nums[1]*nums[-1])"
   ]
  },
  {
   "cell_type": "code",
   "execution_count": 139,
   "id": "d572c088-b352-4132-9ad8-ef8e60f6af75",
   "metadata": {},
   "outputs": [
    {
     "name": "stdout",
     "output_type": "stream",
     "text": [
      "6\n",
      "24\n",
      "-6\n"
     ]
    }
   ],
   "source": [
    "X = Solution()\n",
    "\n",
    "print(X.maximumProduct([1,2,3]))\n",
    "print(X.maximumProduct([1,2,3,4]))\n",
    "print(X.maximumProduct([-1,-2,-3]))"
   ]
  },
  {
   "cell_type": "markdown",
   "id": "1b8203f9-2747-469e-8546-870f5b1bd9f7",
   "metadata": {},
   "source": [
    "# 643. Maximum Average Subarray I"
   ]
  },
  {
   "cell_type": "code",
   "execution_count": 141,
   "id": "0e2573ae-67dd-4cf3-a7e3-10d4eb36ae13",
   "metadata": {},
   "outputs": [],
   "source": [
    "# You are given an integer array nums consisting of n elements, and an integer k.\n",
    "\n",
    "# Find a contiguous subarray whose length is equal to k that has the maximum average value and return this value. \n",
    "# Any answer with a calculation error less than 10-5 will be accepted.\n",
    "\n",
    "# Example 1:\n",
    "\n",
    "# Input: nums = [1,12,-5,-6,50,3], k = 4\n",
    "# Output: 12.75000\n",
    "# Explanation: Maximum average is (12 - 5 - 6 + 50) / 4 = 51 / 4 = 12.75\n",
    "\n",
    "# Example 2:\n",
    "\n",
    "# Input: nums = [5], k = 1\n",
    "# Output: 5.00000\n",
    " \n",
    "\n",
    "# Constraints:\n",
    "\n",
    "# n == nums.length\n",
    "# 1 <= k <= n <= 10^5\n",
    "# -10^4 <= nums[i] <= 10^4"
   ]
  },
  {
   "cell_type": "code",
   "execution_count": 142,
   "id": "b6264426-f848-4154-a00f-f4fbd8e3e87f",
   "metadata": {},
   "outputs": [],
   "source": [
    "class Solution:\n",
    "\n",
    "    def findMaxAverage(self, nums, k):\n",
    "\n",
    "        # Creating a Pre-fix Sum Array\n",
    "\n",
    "        PS = []\n",
    "\n",
    "        total = 0\n",
    "\n",
    "        for x in nums:\n",
    "\n",
    "            total += x\n",
    "\n",
    "            PS.append(total)\n",
    "\n",
    "        max_average = -float('inf')\n",
    "\n",
    "        for i in range(k-1, len(nums)):\n",
    "\n",
    "            if i == k-1:\n",
    "\n",
    "                max_average = max(max_average, PS[i]/k)\n",
    "\n",
    "            else:\n",
    "\n",
    "                max_average = max(max_average, (PS[i] - PS[i-k])/k)\n",
    "\n",
    "        return max_average\n",
    "        "
   ]
  },
  {
   "cell_type": "code",
   "execution_count": 143,
   "id": "7ed0fbc6-b0ab-4e81-8350-d0737254dfca",
   "metadata": {},
   "outputs": [
    {
     "name": "stdout",
     "output_type": "stream",
     "text": [
      "12.75\n",
      "5.0\n"
     ]
    }
   ],
   "source": [
    "X = Solution()\n",
    "\n",
    "print(X.findMaxAverage([1,12,-5,-6,50,3], 4))\n",
    "print(X.findMaxAverage([5], 1))"
   ]
  },
  {
   "cell_type": "markdown",
   "id": "eb80c080-9e05-429b-ba03-7e5d12200d65",
   "metadata": {},
   "source": [
    "# 645. Set Mismatch"
   ]
  },
  {
   "cell_type": "code",
   "execution_count": 145,
   "id": "53fb87f9-3d9a-41bf-a38a-7ba95e17a3f7",
   "metadata": {},
   "outputs": [],
   "source": [
    "# You have a set of integers s, which originally contains all the numbers from 1 to n. \n",
    "# Unfortunately, due to some error, one of the numbers in s got duplicated to another number in the set, \n",
    "# which results in repetition of one number and loss of another number.\n",
    "\n",
    "# You are given an integer array nums representing the data status of this set after the error.\n",
    "\n",
    "# Find the number that occurs twice and the number that is missing and return them in the form of an array.\n",
    "\n",
    "# Example 1:\n",
    "\n",
    "# Input: nums = [1,2,2,4]\n",
    "# Output: [2,3]\n",
    "\n",
    "# Example 2:\n",
    "\n",
    "# Input: nums = [1,1]\n",
    "# Output: [1,2]\n",
    "\n",
    "# Constraints:\n",
    "\n",
    "# 2 <= nums.length <= 10^4\n",
    "# 1 <= nums[i] <= 10^4"
   ]
  },
  {
   "cell_type": "code",
   "execution_count": 146,
   "id": "f2b57466-53b7-4226-8c70-ee5eeae2f5ef",
   "metadata": {},
   "outputs": [],
   "source": [
    "class Solution:\n",
    "    \n",
    "    def findErrorNums(self, nums):\n",
    "\n",
    "        nums_set = set()\n",
    "\n",
    "        output = []\n",
    "\n",
    "        for x in nums:\n",
    "\n",
    "            if x in nums_set:\n",
    "\n",
    "                output.append(x)\n",
    "\n",
    "            else:\n",
    "\n",
    "                nums_set.add(x)\n",
    "\n",
    "        for value in range(1, len(nums)+1):\n",
    "\n",
    "            if value not in nums_set:\n",
    "\n",
    "                output.append(value)\n",
    "\n",
    "            else:\n",
    "\n",
    "                continue\n",
    "\n",
    "        return output"
   ]
  },
  {
   "cell_type": "code",
   "execution_count": 147,
   "id": "5d57ba7d-f1fb-49c5-a884-ed790cbbdc19",
   "metadata": {},
   "outputs": [
    {
     "name": "stdout",
     "output_type": "stream",
     "text": [
      "[2, 3]\n",
      "[1, 2]\n",
      "[1, 3]\n",
      "[2, 1]\n"
     ]
    }
   ],
   "source": [
    "X = Solution()\n",
    "\n",
    "print(X.findErrorNums([1,2,2,4]))\n",
    "print(X.findErrorNums([1,1]))\n",
    "print(X.findErrorNums([1,1,2,4]))\n",
    "print(X.findErrorNums([2,2]))"
   ]
  },
  {
   "cell_type": "markdown",
   "id": "e9276f1d-3c73-48d1-aacd-e7363a1a607d",
   "metadata": {},
   "source": [
    "# 674. Longest Continuous Increasing Subsequence"
   ]
  },
  {
   "cell_type": "code",
   "execution_count": 149,
   "id": "9268137d-7618-405d-93ae-a60ced011881",
   "metadata": {},
   "outputs": [],
   "source": [
    "# Given an unsorted array of integers nums, return the length of the longest continuous increasing subsequence \n",
    "# (i.e. subarray). The subsequence must be strictly increasing.\n",
    "\n",
    "# A continuous increasing subsequence is defined by two indices l and r (l < r) such that it is \n",
    "# [nums[l], nums[l + 1], ..., nums[r - 1], nums[r]] and for each l <= i < r, nums[i] < nums[i + 1].\n",
    "\n",
    "# Example 1:\n",
    "\n",
    "# Input: nums = [1,3,5,4,7]\n",
    "# Output: 3\n",
    "# Explanation: The longest continuous increasing subsequence is [1,3,5] with length 3.\n",
    "# Even though [1,3,5,7] is an increasing subsequence, it is not continuous as elements 5 and 7 are separated by element 4.\n",
    "# Example 2:\n",
    "\n",
    "# Input: nums = [2,2,2,2,2]\n",
    "# Output: 1\n",
    "# Explanation: The longest continuous increasing subsequence is [2] with length 1. Note that it must be strictly\n",
    "# increasing.\n",
    "\n",
    "# Constraints:\n",
    "\n",
    "# 1 <= nums.length <= 10^4\n",
    "# -10^9 <= nums[i] <= 10^9"
   ]
  },
  {
   "cell_type": "code",
   "execution_count": 150,
   "id": "bb912b74-7854-460b-9259-5899d33ba118",
   "metadata": {},
   "outputs": [],
   "source": [
    "class Solution:\n",
    "    \n",
    "    def findLengthOfLCIS(self, nums):\n",
    "\n",
    "        max_length = 1\n",
    "\n",
    "        count = 1\n",
    "\n",
    "        for i in range(1, len(nums)):\n",
    "\n",
    "            if nums[i] > nums[i-1]:\n",
    "\n",
    "                count += 1\n",
    "\n",
    "                max_length = max(max_length, count)\n",
    "\n",
    "            elif nums[i] <= nums[i-1]:\n",
    "\n",
    "                count = 1\n",
    "\n",
    "        return max_length"
   ]
  },
  {
   "cell_type": "code",
   "execution_count": 151,
   "id": "6383bce2-93b8-4553-802b-034d1b6253e8",
   "metadata": {},
   "outputs": [
    {
     "name": "stdout",
     "output_type": "stream",
     "text": [
      "3\n",
      "1\n"
     ]
    }
   ],
   "source": [
    "X = Solution()\n",
    "\n",
    "print(X.findLengthOfLCIS([1,3,5,4,7]))\n",
    "print(X.findLengthOfLCIS([2,2,2,2,2]))"
   ]
  },
  {
   "cell_type": "markdown",
   "id": "d9408253-ea5d-4024-ad13-144bb9252ab5",
   "metadata": {},
   "source": [
    "# 682. Baseball Game"
   ]
  },
  {
   "cell_type": "code",
   "execution_count": 153,
   "id": "d5f66f03-257c-4357-9bcd-6cf321f7580f",
   "metadata": {},
   "outputs": [],
   "source": [
    "# You are keeping the scores for a baseball game with strange rules. At the beginning of the game, \n",
    "# you start with an empty record.\n",
    "\n",
    "# You are given a list of strings operations, where operations[i] is the ith operation you must apply to the \n",
    "# record and is one of the following:\n",
    "\n",
    "# An integer x - Record a new score of x.\n",
    "# '+' - Record a new score that is the sum of the previous two scores.\n",
    "# 'D' - Record a new score that is the double of the previous score.\n",
    "# 'C' - Invalidate the previous score, removing it from the record.\n",
    "# Return the sum of all the scores on the record after applying all the operations.\n",
    "\n",
    "# The test cases are generated such that the answer and all intermediate calculations fit in a 32-bit integer \n",
    "# and that all operations are valid.\n",
    "\n",
    "# Example 1:\n",
    "\n",
    "# Input: ops = [\"5\",\"2\",\"C\",\"D\",\"+\"]\n",
    "# Output: 30\n",
    "# Explanation:\n",
    "# \"5\" - Add 5 to the record, record is now [5].\n",
    "# \"2\" - Add 2 to the record, record is now [5, 2].\n",
    "# \"C\" - Invalidate and remove the previous score, record is now [5].\n",
    "# \"D\" - Add 2 * 5 = 10 to the record, record is now [5, 10].\n",
    "# \"+\" - Add 5 + 10 = 15 to the record, record is now [5, 10, 15].\n",
    "# The total sum is 5 + 10 + 15 = 30.\n",
    "\n",
    "# Example 2:\n",
    "\n",
    "# Input: ops = [\"5\",\"-2\",\"4\",\"C\",\"D\",\"9\",\"+\",\"+\"]\n",
    "# Output: 27\n",
    "# Explanation:\n",
    "# \"5\" - Add 5 to the record, record is now [5].\n",
    "# \"-2\" - Add -2 to the record, record is now [5, -2].\n",
    "# \"4\" - Add 4 to the record, record is now [5, -2, 4].\n",
    "# \"C\" - Invalidate and remove the previous score, record is now [5, -2].\n",
    "# \"D\" - Add 2 * -2 = -4 to the record, record is now [5, -2, -4].\n",
    "# \"9\" - Add 9 to the record, record is now [5, -2, -4, 9].\n",
    "# \"+\" - Add -4 + 9 = 5 to the record, record is now [5, -2, -4, 9, 5].\n",
    "# \"+\" - Add 9 + 5 = 14 to the record, record is now [5, -2, -4, 9, 5, 14].\n",
    "# The total sum is 5 + -2 + -4 + 9 + 5 + 14 = 27.\n",
    "\n",
    "# Example 3:\n",
    "\n",
    "# Input: ops = [\"1\",\"C\"]\n",
    "# Output: 0\n",
    "# Explanation:\n",
    "# \"1\" - Add 1 to the record, record is now [1].\n",
    "# \"C\" - Invalidate and remove the previous score, record is now [].\n",
    "# Since the record is empty, the total sum is 0.\n",
    " \n",
    "# Constraints:\n",
    "\n",
    "# 1 <= operations.length <= 1000\n",
    "# operations[i] is \"C\", \"D\", \"+\", or a string representing an integer in the range [-3 * 104, 3 * 104].\n",
    "# For operation \"+\", there will always be at least two previous scores on the record.\n",
    "# For operations \"C\" and \"D\", there will always be at least one previous score on the record."
   ]
  },
  {
   "cell_type": "code",
   "execution_count": 154,
   "id": "eeaec5b6-13ad-4f5c-8fe4-00aa33540c3f",
   "metadata": {},
   "outputs": [],
   "source": [
    "class Solution:\n",
    "\n",
    "    def calPoints(self, operations):\n",
    "\n",
    "        output_list = []\n",
    "\n",
    "        for x in operations:\n",
    "\n",
    "            if x == '+':\n",
    "\n",
    "                output_list.append(output_list[-2] + output_list[-1])\n",
    "\n",
    "            elif x == 'D':\n",
    "\n",
    "                output_list.append(output_list[-1]*2)\n",
    "\n",
    "            elif x == 'C':\n",
    "\n",
    "                output_list.pop()\n",
    "\n",
    "            else:\n",
    "\n",
    "                output_list.append(int(x))\n",
    "\n",
    "        return sum(output_list)"
   ]
  },
  {
   "cell_type": "code",
   "execution_count": 155,
   "id": "a55cd085-4152-4c0e-8a5a-656cc0ad1ac0",
   "metadata": {},
   "outputs": [
    {
     "name": "stdout",
     "output_type": "stream",
     "text": [
      "30\n",
      "27\n",
      "0\n"
     ]
    }
   ],
   "source": [
    "X = Solution()\n",
    "\n",
    "print(X.calPoints([\"5\",\"2\",\"C\",\"D\",\"+\"]))\n",
    "print(X.calPoints([\"5\",\"-2\",\"4\",\"C\",\"D\",\"9\",\"+\",\"+\"]))\n",
    "print(X.calPoints([\"1\",\"C\"]))"
   ]
  },
  {
   "cell_type": "markdown",
   "id": "5ebae146-0bfa-49f3-9441-29df9d32fb4a",
   "metadata": {},
   "source": [
    "# 697. Degree of an Array"
   ]
  },
  {
   "cell_type": "code",
   "execution_count": 157,
   "id": "ce656512-f649-4d58-9458-b941f9df0cca",
   "metadata": {},
   "outputs": [],
   "source": [
    "# Given a non-empty array of non-negative integers nums, the degree of this array is defined as the maximum \n",
    "# frequency of any one of its elements.\n",
    "\n",
    "# Your task is to find the smallest possible length of a (contiguous) subarray of nums, that has the same \n",
    "# degree as nums.\n",
    "\n",
    "# Example 1:\n",
    "\n",
    "# Input: nums = [1,2,2,3,1]\n",
    "# Output: 2\n",
    "# Explanation: \n",
    "# The input array has a degree of 2 because both elements 1 and 2 appear twice.\n",
    "# Of the subarrays that have the same degree:\n",
    "# [1, 2, 2, 3, 1], [1, 2, 2, 3], [2, 2, 3, 1], [1, 2, 2], [2, 2, 3], [2, 2]\n",
    "# The shortest length is 2. So return 2.\n",
    "\n",
    "# Example 2:\n",
    "\n",
    "# Input: nums = [1,2,2,3,1,4,2]\n",
    "# Output: 6\n",
    "# Explanation: \n",
    "# The degree is 3 because the element 2 is repeated 3 times.\n",
    "# So [2,2,3,1,4,2] is the shortest subarray, therefore returning 6.\n",
    "\n",
    "# Constraints:\n",
    "\n",
    "# nums.length will be between 1 and 50,000.\n",
    "# nums[i] will be an integer between 0 and 49,999."
   ]
  },
  {
   "cell_type": "code",
   "execution_count": 158,
   "id": "e712b7ee-773f-481e-923b-4f48fcbf5612",
   "metadata": {},
   "outputs": [],
   "source": [
    "class Solution:\n",
    "    \n",
    "    def findShortestSubArray(self, nums):\n",
    "\n",
    "        store_index_position = {}\n",
    "\n",
    "        for i in range(len(nums)):\n",
    "\n",
    "            if nums[i] in store_index_position:\n",
    "\n",
    "                store_index_position[nums[i]].append(i)\n",
    "\n",
    "            else:\n",
    "\n",
    "                store_index_position[nums[i]] = [i]\n",
    "\n",
    "        store_freq = {}\n",
    "\n",
    "        for i in range(len(nums)):\n",
    "\n",
    "            if nums[i] in store_freq:\n",
    "\n",
    "                store_freq[nums[i]] += 1\n",
    "\n",
    "            else:\n",
    "\n",
    "                store_freq[nums[i]] = 1\n",
    "\n",
    "        degree = max(store_freq.values())\n",
    "\n",
    "        if degree == 1:\n",
    "\n",
    "            return 1\n",
    "\n",
    "        min_length_subarray = float('inf')\n",
    "\n",
    "        length_subarray = 1\n",
    "\n",
    "        for x, list_values in store_index_position.items():\n",
    "\n",
    "            if degree == len(list_values):\n",
    "\n",
    "                length_subarray = list_values[-1] - list_values[0] + 1\n",
    "\n",
    "                min_length_subarray = min(min_length_subarray, length_subarray)\n",
    "\n",
    "        return min_length_subarray"
   ]
  },
  {
   "cell_type": "code",
   "execution_count": 159,
   "id": "616fe835-044f-40f0-8e24-ffe7c55b05bf",
   "metadata": {},
   "outputs": [
    {
     "name": "stdout",
     "output_type": "stream",
     "text": [
      "2\n",
      "6\n",
      "2\n",
      "4\n",
      "3\n"
     ]
    }
   ],
   "source": [
    "X = Solution()\n",
    "\n",
    "print(X.findShortestSubArray([1,2,2,3,1]))\n",
    "print(X.findShortestSubArray([1,2,2,3,1,4,2]))\n",
    "print(X.findShortestSubArray([1,2,3,1,3,4,4]))\n",
    "print(X.findShortestSubArray([4,4,4,4]))\n",
    "print(X.findShortestSubArray([4,4,4,1]))"
   ]
  },
  {
   "cell_type": "markdown",
   "id": "185277de-194c-4890-a6f2-2ed3f02804b0",
   "metadata": {},
   "source": [
    "# 704. Binary Search"
   ]
  },
  {
   "cell_type": "code",
   "execution_count": 161,
   "id": "9cdd03a4-1e29-4f31-b6d1-ff2b37a385c4",
   "metadata": {},
   "outputs": [],
   "source": [
    "# Given an array of integers nums which is sorted in ascending order, and an integer target, \n",
    "# write a function to search target in nums. If target exists, then return its index. Otherwise, return -1.\n",
    "\n",
    "# You must write an algorithm with O(log n) runtime complexity.\n",
    "\n",
    "# Example 1:\n",
    "\n",
    "# Input: nums = [-1,0,3,5,9,12], target = 9\n",
    "# Output: 4\n",
    "# Explanation: 9 exists in nums and its index is 4\n",
    "\n",
    "# Example 2:\n",
    "\n",
    "# Input: nums = [-1,0,3,5,9,12], target = 2\n",
    "# Output: -1\n",
    "# Explanation: 2 does not exist in nums so return -1\n",
    " \n",
    "# Constraints:\n",
    "\n",
    "# 1 <= nums.length <= 10^4\n",
    "# -10^4 < nums[i], target < 10^4\n",
    "# All the integers in nums are unique.\n",
    "# nums is sorted in ascending order."
   ]
  },
  {
   "cell_type": "code",
   "execution_count": 162,
   "id": "24ffd460-84be-41e9-9fe3-95e6bdf192b5",
   "metadata": {},
   "outputs": [],
   "source": [
    "class Solution:\n",
    "\n",
    "    def search(self, nums, target):\n",
    "\n",
    "        lower_bound = 0\n",
    "\n",
    "        upper_bound = len(nums) - 1\n",
    "\n",
    "        while lower_bound <= upper_bound:\n",
    "\n",
    "            mid_val = (lower_bound+upper_bound)//2\n",
    "\n",
    "            if target == nums[mid_val]:\n",
    "\n",
    "                return mid_val\n",
    "\n",
    "            elif target > nums[mid_val]:\n",
    "\n",
    "                lower_bound = mid_val + 1\n",
    "\n",
    "            else:\n",
    "\n",
    "                upper_bound = mid_val - 1\n",
    "\n",
    "        return -1"
   ]
  },
  {
   "cell_type": "code",
   "execution_count": 163,
   "id": "114ce711-38c3-48aa-9393-fe0117dc90c6",
   "metadata": {},
   "outputs": [
    {
     "name": "stdout",
     "output_type": "stream",
     "text": [
      "4\n",
      "-1\n"
     ]
    }
   ],
   "source": [
    "X = Solution()\n",
    "\n",
    "print(X.search([-1,0,3,5,9,12], 9))\n",
    "print(X.search([-1,0,3,5,9,12], 2))"
   ]
  },
  {
   "cell_type": "code",
   "execution_count": null,
   "id": "1077d138-d1cb-46d6-b183-b4a3848b78f4",
   "metadata": {},
   "outputs": [],
   "source": []
  }
 ],
 "metadata": {
  "kernelspec": {
   "display_name": "Python 3 (ipykernel)",
   "language": "python",
   "name": "python3"
  },
  "language_info": {
   "codemirror_mode": {
    "name": "ipython",
    "version": 3
   },
   "file_extension": ".py",
   "mimetype": "text/x-python",
   "name": "python",
   "nbconvert_exporter": "python",
   "pygments_lexer": "ipython3",
   "version": "3.12.4"
  }
 },
 "nbformat": 4,
 "nbformat_minor": 5
}
