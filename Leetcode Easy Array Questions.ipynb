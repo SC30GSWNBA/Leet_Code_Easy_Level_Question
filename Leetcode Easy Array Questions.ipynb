{
 "cells": [
  {
   "cell_type": "markdown",
   "id": "4292a3f9-6e80-45ab-9558-ba88f5babb5a",
   "metadata": {},
   "source": [
    "# 1. Two Sum"
   ]
  },
  {
   "cell_type": "code",
   "execution_count": 79,
   "id": "0a8f1002-846a-486f-a6ec-7b60bdc2dd99",
   "metadata": {},
   "outputs": [],
   "source": [
    "# Given an array of integers nums and an integer target, return indices of the two numbers such that they add up to target.\n",
    "\n",
    "# You may assume that each input would have exactly one solution, and you may not use the same element twice.\n",
    "\n",
    "# You can return the answer in any order.\n",
    "\n",
    "# Example 1:\n",
    "\n",
    "# Input: nums = [2,7,11,15], target = 9\n",
    "# Output: [0,1]\n",
    "# Explanation: Because nums[0] + nums[1] == 9, we return [0, 1].\n",
    "# Example 2:\n",
    "\n",
    "# Input: nums = [3,2,4], target = 6\n",
    "# Output: [1,2]\n",
    "# Example 3:\n",
    "\n",
    "# Input: nums = [3,3], target = 6\n",
    "# Output: [0,1]\n",
    " \n",
    "\n",
    "# Constraints:\n",
    "\n",
    "# 2 <= nums.length <= 10^4\n",
    "# -10^9 <= nums[i] <= 10^9\n",
    "# -10^9 <= target <= 10^9\n",
    "# Only one valid answer exists.\n",
    " \n",
    "\n",
    "# Follow-up: Can you come up with an algorithm that is less than O(n^2) time complexity?"
   ]
  },
  {
   "cell_type": "code",
   "execution_count": 38,
   "id": "d7691956-f6ce-4778-98e3-9811d049f6a4",
   "metadata": {},
   "outputs": [],
   "source": [
    "class Solution:\n",
    "    \n",
    "    def twoSum(self, nums, target):\n",
    "\n",
    "        # Defining a dictionary for value, index as key-value pair\n",
    "        \n",
    "        store_dict = {}\n",
    "\n",
    "        for idx, num in enumerate(nums):\n",
    "\n",
    "            if target-num in store_dict:\n",
    "\n",
    "                return [store_dict[target-num], idx]\n",
    "\n",
    "            else:\n",
    "\n",
    "                store_dict[num] = idx"
   ]
  },
  {
   "cell_type": "code",
   "execution_count": 40,
   "id": "bc1e4a4a-2b69-4f94-a27f-e8014fff2443",
   "metadata": {},
   "outputs": [
    {
     "name": "stdout",
     "output_type": "stream",
     "text": [
      "[0, 1]\n",
      "[1, 2]\n",
      "[0, 1]\n"
     ]
    }
   ],
   "source": [
    "X = Solution()\n",
    "\n",
    "print(X.twoSum([2,7,11,15], 9))\n",
    "print(X.twoSum([3,2,4], 6))\n",
    "print(X.twoSum([3,3], 6))"
   ]
  },
  {
   "cell_type": "markdown",
   "id": "1617292b-31b4-4c1b-9002-ff0ff507a7c8",
   "metadata": {},
   "source": [
    "# 26. Remove Duplicates from Sorted Array"
   ]
  },
  {
   "cell_type": "code",
   "execution_count": 91,
   "id": "070d9ff9-5dfc-4f8e-b0f6-b1e611737edf",
   "metadata": {},
   "outputs": [],
   "source": [
    "# Given an integer array nums sorted in non-decreasing order, remove the duplicates in-place such that each \n",
    "# unique element appears only once. \n",
    "# The relative order of the elements should be kept the same. Then return the number of unique elements in nums.\n",
    "\n",
    "# Consider the number of unique elements of nums to be k, to get accepted, you need to do the following things:\n",
    "\n",
    "# Change the array nums such that the first k elements of nums contain the unique elements in the order they were \n",
    "# present in nums initially. \n",
    "# The remaining elements of nums are not important as well as the size of nums.\n",
    "# Return k.\n",
    "# Custom Judge:\n",
    "\n",
    "# The judge will test your solution with the following code:\n",
    "\n",
    "# int[] nums = [...]; // Input array\n",
    "# int[] expectedNums = [...]; // The expected answer with correct length\n",
    "\n",
    "# int k = removeDuplicates(nums); // Calls your implementation\n",
    "\n",
    "# assert k == expectedNums.length;\n",
    "# for (int i = 0; i < k; i++) {\n",
    "#     assert nums[i] == expectedNums[i];\n",
    "# }\n",
    "# If all assertions pass, then your solution will be accepted.\n",
    "\n",
    " \n",
    "\n",
    "# Example 1:\n",
    "\n",
    "# Input: nums = [1,1,2]\n",
    "# Output: 2, nums = [1,2,_]\n",
    "# Explanation: Your function should return k = 2, with the first two elements of nums being 1 and 2 respectively.\n",
    "# It does not matter what you leave beyond the returned k (hence they are underscores).\n",
    "# Example 2:\n",
    "\n",
    "# Input: nums = [0,0,1,1,1,2,2,3,3,4]\n",
    "# Output: 5, nums = [0,1,2,3,4,_,_,_,_,_]\n",
    "# Explanation: Your function should return k = 5, with the first five elements of nums being 0, 1, 2, 3, \n",
    "# and 4 respectively.\n",
    "# It does not matter what you leave beyond the returned k (hence they are underscores).\n",
    " \n",
    "\n",
    "# Constraints:\n",
    "\n",
    "# 1 <= nums.length <= 3 * 10^4\n",
    "# -100 <= nums[i] <= 100\n",
    "# nums is sorted in non-decreasing order."
   ]
  },
  {
   "cell_type": "code",
   "execution_count": 46,
   "id": "9c9ef96a-e752-4e28-9f72-5f2ff38a386a",
   "metadata": {},
   "outputs": [],
   "source": [
    "class Solution:\n",
    "    \n",
    "    def removeDuplicates(self, nums):\n",
    "\n",
    "        # Initialize 1st pointer \n",
    "        \n",
    "        pointer_1st = 1\n",
    "\n",
    "        for pointer_2nd in range(1, len(nums)):\n",
    "\n",
    "            #Condition to Check for Unique Elements\n",
    "\n",
    "            if nums[pointer_2nd] != nums[pointer_1st]:\n",
    "\n",
    "                # Place the Unique Element and Increment position of 1st Pointer\n",
    "\n",
    "                nums[pointer_1st] = nums[pointer_2nd]\n",
    "\n",
    "                pointer_1st += 1\n",
    "\n",
    "        # Return count of unique elements\n",
    "        \n",
    "        return pointer_1st\n",
    "\n",
    "        "
   ]
  },
  {
   "cell_type": "code",
   "execution_count": 48,
   "id": "c3e09c47-87d9-4bfa-9712-6a17174f0fef",
   "metadata": {},
   "outputs": [
    {
     "name": "stdout",
     "output_type": "stream",
     "text": [
      "2\n",
      "7\n"
     ]
    }
   ],
   "source": [
    "X = Solution()\n",
    "\n",
    "print(X.removeDuplicates([1,1,2]))\n",
    "print(X.removeDuplicates([0,0,1,1,1,2,2,3,3,4]))"
   ]
  },
  {
   "cell_type": "markdown",
   "id": "78fc5d9c-bd1a-4f83-b920-1502e74783db",
   "metadata": {},
   "source": [
    "# 27. Remove Element"
   ]
  },
  {
   "cell_type": "code",
   "execution_count": 93,
   "id": "7244c51f-579c-46d8-bc91-f53e71b911eb",
   "metadata": {},
   "outputs": [],
   "source": [
    "# Given an integer array nums and an integer val, remove all occurrences of val in nums in-place. \n",
    "# The order of the elements may be changed. \n",
    "# Then return the number of elements in nums which are not equal to val.\n",
    "\n",
    "# Consider the number of elements in nums which are not equal to val be k, to get accepted, \n",
    "# you need to do the following things:\n",
    "\n",
    "# Change the array nums such that the first k elements of nums contain the elements which are not equal to val. \n",
    "# The remaining elements of nums are not important as well as the size of nums.\n",
    "# Return k.\n",
    "\n",
    "# Custom Judge:\n",
    "\n",
    "# The judge will test your solution with the following code:\n",
    "\n",
    "# int[] nums = [...]; // Input array\n",
    "# int val = ...; // Value to remove\n",
    "# int[] expectedNums = [...]; // The expected answer with correct length.\n",
    "#                             // It is sorted with no values equaling val.\n",
    "\n",
    "# int k = removeElement(nums, val); // Calls your implementation\n",
    "\n",
    "# assert k == expectedNums.length;\n",
    "# sort(nums, 0, k); // Sort the first k elements of nums\n",
    "# for (int i = 0; i < actualLength; i++) {\n",
    "#     assert nums[i] == expectedNums[i];\n",
    "# }\n",
    "# If all assertions pass, then your solution will be accepted.\n",
    "\n",
    " \n",
    "\n",
    "# Example 1:\n",
    "\n",
    "# Input: nums = [3,2,2,3], val = 3\n",
    "# Output: 2, nums = [2,2,_,_]\n",
    "# Explanation: Your function should return k = 2, with the first two elements of nums being 2.\n",
    "# It does not matter what you leave beyond the returned k (hence they are underscores).\n",
    "# Example 2:\n",
    "\n",
    "# Input: nums = [0,1,2,2,3,0,4,2], val = 2\n",
    "# Output: 5, nums = [0,1,4,0,3,_,_,_]\n",
    "# Explanation: Your function should return k = 5, with the first five elements of nums containing 0, 0, 1, 3, and 4.\n",
    "# Note that the five elements can be returned in any order.\n",
    "# It does not matter what you leave beyond the returned k (hence they are underscores).\n",
    " \n",
    "\n",
    "# Constraints:\n",
    "\n",
    "# 0 <= nums.length <= 100\n",
    "# 0 <= nums[i] <= 50\n",
    "# 0 <= val <= 100"
   ]
  },
  {
   "cell_type": "code",
   "execution_count": 61,
   "id": "06e35b4b-922c-4215-ad3b-eb118c17ec93",
   "metadata": {},
   "outputs": [],
   "source": [
    "class Solution:\n",
    "    \n",
    "    def removeElement(self, nums, val):\n",
    "\n",
    "        # Initialize 1st pointer \n",
    "        \n",
    "        pointer_1st = 0\n",
    "\n",
    "        for pointer_2nd in range(len(nums)):\n",
    "\n",
    "            # #Condition to Check for Specific Value\n",
    "\n",
    "            if nums[pointer_2nd] != val:\n",
    "\n",
    "                # Place the Specific Value and Increment position of 1st Pointer\n",
    "\n",
    "                nums[pointer_1st] = nums[pointer_2nd]\n",
    "\n",
    "                pointer_1st += 1\n",
    "\n",
    "        return pointer_1st\n",
    "        "
   ]
  },
  {
   "cell_type": "code",
   "execution_count": 63,
   "id": "30271b0a-1521-4aa4-a325-556983d6cfde",
   "metadata": {},
   "outputs": [
    {
     "name": "stdout",
     "output_type": "stream",
     "text": [
      "2\n",
      "8\n",
      "2\n",
      "5\n"
     ]
    }
   ],
   "source": [
    "X = Solution()\n",
    "\n",
    "print(X.removeElement([1,1,2],2))\n",
    "print(X.removeElement([0,0,1,1,1,2,2,3,3,4],2))\n",
    "print(X.removeElement([3,2,2,3],3))\n",
    "print(X.removeElement([0,1,2,2,3,0,4,2],2))"
   ]
  },
  {
   "cell_type": "markdown",
   "id": "f24b4bb0-9cac-4607-b7ef-0d40befa8e1f",
   "metadata": {},
   "source": [
    "# 35. Search Insert Position"
   ]
  },
  {
   "cell_type": "code",
   "execution_count": 87,
   "id": "2c11df1d-a7ac-46d2-bb27-54f8e5487e5e",
   "metadata": {},
   "outputs": [],
   "source": [
    "# Given a sorted array of distinct integers and a target value, return the index if the target is found. \n",
    "# If not, return the index where it would be if it were inserted in order.\n",
    "\n",
    "# You must write an algorithm with O(log n) runtime complexity.\n",
    "\n",
    " \n",
    "\n",
    "# Example 1:\n",
    "\n",
    "# Input: nums = [1,3,5,6], target = 5\n",
    "# Output: 2\n",
    "# Example 2:\n",
    "\n",
    "# Input: nums = [1,3,5,6], target = 2\n",
    "# Output: 1\n",
    "# Example 3:\n",
    "\n",
    "# Input: nums = [1,3,5,6], target = 7\n",
    "# Output: 4\n",
    " \n",
    "\n",
    "# Constraints:\n",
    "\n",
    "# 1 <= nums.length <= 10^4\n",
    "# -10^4 <= nums[i] <= 10^4\n",
    "# nums contains distinct values sorted in ascending order.\n",
    "# -10^4 <= target <= 10^4"
   ]
  },
  {
   "cell_type": "code",
   "execution_count": 66,
   "id": "46d2e177-6e3f-4b0c-b4ec-e49ed80c5463",
   "metadata": {},
   "outputs": [],
   "source": [
    "class Solution:\n",
    "    \n",
    "    def searchInsert(self, nums, target):\n",
    "\n",
    "        left_index = 0\n",
    "\n",
    "        right_index = len(nums) - 1\n",
    "\n",
    "        while left_index <= right_index:\n",
    "\n",
    "            mid_index = (left_index + right_index) // 2\n",
    "\n",
    "            if nums[mid_index] == target:\n",
    "\n",
    "                return mid_index\n",
    "\n",
    "            elif nums[mid_index] > target:\n",
    "\n",
    "                right_index = mid_index - 1\n",
    "\n",
    "            else:\n",
    "\n",
    "                left_index = mid_index + 1\n",
    "\n",
    "        return left_index\n",
    "        "
   ]
  },
  {
   "cell_type": "code",
   "execution_count": 68,
   "id": "95295433-5ed3-41e0-aea1-20189156289f",
   "metadata": {},
   "outputs": [
    {
     "name": "stdout",
     "output_type": "stream",
     "text": [
      "2\n",
      "1\n",
      "4\n"
     ]
    }
   ],
   "source": [
    "X = Solution()\n",
    "\n",
    "print(X.searchInsert([1,3,5,6],5))\n",
    "print(X.searchInsert([1,3,5,6],2))\n",
    "print(X.searchInsert([1,3,5,6],7))"
   ]
  },
  {
   "cell_type": "markdown",
   "id": "2e0a46bd-c0e2-40e7-8b6b-b32c9ea7c586",
   "metadata": {},
   "source": [
    "# 88. Merge Sort Array"
   ]
  },
  {
   "cell_type": "code",
   "execution_count": 89,
   "id": "dee64e86-2518-4be5-a815-9a2e728fb6ef",
   "metadata": {},
   "outputs": [],
   "source": [
    "# You are given two integer arrays nums1 and nums2, sorted in non-decreasing order, and two integers m and n, \n",
    "# representing the number of elements in nums1 and nums2 respectively.\n",
    "\n",
    "# Merge nums1 and nums2 into a single array sorted in non-decreasing order.\n",
    "\n",
    "# The final sorted array should not be returned by the function, but instead be stored inside the array nums1. \n",
    "# To accommodate this, nums1 has a length of m + n, where the first m elements denote the elements that should be merged, \n",
    "# and the last n elements are set to 0 and should be ignored. nums2 has a length of n.\n",
    "\n",
    " \n",
    "\n",
    "# Example 1:\n",
    "\n",
    "# Input: nums1 = [1,2,3,0,0,0], m = 3, nums2 = [2,5,6], n = 3\n",
    "# Output: [1,2,2,3,5,6]\n",
    "# Explanation: The arrays we are merging are [1,2,3] and [2,5,6].\n",
    "# The result of the merge is [1,2,2,3,5,6] with the underlined elements coming from nums1.\n",
    "# Example 2:\n",
    "\n",
    "# Input: nums1 = [1], m = 1, nums2 = [], n = 0\n",
    "# Output: [1]\n",
    "# Explanation: The arrays we are merging are [1] and [].\n",
    "# The result of the merge is [1].\n",
    "# Example 3:\n",
    "\n",
    "# Input: nums1 = [0], m = 0, nums2 = [1], n = 1\n",
    "# Output: [1]\n",
    "# Explanation: The arrays we are merging are [] and [1].\n",
    "# The result of the merge is [1].\n",
    "# Note that because m = 0, there are no elements in nums1. The 0 is only there to ensure the merge result can fit in nums1.\n",
    " \n",
    "\n",
    "# Constraints:\n",
    "\n",
    "# nums1.length == m + n\n",
    "# nums2.length == n\n",
    "# 0 <= m, n <= 200\n",
    "# 1 <= m + n <= 200\n",
    "# -109 <= nums1[i], nums2[j] <= 109\n",
    " \n",
    "\n",
    "# Follow up: Can you come up with an algorithm that runs in O(m + n) time?"
   ]
  },
  {
   "cell_type": "code",
   "execution_count": 75,
   "id": "969defa7-947a-4513-a676-fd8daea43267",
   "metadata": {},
   "outputs": [],
   "source": [
    "class Solution:\n",
    "    \n",
    "    def merge(self, nums1, m, nums2, n):\n",
    "        \"\"\"\n",
    "        Do not return anything, modify nums1 in-place instead.\n",
    "        \"\"\"\n",
    "\n",
    "        # Points to the last element in nums1\n",
    "        m_index = m - 1\n",
    "\n",
    "        # Points to the last element in nums2\n",
    "        n_index = n - 1\n",
    "\n",
    "        # Points to the last index in nums1\n",
    "        right_index = m + n - 1\n",
    "\n",
    "        while n_index >= 0:\n",
    "\n",
    "            \n",
    "            # Check if element at m_index in nums1 is greater than the element at n_index in nums2\n",
    "            if m_index >= 0 and nums1[m_index] > nums2[n_index]:\n",
    "\n",
    "                nums1[right_index] = nums1[m_index]\n",
    "\n",
    "                m_index -= 1\n",
    "\n",
    "            # Check if element at n_index in nums2 is greater than the element at m_index in nums1\n",
    "            else:\n",
    "\n",
    "                nums1[right_index] = nums2[n_index]\n",
    "\n",
    "                n_index -= 1\n",
    "\n",
    "            right_index -= 1\n",
    "\n",
    "        return nums1\n",
    "        \n"
   ]
  },
  {
   "cell_type": "code",
   "execution_count": 77,
   "id": "d1119af7-47b8-4f39-a134-5366878ed8ef",
   "metadata": {},
   "outputs": [
    {
     "name": "stdout",
     "output_type": "stream",
     "text": [
      "[1, 2, 2, 3, 5, 6]\n",
      "[1]\n",
      "[1]\n"
     ]
    }
   ],
   "source": [
    "X = Solution()\n",
    "\n",
    "print(X.merge([1,2,3,0,0,0], 3, [2,5,6], 3))\n",
    "print(X.merge([1], 1, [], 0))\n",
    "print(X.merge([0], 0, [1], 1))"
   ]
  },
  {
   "cell_type": "code",
   "execution_count": null,
   "id": "295652b7-9ac5-48df-9cc2-4a3d4e45c018",
   "metadata": {},
   "outputs": [],
   "source": []
  }
 ],
 "metadata": {
  "kernelspec": {
   "display_name": "Python 3 (ipykernel)",
   "language": "python",
   "name": "python3"
  },
  "language_info": {
   "codemirror_mode": {
    "name": "ipython",
    "version": 3
   },
   "file_extension": ".py",
   "mimetype": "text/x-python",
   "name": "python",
   "nbconvert_exporter": "python",
   "pygments_lexer": "ipython3",
   "version": "3.12.4"
  }
 },
 "nbformat": 4,
 "nbformat_minor": 5
}
